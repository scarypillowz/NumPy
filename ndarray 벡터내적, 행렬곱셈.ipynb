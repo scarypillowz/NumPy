{
 "cells": [
  {
   "cell_type": "markdown",
   "id": "1182a631",
   "metadata": {},
   "source": [
    "# 벡터의 내적과 행렬의 곱셈"
   ]
  },
  {
   "cell_type": "code",
   "execution_count": 1,
   "id": "62ef0d84",
   "metadata": {},
   "outputs": [],
   "source": [
    "import numpy as np"
   ]
  },
  {
   "cell_type": "markdown",
   "id": "47ed3498",
   "metadata": {},
   "source": [
    "## ✅ 벡터의 내적"
   ]
  },
  {
   "cell_type": "code",
   "execution_count": 2,
   "id": "f2ce24d9",
   "metadata": {},
   "outputs": [
    {
     "name": "stdout",
     "output_type": "stream",
     "text": [
      "u = [4 4 1 3]\n",
      "v = [1 3 4 3]\n",
      "\n",
      "sum 메서드 사용: 29\n",
      "벡터의 내적:  29\n"
     ]
    }
   ],
   "source": [
    "u = np.random.randint(0, 5, (4, ))\n",
    "v = np.random.randint(0, 5, (4, ))\n",
    "\n",
    "print('u =', u)\n",
    "print('v =', v)\n",
    "\n",
    "print('\\nsum 메서드 사용:', np.sum(u*v))\n",
    "print('벡터의 내적: ', np.dot(u, v))"
   ]
  },
  {
   "cell_type": "code",
   "execution_count": 3,
   "id": "35ae8426",
   "metadata": {},
   "outputs": [
    {
     "name": "stdout",
     "output_type": "stream",
     "text": [
      "x = [1 0 0 0]\n",
      "w = [1 0 0 0]\n",
      "b = 3\n",
      "\n",
      "np.dot(x, w) + b = 4\n"
     ]
    }
   ],
   "source": [
    "# 딥러닝 예시\n",
    "x = np.random.randint(0, 5, (4, ))\n",
    "w = x = np.random.randint(0, 5, (4, ))\n",
    "b = np.random.randint(0, 5, ())\n",
    "print('x =', x)\n",
    "print('w =', w)\n",
    "print('b =', b)\n",
    "\n",
    "res = np.dot(x, w) + b\n",
    "print('\\nnp.dot(x, w) + b =', res)"
   ]
  },
  {
   "cell_type": "markdown",
   "id": "c5741379",
   "metadata": {},
   "source": [
    "## ✅ 벡터와 행렬의 곱셈"
   ]
  },
  {
   "cell_type": "code",
   "execution_count": 4,
   "id": "de7644d4",
   "metadata": {},
   "outputs": [
    {
     "name": "stdout",
     "output_type": "stream",
     "text": [
      "M =\n",
      " [[2 3 4 3]\n",
      " [1 1 1 0]\n",
      " [1 0 1 2]]\n",
      "u = [0 2 3 3]\n",
      "\n",
      "행렬 M과 벡터 u의 곱:\n",
      " [27  5  9]\n"
     ]
    }
   ],
   "source": [
    "M = np.random.randint(0, 5, (3, 4))\n",
    "u = np.random.randint(0, 5, (4, ))\n",
    "print('M =\\n', M)\n",
    "print('u =', u)\n",
    "\n",
    "vec_mat_mul = np.matmul(M, u)\n",
    "print('\\n행렬 M과 벡터 u의 곱:\\n', vec_mat_mul)"
   ]
  },
  {
   "cell_type": "markdown",
   "id": "c43dbea6",
   "metadata": {},
   "source": [
    "## ✅ 행렬의 곱셈"
   ]
  },
  {
   "cell_type": "code",
   "execution_count": 5,
   "id": "cbe1251b",
   "metadata": {},
   "outputs": [
    {
     "name": "stdout",
     "output_type": "stream",
     "text": [
      "M =\n",
      " [[1 0 0 4]\n",
      " [1 0 0 4]\n",
      " [1 2 2 0]]\n",
      "N =\n",
      " [[1 2 2 3 3]\n",
      " [0 1 1 0 3]\n",
      " [1 0 3 0 2]\n",
      " [3 3 1 4 3]]\n",
      "\n",
      "행렬 M과 N의 곱:\n",
      " [[13 14  6 19 15]\n",
      " [13 14  6 19 15]\n",
      " [ 3  4 10  3 13]]\n"
     ]
    }
   ],
   "source": [
    "M = np.random.randint(0, 5, (3, 4))\n",
    "N = np.random.randint(0, 5, (4, 5))\n",
    "print('M =\\n', M)\n",
    "print('N =\\n', N)\n",
    "\n",
    "mat_mul = np.matmul(M, N)\n",
    "print('\\n행렬 M과 N의 곱:\\n', mat_mul)"
   ]
  },
  {
   "cell_type": "code",
   "execution_count": 6,
   "id": "db83fa73",
   "metadata": {},
   "outputs": [
    {
     "name": "stdout",
     "output_type": "stream",
     "text": [
      "X =\n",
      " [[3 3 3 2]\n",
      " [1 4 3 3]\n",
      " [2 3 2 0]]\n",
      "W =\n",
      " [[0 1 4 4 3]\n",
      " [4 1 2 1 3]\n",
      " [1 1 4 0 4]\n",
      " [3 2 1 1 3]]\n",
      "b =\n",
      " [3 0 3 0 4]\n",
      "\n",
      "np.matmul(X, W) + b =\n",
      " [[24 13 35 17 40]\n",
      " [31 14 30 11 40]\n",
      " [17  7 25 11 27]]\n"
     ]
    }
   ],
   "source": [
    "# 딥러닝 예시\n",
    "X = np.random.randint(0, 5, (3, 4))\n",
    "W = np.random.randint(0, 5, (4, 5))\n",
    "b = np.random.randint(0, 5, (5, ))\n",
    "print('X =\\n', X)\n",
    "print('W =\\n', W)\n",
    "print('b =\\n', b)\n",
    "\n",
    "res = np.matmul(X, W) + b\n",
    "print('\\nnp.matmul(X, W) + b =\\n', res)"
   ]
  }
 ],
 "metadata": {
  "kernelspec": {
   "display_name": "Python 3 (ipykernel)",
   "language": "python",
   "name": "python3"
  },
  "language_info": {
   "codemirror_mode": {
    "name": "ipython",
    "version": 3
   },
   "file_extension": ".py",
   "mimetype": "text/x-python",
   "name": "python",
   "nbconvert_exporter": "python",
   "pygments_lexer": "ipython3",
   "version": "3.10.9"
  }
 },
 "nbformat": 4,
 "nbformat_minor": 5
}
