{
 "cells": [
  {
   "cell_type": "markdown",
   "id": "b6b0c9b6",
   "metadata": {},
   "source": [
    "# ✂️ 넘파이 ndarray 객체 합곱차, 통계값"
   ]
  },
  {
   "cell_type": "code",
   "execution_count": 1,
   "id": "38957649",
   "metadata": {},
   "outputs": [],
   "source": [
    "import numpy as np"
   ]
  },
  {
   "cell_type": "markdown",
   "id": "ca540eee",
   "metadata": {},
   "source": [
    "## ✅ 합곱차"
   ]
  },
  {
   "cell_type": "markdown",
   "id": "e998bc9c",
   "metadata": {},
   "source": [
    "### cumsum\n",
    "텐서의 연산 보다는 시각화할 때 주로 사용"
   ]
  },
  {
   "cell_type": "code",
   "execution_count": 2,
   "id": "684b6f10",
   "metadata": {},
   "outputs": [
    {
     "name": "stdout",
     "output_type": "stream",
     "text": [
      "a = [0 1 2 3 4]\n",
      "np.cumsum(a) = [ 0  1  3  6 10]\n"
     ]
    }
   ],
   "source": [
    "a = np.arange(5)\n",
    "print('a =', a)\n",
    "\n",
    "cumsum = np.cumsum(a)\n",
    "print('np.cumsum(a) =', cumsum)"
   ]
  },
  {
   "cell_type": "code",
   "execution_count": 3,
   "id": "51a10546",
   "metadata": {},
   "outputs": [
    {
     "name": "stdout",
     "output_type": "stream",
     "text": [
      "a =\n",
      " [[0 1 2]\n",
      " [3 4 5]\n",
      " [6 7 8]]\n",
      "\n",
      "np.cumsum(a) = [ 0  1  3  6 10 15 21 28 36]\n",
      "shape = (9,)\n"
     ]
    }
   ],
   "source": [
    "a = np.arange(9).reshape((3, 3))\n",
    "print('a =\\n', a)\n",
    "\n",
    "cumsum = np.cumsum(a)\n",
    "print('\\nnp.cumsum(a) =', cumsum)\n",
    "print('shape =', cumsum.shape)"
   ]
  },
  {
   "cell_type": "code",
   "execution_count": 4,
   "id": "4e1b859b",
   "metadata": {},
   "outputs": [
    {
     "name": "stdout",
     "output_type": "stream",
     "text": [
      "a =\n",
      " [[ 0  1  2  3]\n",
      " [ 4  5  6  7]\n",
      " [ 8  9 10 11]]\n",
      "\n",
      "np.cumsum(a, axis=0) =\n",
      " [[ 0  1  2  3]\n",
      " [ 4  6  8 10]\n",
      " [12 15 18 21]]\n",
      "shape = (3, 4)\n"
     ]
    }
   ],
   "source": [
    "a = np.arange(12).reshape((3, -1))\n",
    "print('a =\\n', a)\n",
    "\n",
    "cumsum = np.cumsum(a, axis=0)\n",
    "print('\\nnp.cumsum(a, axis=0) =\\n', cumsum)\n",
    "print('shape =', cumsum.shape)"
   ]
  },
  {
   "cell_type": "code",
   "execution_count": 5,
   "id": "fc0ab16d",
   "metadata": {},
   "outputs": [
    {
     "name": "stdout",
     "output_type": "stream",
     "text": [
      "a =\n",
      " [[ 0  1  2  3]\n",
      " [ 4  5  6  7]\n",
      " [ 8  9 10 11]]\n",
      "\n",
      "np.cumsum(a, axis=1) =\n",
      " [[ 0  1  3  6]\n",
      " [ 4  9 15 22]\n",
      " [ 8 17 27 38]]\n",
      "shape = (3, 4)\n"
     ]
    }
   ],
   "source": [
    "a = np.arange(12).reshape((3, -1))\n",
    "print('a =\\n', a)\n",
    "\n",
    "cumsum = np.cumsum(a, axis=1)\n",
    "print('\\nnp.cumsum(a, axis=1) =\\n', cumsum)\n",
    "print('shape =', cumsum.shape)"
   ]
  },
  {
   "cell_type": "markdown",
   "id": "18a2e021",
   "metadata": {},
   "source": [
    "---"
   ]
  },
  {
   "cell_type": "code",
   "execution_count": 6,
   "id": "b2e652f2",
   "metadata": {},
   "outputs": [
    {
     "name": "stdout",
     "output_type": "stream",
     "text": [
      "a = [[[ 0  1  2  3]\n",
      "  [ 4  5  6  7]\n",
      "  [ 8  9 10 11]]\n",
      "\n",
      " [[12 13 14 15]\n",
      "  [16 17 18 19]\n",
      "  [20 21 22 23]]]\n",
      "\n",
      "np.cumsum(a)[::-1] =\n",
      " [276 253 231 210 190 171 153 136 120 105  91  78  66  55  45  36  28  21\n",
      "  15  10   6   3   1   0]\n"
     ]
    }
   ],
   "source": [
    "a = np.arange(2*3*4).reshape((2, 3, 4))\n",
    "print('a =', a)\n",
    "print('\\nnp.cumsum(a)[::-1] =\\n', np.cumsum(a)[::-1])"
   ]
  },
  {
   "cell_type": "code",
   "execution_count": 7,
   "id": "df1f3dee",
   "metadata": {},
   "outputs": [
    {
     "name": "stdout",
     "output_type": "stream",
     "text": [
      "a =\n",
      " [[ 0  1  2  3]\n",
      " [ 4  5  6  7]\n",
      " [ 8  9 10 11]]\n",
      "\n",
      "np.cumsum(a, axis=0)[::-1, :] =\n",
      " [[12 15 18 21]\n",
      " [ 4  6  8 10]\n",
      " [ 0  1  2  3]]\n",
      "shape = (3, 4)\n"
     ]
    }
   ],
   "source": [
    "a = np.arange(12).reshape((3, -1))\n",
    "print('a =\\n', a)\n",
    "\n",
    "cumsum = np.cumsum(a, axis=0)[::-1, :]\n",
    "print('\\nnp.cumsum(a, axis=0)[::-1, :] =\\n', cumsum)\n",
    "print('shape =', cumsum.shape)"
   ]
  },
  {
   "cell_type": "code",
   "execution_count": 8,
   "id": "6e5d25cf",
   "metadata": {},
   "outputs": [
    {
     "name": "stdout",
     "output_type": "stream",
     "text": [
      "a =\n",
      " [[ 0  1  2  3]\n",
      " [ 4  5  6  7]\n",
      " [ 8  9 10 11]]\n",
      "\n",
      "np.cumsum(a, axis=1)[:, ::-1] =\n",
      " [[ 6  3  1  0]\n",
      " [22 15  9  4]\n",
      " [38 27 17  8]]\n",
      "shape = (3, 4)\n"
     ]
    }
   ],
   "source": [
    "a = np.arange(12).reshape((3, -1))\n",
    "print('a =\\n', a)\n",
    "\n",
    "cumsum = np.cumsum(a, axis=1)[:, ::-1]\n",
    "print('\\nnp.cumsum(a, axis=1)[:, ::-1] =\\n', cumsum)\n",
    "print('shape =', cumsum.shape)"
   ]
  },
  {
   "cell_type": "markdown",
   "id": "1716007a",
   "metadata": {},
   "source": [
    "### prod, cumprod"
   ]
  },
  {
   "cell_type": "code",
   "execution_count": 9,
   "id": "fd1941fd",
   "metadata": {},
   "outputs": [
    {
     "name": "stdout",
     "output_type": "stream",
     "text": [
      "a = [1 2 3 4]\n",
      "np.prod(a) = 24\n",
      "np.cumprod(a) = [ 1  2  6 24]\n"
     ]
    }
   ],
   "source": [
    "a = np.arange(1, 5)\n",
    "print('a =', a)\n",
    "\n",
    "prod = np.prod(a)\n",
    "print('np.prod(a) =', prod)\n",
    "\n",
    "cumprod = np.cumprod(a)\n",
    "print('np.cumprod(a) =', cumprod)"
   ]
  },
  {
   "cell_type": "code",
   "execution_count": 10,
   "id": "94f179e5",
   "metadata": {},
   "outputs": [
    {
     "name": "stdout",
     "output_type": "stream",
     "text": [
      "a = [1 2 3 4]\n",
      "np.prod(a) = 24\n",
      "np.cumprod(a)[::-1] = [24  6  2  1]\n"
     ]
    }
   ],
   "source": [
    "a = np.arange(1, 5)\n",
    "print('a =', a)\n",
    "\n",
    "prod = np.prod(a)\n",
    "print('np.prod(a) =', prod)\n",
    "\n",
    "cumprod = np.cumprod(a)[::-1]\n",
    "print('np.cumprod(a)[::-1] =', cumprod)"
   ]
  },
  {
   "cell_type": "code",
   "execution_count": 11,
   "id": "fdffbd7f",
   "metadata": {},
   "outputs": [
    {
     "name": "stdout",
     "output_type": "stream",
     "text": [
      "a =\n",
      " [[ 1  2  3  4]\n",
      " [ 5  6  7  8]\n",
      " [ 9 10 11 12]]\n",
      "\n",
      "np.prod(a, axis=0) =\n",
      " [ 45 120 231 384]\n",
      "\n",
      "np.cumprod(a, axis=0) =\n",
      " [[  1   2   3   4]\n",
      " [  5  12  21  32]\n",
      " [ 45 120 231 384]]\n"
     ]
    }
   ],
   "source": [
    "a = np.arange(1, 13).reshape((3, 4))\n",
    "print('a =\\n', a)\n",
    "\n",
    "prod = np.prod(a, axis=0)\n",
    "print('\\nnp.prod(a, axis=0) =\\n', prod)\n",
    "\n",
    "cumprod = np.cumprod(a, axis=0)\n",
    "print('\\nnp.cumprod(a, axis=0) =\\n', cumprod)"
   ]
  },
  {
   "cell_type": "markdown",
   "id": "8a07d708",
   "metadata": {},
   "source": [
    "### diff\n",
    "- 길이가 하나 감소한다.\n",
    "- 미분식에서 사용 → f(n+1) - f(n)"
   ]
  },
  {
   "cell_type": "code",
   "execution_count": 12,
   "id": "1e0bffb7",
   "metadata": {},
   "outputs": [
    {
     "name": "stdout",
     "output_type": "stream",
     "text": [
      "a = [4 1 5 7 2]\n",
      "np.diff(a) = [-3  4  2 -5]\n"
     ]
    }
   ],
   "source": [
    "a = np.random.randint(0, 10, (5, ))\n",
    "print('a =', a)\n",
    "\n",
    "diff = np.diff(a)\n",
    "print('np.diff(a) =', diff)"
   ]
  },
  {
   "cell_type": "code",
   "execution_count": 13,
   "id": "3c7c0890",
   "metadata": {},
   "outputs": [
    {
     "name": "stdout",
     "output_type": "stream",
     "text": [
      "a =\n",
      " [[2 1 0 5]\n",
      " [5 7 8 6]\n",
      " [2 6 2 7]\n",
      " [9 6 9 9]]\n",
      "\n",
      "np.diff(a, axis=0) =\n",
      " [[ 3  6  8  1]\n",
      " [-3 -1 -6  1]\n",
      " [ 7  0  7  2]]\n"
     ]
    }
   ],
   "source": [
    "# 행이 하나 감소\n",
    "a = np.random.randint(0, 10, (4, 4))\n",
    "print('a =\\n', a)\n",
    "\n",
    "diff = np.diff(a, axis=0)\n",
    "print('\\nnp.diff(a, axis=0) =\\n', diff)"
   ]
  },
  {
   "cell_type": "code",
   "execution_count": 14,
   "id": "299d0da4",
   "metadata": {},
   "outputs": [
    {
     "name": "stdout",
     "output_type": "stream",
     "text": [
      "a =\n",
      " [[7 4 2 3]\n",
      " [3 0 3 6]\n",
      " [1 4 7 7]\n",
      " [6 3 0 3]]\n",
      "\n",
      "np.diff(a, axis=1) =\n",
      " [[-3 -2  1]\n",
      " [-3  3  3]\n",
      " [ 3  3  0]\n",
      " [-3 -3  3]]\n"
     ]
    }
   ],
   "source": [
    "# 열이 하나 감소\n",
    "a = np.random.randint(0, 10, (4, 4))\n",
    "print('a =\\n', a)\n",
    "\n",
    "diff = np.diff(a, axis=1)\n",
    "print('\\nnp.diff(a, axis=1) =\\n', diff)"
   ]
  },
  {
   "cell_type": "markdown",
   "id": "f112aac8",
   "metadata": {},
   "source": [
    "## ✅ 통계값"
   ]
  },
  {
   "cell_type": "markdown",
   "id": "863c343d",
   "metadata": {},
   "source": [
    "### mean\n",
    "평균의 사용 빈도는 높다."
   ]
  },
  {
   "cell_type": "code",
   "execution_count": 15,
   "id": "d54e49fc",
   "metadata": {},
   "outputs": [
    {
     "name": "stdout",
     "output_type": "stream",
     "text": [
      "a =\n",
      " [[1 1 2 0]\n",
      " [0 1 1 1]\n",
      " [2 3 3 3]]\n",
      "np.mean(a) = 1.5\n",
      "np.mean(a, axis=0) =\n",
      " [1.         1.66666667 2.         1.33333333]\n",
      "np.mean(a, axis=1) =\n",
      " [1.   0.75 2.75]\n"
     ]
    }
   ],
   "source": [
    "a = np.random.randint(0, 5, (3, 4))\n",
    "print('a =\\n', a)\n",
    "\n",
    "mean = np.mean(a)\n",
    "print('np.mean(a) =', mean)\n",
    "\n",
    "mean2 = np.mean(a, axis=0)\n",
    "print('np.mean(a, axis=0) =\\n', mean2)\n",
    "\n",
    "mean3 = np.mean(a, axis=1)\n",
    "print('np.mean(a, axis=1) =\\n', mean3)"
   ]
  },
  {
   "cell_type": "markdown",
   "id": "6ac51268",
   "metadata": {},
   "source": [
    "### median"
   ]
  },
  {
   "cell_type": "code",
   "execution_count": 16,
   "id": "353539da",
   "metadata": {},
   "outputs": [
    {
     "name": "stdout",
     "output_type": "stream",
     "text": [
      "x = [0 1 2 3 4 5 6 7 8]\n",
      "np.median(x) = 4.0\n"
     ]
    }
   ],
   "source": [
    "# 홀수\n",
    "x = np.arange(9)\n",
    "print('x =', x)\n",
    "\n",
    "median = np.median(x)\n",
    "print('np.median(x) =', median)"
   ]
  },
  {
   "cell_type": "code",
   "execution_count": 17,
   "id": "1b4be501",
   "metadata": {},
   "outputs": [
    {
     "name": "stdout",
     "output_type": "stream",
     "text": [
      "x = [0 1 2 3 4 5 6 7 8 9]\n",
      "np.median(x) = 4.5\n"
     ]
    }
   ],
   "source": [
    "# 짝수\n",
    "x = np.arange(10)\n",
    "print('x =', x)\n",
    "\n",
    "median = np.median(x)\n",
    "print('np.median(x) =', median)"
   ]
  },
  {
   "cell_type": "markdown",
   "id": "56b5fcc8",
   "metadata": {},
   "source": [
    "### var, std\n",
    "표준편차(std)의 사용 빈도는 높다."
   ]
  },
  {
   "cell_type": "code",
   "execution_count": 18,
   "id": "5f2540de",
   "metadata": {},
   "outputs": [
    {
     "name": "stdout",
     "output_type": "stream",
     "text": [
      "var = 19.493118867167944\n",
      "std = 4.415101229549323\n"
     ]
    }
   ],
   "source": [
    "scores = np.random.normal(\n",
    "    loc=10,\n",
    "    scale=5,\n",
    "    size=(100, )\n",
    ")\n",
    "\n",
    "var = scores.var()\n",
    "std = scores.std()\n",
    "\n",
    "print('var =', var)\n",
    "print('std =', std)"
   ]
  },
  {
   "cell_type": "markdown",
   "id": "4e1614b7",
   "metadata": {},
   "source": [
    "### 표준화"
   ]
  },
  {
   "cell_type": "code",
   "execution_count": 19,
   "id": "54b18a77",
   "metadata": {},
   "outputs": [
    {
     "name": "stdout",
     "output_type": "stream",
     "text": [
      "평균 before 표준화 = [50.680626 60.45018  71.18604 ]\n",
      "표준편차 before 표준화 = [2.8257637 5.1551867 9.249413 ]\n",
      "\n",
      "평균 after 표준화 = [ 1.718998e-06 -5.352497e-07 -7.176399e-07]\n",
      "표준편차 after 표준화 = [1. 1. 1.]\n"
     ]
    }
   ],
   "source": [
    "means = [50, 60, 70]\n",
    "stds = [3, 5, 10]\n",
    "n_student, n_class = 100, 3\n",
    "\n",
    "scores = np.random.normal(\n",
    "    loc=means,\n",
    "    scale=stds,\n",
    "    size=(n_student, n_class)\n",
    ")\n",
    "scores = scores.astype(np.float32)\n",
    "\n",
    "means = scores.mean(axis=0)\n",
    "stds = scores.std(axis=0)\n",
    "\n",
    "print('평균 before 표준화 =', means)\n",
    "print('표준편차 before 표준화 =', stds)\n",
    "\n",
    "scores_std = (scores - means) / stds\n",
    "\n",
    "means_std = scores_std.mean(axis=0)\n",
    "stds_std = scores_std.std(axis=0)\n",
    "\n",
    "print('\\n평균 after 표준화 =', means_std)\n",
    "print('표준편차 after 표준화 =', stds_std)\n"
   ]
  }
 ],
 "metadata": {
  "kernelspec": {
   "display_name": "Python 3 (ipykernel)",
   "language": "python",
   "name": "python3"
  },
  "language_info": {
   "codemirror_mode": {
    "name": "ipython",
    "version": 3
   },
   "file_extension": ".py",
   "mimetype": "text/x-python",
   "name": "python",
   "nbconvert_exporter": "python",
   "pygments_lexer": "ipython3",
   "version": "3.10.9"
  }
 },
 "nbformat": 4,
 "nbformat_minor": 5
}
