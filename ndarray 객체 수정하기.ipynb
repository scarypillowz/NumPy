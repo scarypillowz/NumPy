{
 "cells": [
  {
   "cell_type": "markdown",
   "id": "b2aa2f81",
   "metadata": {},
   "source": [
    "# 🔮 넘파이 ndarray 객체 수정하기\n",
    "ndarray 객체 모양 바꾸기"
   ]
  },
  {
   "cell_type": "code",
   "execution_count": 1,
   "id": "6bf8cdba",
   "metadata": {},
   "outputs": [],
   "source": [
    "import numpy as np"
   ]
  },
  {
   "cell_type": "markdown",
   "id": "ac36ecf1",
   "metadata": {},
   "source": [
    "## 1) np.reshape\n",
    "ndarray.reshape"
   ]
  },
  {
   "cell_type": "code",
   "execution_count": 2,
   "id": "4b1b5f5c",
   "metadata": {},
   "outputs": [
    {
     "name": "stdout",
     "output_type": "stream",
     "text": [
      "original ndarray: \n",
      " [0 1 2 3 4 5]\n",
      "reshaped ndarray: \n",
      " [[0 1 2]\n",
      " [3 4 5]]\n"
     ]
    }
   ],
   "source": [
    "a = np.arange(6)\n",
    "b = np.reshape(a, (2, 3))\n",
    "\n",
    "print('original ndarray: \\n', a)\n",
    "print('reshaped ndarray: \\n', b)"
   ]
  },
  {
   "cell_type": "code",
   "execution_count": 3,
   "id": "f0f57c18",
   "metadata": {},
   "outputs": [
    {
     "name": "stdout",
     "output_type": "stream",
     "text": [
      "original ndarray: \n",
      " [ 0  1  2  3  4  5  6  7  8  9 10 11 12 13 14 15 16 17 18 19 20 21 22 23]\n",
      "reshaped ndarray: \n",
      " [[[ 0  1  2  3]\n",
      "  [ 4  5  6  7]\n",
      "  [ 8  9 10 11]]\n",
      "\n",
      " [[12 13 14 15]\n",
      "  [16 17 18 19]\n",
      "  [20 21 22 23]]]\n"
     ]
    }
   ],
   "source": [
    "a = np.arange(24)\n",
    "b = np.reshape(a, (2, 3, 4))\n",
    "\n",
    "print('original ndarray: \\n', a)\n",
    "print('reshaped ndarray: \\n', b)"
   ]
  },
  {
   "cell_type": "code",
   "execution_count": 4,
   "id": "e22a3fb1",
   "metadata": {},
   "outputs": [
    {
     "name": "stdout",
     "output_type": "stream",
     "text": [
      "original ndarray: \n",
      " [0 1 2 3 4 5]\n",
      "reshaped ndarray: \n",
      " [[0 1 2]\n",
      " [3 4 5]]\n"
     ]
    }
   ],
   "source": [
    "# ndarray.reshape\n",
    "a = np.arange(6)\n",
    "b = a.reshape((2, 3))\n",
    "\n",
    "print('original ndarray: \\n', a)\n",
    "print('reshaped ndarray: \\n', b)"
   ]
  },
  {
   "cell_type": "code",
   "execution_count": 5,
   "id": "37668967",
   "metadata": {},
   "outputs": [
    {
     "data": {
      "text/plain": [
       "58.5"
      ]
     },
     "execution_count": 5,
     "metadata": {},
     "output_type": "execute_result"
    }
   ],
   "source": [
    "# 가독성 보장\n",
    "a = np.random.randint(0, 100, (100, ))\n",
    "a.reshape((20, 5)).mean(axis=0).max()"
   ]
  },
  {
   "cell_type": "markdown",
   "id": "f8289e57",
   "metadata": {},
   "source": [
    "### -1 인수로 전달하기\n",
    "자동으로 나머지 차원의 길이를 계산한다."
   ]
  },
  {
   "cell_type": "code",
   "execution_count": 6,
   "id": "560a3107",
   "metadata": {},
   "outputs": [
    {
     "name": "stdout",
     "output_type": "stream",
     "text": [
      "first ndarray:\n",
      " [[ 0  1  2  3  4  5]\n",
      " [ 6  7  8  9 10 11]]\n",
      "second ndarray:\n",
      " [[ 0  1  2  3]\n",
      " [ 4  5  6  7]\n",
      " [ 8  9 10 11]]\n",
      "third ndarray:\n",
      " [[ 0  1  2]\n",
      " [ 3  4  5]\n",
      " [ 6  7  8]\n",
      " [ 9 10 11]]\n"
     ]
    }
   ],
   "source": [
    "a = np.arange(12)\n",
    "\n",
    "print('first ndarray:\\n', a.reshape(2, -1))\n",
    "print('second ndarray:\\n', a.reshape(3, -1))\n",
    "print('third ndarray:\\n', a.reshape(4, -1))"
   ]
  },
  {
   "cell_type": "code",
   "execution_count": 7,
   "id": "65f0187f",
   "metadata": {},
   "outputs": [
    {
     "name": "stdout",
     "output_type": "stream",
     "text": [
      "(2, 3, 4)\n",
      "(2, 6, 2)\n"
     ]
    }
   ],
   "source": [
    "# 3차원\n",
    "a = np.arange(24)\n",
    "print(a.reshape(2, 3, -1).shape)\n",
    "print(a.reshape(2, 6, -1).shape)"
   ]
  },
  {
   "cell_type": "code",
   "execution_count": 8,
   "id": "8623cf6b",
   "metadata": {},
   "outputs": [
    {
     "name": "stdout",
     "output_type": "stream",
     "text": [
      "a ndarray:\n",
      "[[4 6]\n",
      " [6 2]]\n",
      "row_vec ndarray:\n",
      "[[4 6 6 2]]\n",
      "(1, 4)\n",
      "col_vec ndarray:\n",
      "[[4]\n",
      " [6]\n",
      " [6]\n",
      " [2]]\n",
      "(4, 1)\n"
     ]
    }
   ],
   "source": [
    "a = np.random.randint(0, 10, size=(2, 2))\n",
    "print('a ndarray:')\n",
    "print(a)\n",
    "\n",
    "# 행 벡터\n",
    "row_vec = a.reshape(1, -1)\n",
    "print('row_vec ndarray:')\n",
    "print(row_vec)\n",
    "print(row_vec.shape)\n",
    "\n",
    "# 열 벡터\n",
    "col_vec = a.reshape(-1, 1)\n",
    "print('col_vec ndarray:')\n",
    "print(col_vec)\n",
    "print(col_vec.shape)"
   ]
  },
  {
   "cell_type": "markdown",
   "id": "f9a5fb31",
   "metadata": {},
   "source": [
    "## 2) np.resize\n",
    "- 원소의 개수를 바꾼다. 부족분은 반복해서 추가한다.\n",
    "- ndarray.resize (inplace)"
   ]
  },
  {
   "cell_type": "code",
   "execution_count": 9,
   "id": "03655338",
   "metadata": {},
   "outputs": [
    {
     "name": "stdout",
     "output_type": "stream",
     "text": [
      "original ndarray: \n",
      " [0 1 2 3 4 5]\n",
      "resized ndarray: \n",
      " [[0 1 2]\n",
      " [3 4 5]]\n"
     ]
    }
   ],
   "source": [
    "a = np.arange(6)\n",
    "b = np.resize(a, (2, 3))\n",
    "\n",
    "print('original ndarray: \\n', a)\n",
    "print('resized ndarray: \\n', b)"
   ]
  },
  {
   "cell_type": "code",
   "execution_count": 10,
   "id": "efb3c4ef",
   "metadata": {},
   "outputs": [
    {
     "name": "stdout",
     "output_type": "stream",
     "text": [
      "original ndarray: \n",
      " [0 1 2 3 4 5]\n",
      "resized ndarray: \n",
      " [0 1 2 3 4 5 0 1 2]\n"
     ]
    }
   ],
   "source": [
    "a = np.arange(6)\n",
    "b = np.resize(a, (9, ))\n",
    "\n",
    "print('original ndarray: \\n', a)\n",
    "print('resized ndarray: \\n', b)"
   ]
  },
  {
   "cell_type": "code",
   "execution_count": 11,
   "id": "406f7228",
   "metadata": {},
   "outputs": [
    {
     "name": "stdout",
     "output_type": "stream",
     "text": [
      "original ndarray: \n",
      " [0 1 2 3 4 5 6 7 8]\n",
      "resized ndarray: \n",
      " [[0 1]\n",
      " [2 3]]\n"
     ]
    }
   ],
   "source": [
    "a = np.arange(9)\n",
    "b = np.resize(a, (2, 2))\n",
    "\n",
    "print('original ndarray: \\n', a)\n",
    "print('resized ndarray: \\n', b)"
   ]
  },
  {
   "cell_type": "code",
   "execution_count": 12,
   "id": "1256106f",
   "metadata": {},
   "outputs": [
    {
     "name": "stdout",
     "output_type": "stream",
     "text": [
      "original ndarray: \n",
      " [0 1 2 3 4 5]\n",
      "resized ndarray: \n",
      " [[0 1 2 3]\n",
      " [4 5 0 1]\n",
      " [2 3 4 5]]\n"
     ]
    }
   ],
   "source": [
    "# 2차원\n",
    "a = np.arange(6)\n",
    "b = np.resize(a, (3, 4))\n",
    "\n",
    "print('original ndarray: \\n', a)\n",
    "print('resized ndarray: \\n', b)"
   ]
  },
  {
   "cell_type": "code",
   "execution_count": 13,
   "id": "bf019119",
   "metadata": {},
   "outputs": [
    {
     "name": "stdout",
     "output_type": "stream",
     "text": [
      "original ndarray: \n",
      " [0 1 2 3 4 5 6 7 8]\n",
      "resized ndarray: \n",
      " [[[0 1 2]\n",
      "  [3 4 5]\n",
      "  [6 7 8]]\n",
      "\n",
      " [[0 1 2]\n",
      "  [3 4 5]\n",
      "  [6 7 8]]]\n"
     ]
    }
   ],
   "source": [
    "# 3차원\n",
    "a = np.arange(9)\n",
    "b = np.resize(a, (2, 3, 3))\n",
    "\n",
    "print('original ndarray: \\n', a)\n",
    "print('resized ndarray: \\n', b)"
   ]
  },
  {
   "cell_type": "code",
   "execution_count": 14,
   "id": "c5f8333f",
   "metadata": {},
   "outputs": [
    {
     "name": "stdout",
     "output_type": "stream",
     "text": [
      "original ndarray: \n",
      " [[0 1]\n",
      " [2 3]]\n",
      "resized ndarray1: \n",
      " None\n",
      "resized ndarray2: \n",
      " [[0 1]\n",
      " [2 3]\n",
      " [4 5]]\n"
     ]
    }
   ],
   "source": [
    "# ndarray.resize 메서드는 inplace 특징을 갖는다. (리턴값 존재 X)\n",
    "a = np.arange(9)\n",
    "b = a.resize((2, 2))\n",
    "\n",
    "print('original ndarray: \\n', a)\n",
    "print('resized ndarray1: \\n', b)\n",
    "\n",
    "# ndarray.resize 메서드는 다음과 같이 사용한다.\n",
    "c = np.arange(9)\n",
    "c.resize((3, 2))\n",
    "\n",
    "print('resized ndarray2: \\n', c)"
   ]
  },
  {
   "cell_type": "markdown",
   "id": "5f5bac9b",
   "metadata": {},
   "source": [
    "## 3) ndarray.flatten\n",
    "- 벡터를 생성한다.\n",
    "- np.reshape(ndarray.reshape) 메서드의 역연산\n",
    "- flatten 순서에 유의"
   ]
  },
  {
   "cell_type": "code",
   "execution_count": 15,
   "id": "138e8d1a",
   "metadata": {},
   "outputs": [
    {
     "name": "stdout",
     "output_type": "stream",
     "text": [
      "M is as follows:\n",
      " [0 1 2 3 4 5 6 7 8]\n",
      "N is as follows:\n",
      " [[0 1 2]\n",
      " [3 4 5]\n",
      " [6 7 8]]\n",
      "O is as follows:\n",
      " [0 1 2 3 4 5 6 7 8]\n"
     ]
    }
   ],
   "source": [
    "M = np.arange(9)\n",
    "N = M.reshape((3, 3))\n",
    "O = N.flatten()\n",
    "\n",
    "print('M is as follows:\\n', M)\n",
    "print('N is as follows:\\n', N)\n",
    "print('O is as follows:\\n', O)"
   ]
  },
  {
   "cell_type": "code",
   "execution_count": 16,
   "id": "063883db",
   "metadata": {},
   "outputs": [
    {
     "name": "stdout",
     "output_type": "stream",
     "text": [
      "M is as follows:\n",
      " [ 0  1  2  3  4  5  6  7  8  9 10 11 12 13 14 15 16 17 18 19 20 21 22 23\n",
      " 24 25 26]\n",
      "N is as follows:\n",
      " [[[ 0  1  2]\n",
      "  [ 3  4  5]\n",
      "  [ 6  7  8]]\n",
      "\n",
      " [[ 9 10 11]\n",
      "  [12 13 14]\n",
      "  [15 16 17]]\n",
      "\n",
      " [[18 19 20]\n",
      "  [21 22 23]\n",
      "  [24 25 26]]]\n",
      "O is as follows:\n",
      " [ 0  1  2  3  4  5  6  7  8  9 10 11 12 13 14 15 16 17 18 19 20 21 22 23\n",
      " 24 25 26]\n"
     ]
    }
   ],
   "source": [
    "# 3차원\n",
    "M = np.arange(27)\n",
    "N = M.reshape((3, 3, 3))\n",
    "O = N.flatten()\n",
    "\n",
    "print('M is as follows:\\n', M)\n",
    "print('N is as follows:\\n', N)\n",
    "print('O is as follows:\\n', O)"
   ]
  },
  {
   "cell_type": "markdown",
   "id": "2d11f584",
   "metadata": {},
   "source": [
    "## 4) ndarray.ravel\n",
    "벡터를 생성한다."
   ]
  },
  {
   "cell_type": "code",
   "execution_count": 17,
   "id": "dc0cc55e",
   "metadata": {},
   "outputs": [
    {
     "name": "stdout",
     "output_type": "stream",
     "text": [
      "M is as follows:\n",
      " [0 1 2 3 4 5 6 7 8]\n",
      "N is as follows:\n",
      " [[0 1 2]\n",
      " [3 4 5]\n",
      " [6 7 8]]\n",
      "O is as follows:\n",
      " [0 1 2 3 4 5 6 7 8]\n"
     ]
    }
   ],
   "source": [
    "M = np.arange(9)\n",
    "N = M.reshape((3, 3))\n",
    "O = N.ravel()\n",
    "\n",
    "print('M is as follows:\\n', M)\n",
    "print('N is as follows:\\n', N)\n",
    "print('O is as follows:\\n', O)"
   ]
  },
  {
   "cell_type": "markdown",
   "id": "164a783c",
   "metadata": {},
   "source": [
    "## 5) Copy & View\n",
    "- Copy: 원본 객체에 영향을 미치면 안되는 경우에 사용한다.\n",
    "- View: 원본 객체에 영향을 미쳐도 상관이 없는 경우에 사용한다.\n",
    "    - 메모리 낭비를 방지하기 위해 View 방식을 사용한다."
   ]
  },
  {
   "cell_type": "code",
   "execution_count": 18,
   "id": "96a20997",
   "metadata": {},
   "outputs": [
    {
     "name": "stdout",
     "output_type": "stream",
     "text": [
      "a :\n",
      " [10 10 10  3  4]\n",
      "b :\n",
      " [10 10 10]\n"
     ]
    }
   ],
   "source": [
    "# 넘파이 배열의 슬라이싱은 View\n",
    "a = np.arange(5)\n",
    "b = a[:3]\n",
    "\n",
    "b[...] = 10\n",
    "print('a :\\n', a)\n",
    "print('b :\\n', b)"
   ]
  },
  {
   "cell_type": "code",
   "execution_count": 19,
   "id": "3d59c44c",
   "metadata": {},
   "outputs": [
    {
     "name": "stdout",
     "output_type": "stream",
     "text": [
      "False\n",
      "True\n",
      "True\n"
     ]
    }
   ],
   "source": [
    "a = np.arange(5)\n",
    "b = a.copy()\n",
    "c = a.view()\n",
    "d = a[:3]\n",
    "\n",
    "print(b.base is a)\n",
    "print(c.base is a)\n",
    "print(d.base is a)"
   ]
  },
  {
   "cell_type": "code",
   "execution_count": 20,
   "id": "c2cfdc45",
   "metadata": {},
   "outputs": [
    {
     "name": "stdout",
     "output_type": "stream",
     "text": [
      "True\n",
      "a:\n",
      " [100   1   2   3]\n",
      "b:\n",
      " [[100   1]\n",
      " [  2   3]]\n"
     ]
    }
   ],
   "source": [
    "# reshape 메서드 (View)\n",
    "a = np.arange(4)\n",
    "b = np.reshape(a, (2, 2))\n",
    "\n",
    "b[0, 0] = 100\n",
    "print(b.base is a)\n",
    "print('a:\\n', a)\n",
    "print('b:\\n', b)"
   ]
  },
  {
   "cell_type": "code",
   "execution_count": 21,
   "id": "f6fe6475",
   "metadata": {},
   "outputs": [
    {
     "name": "stdout",
     "output_type": "stream",
     "text": [
      "False\n",
      "a:\n",
      " [0 1 2 3]\n",
      "b:\n",
      " [[100   1]\n",
      " [  2   3]]\n"
     ]
    }
   ],
   "source": [
    "a = np.arange(4)\n",
    "b = np.reshape(a, (2, 2)).copy()\n",
    "\n",
    "b[0, 0] = 100\n",
    "\n",
    "print(b.base is a)\n",
    "print('a:\\n', a)\n",
    "print('b:\\n', b)"
   ]
  },
  {
   "cell_type": "code",
   "execution_count": 22,
   "id": "0e3d0216",
   "metadata": {},
   "outputs": [
    {
     "name": "stdout",
     "output_type": "stream",
     "text": [
      "False\n",
      "a:\n",
      " [0 1 2 3 4]\n",
      "b:\n",
      " [[100   1]\n",
      " [  2   3]]\n"
     ]
    }
   ],
   "source": [
    "# resize 메서드 (Copy)\n",
    "a = np.arange(5)\n",
    "b = np.resize(a, (2, 2))\n",
    "\n",
    "b[0, 0] = 100\n",
    "print(b.base is a)\n",
    "print('a:\\n', a)\n",
    "print('b:\\n', b)"
   ]
  },
  {
   "cell_type": "code",
   "execution_count": 23,
   "id": "b565d362",
   "metadata": {},
   "outputs": [
    {
     "name": "stdout",
     "output_type": "stream",
     "text": [
      "False\n",
      "a:\n",
      " [[1 2 0]\n",
      " [4 2 5]]\n",
      "b:\n",
      " [-999    2    0    4    2    5]\n"
     ]
    }
   ],
   "source": [
    "# flatten 메서드 (Copy)\n",
    "a = np.random.randint(0, 10, (2, 3))\n",
    "b = a.flatten()\n",
    "b[0] = -999\n",
    "\n",
    "print(b.base is a)\n",
    "print('a:\\n', a)\n",
    "print('b:\\n', b)"
   ]
  },
  {
   "cell_type": "code",
   "execution_count": 24,
   "id": "736d80a2",
   "metadata": {},
   "outputs": [
    {
     "name": "stdout",
     "output_type": "stream",
     "text": [
      "True\n",
      "a:\n",
      " [[-999    9    8]\n",
      " [   5    4    9]]\n",
      "b:\n",
      " [-999    9    8    5    4    9]\n"
     ]
    }
   ],
   "source": [
    "# ravel 메서드 (View)\n",
    "a = np.random.randint(0, 10, (2, 3))\n",
    "b = a.ravel()\n",
    "b[0] = -999\n",
    "\n",
    "print(b.base is a)\n",
    "print('a:\\n', a)\n",
    "print('b:\\n', b)"
   ]
  },
  {
   "cell_type": "markdown",
   "id": "6e4aa074",
   "metadata": {},
   "source": [
    "## 6) ndarray.astype\n",
    "텐서플로우는 float32 타입이 기본형이다."
   ]
  },
  {
   "cell_type": "code",
   "execution_count": 25,
   "id": "e1f9db80",
   "metadata": {},
   "outputs": [
    {
     "name": "stdout",
     "output_type": "stream",
     "text": [
      "M dtype:\n",
      " int8\n",
      "N dtype:\n",
      " uint32\n",
      "O dtype:\n",
      " float32\n"
     ]
    }
   ],
   "source": [
    "M = np.array([1, 2, 3], np.int8)\n",
    "N = M.astype(np.uint32)\n",
    "O = M.astype(np.float32)\n",
    "\n",
    "print('M dtype:\\n', M.dtype)\n",
    "print('N dtype:\\n', N.dtype)\n",
    "print('O dtype:\\n', O.dtype)"
   ]
  },
  {
   "cell_type": "code",
   "execution_count": 26,
   "id": "890210ad",
   "metadata": {},
   "outputs": [
    {
     "name": "stdout",
     "output_type": "stream",
     "text": [
      "False False\n",
      "False False\n",
      "False True\n",
      "True False\n"
     ]
    }
   ],
   "source": [
    "# 숫자와 불리언 비교\n",
    "print(-3 == True, -3 == False)\n",
    "print(3.12 == True, 3.14 == False)\n",
    "\n",
    "print(0. == True, 0. == False)\n",
    "print(1. == True, 1. == False)"
   ]
  }
 ],
 "metadata": {
  "kernelspec": {
   "display_name": "Python 3 (ipykernel)",
   "language": "python",
   "name": "python3"
  },
  "language_info": {
   "codemirror_mode": {
    "name": "ipython",
    "version": 3
   },
   "file_extension": ".py",
   "mimetype": "text/x-python",
   "name": "python",
   "nbconvert_exporter": "python",
   "pygments_lexer": "ipython3",
   "version": "3.10.9"
  }
 },
 "nbformat": 4,
 "nbformat_minor": 5
}
