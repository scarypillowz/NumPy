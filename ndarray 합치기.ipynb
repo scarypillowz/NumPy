{
 "cells": [
  {
   "cell_type": "markdown",
   "id": "dc26e67a",
   "metadata": {},
   "source": [
    "# 넘파이 배열 합치기\n",
    "데이터과학 분야에서는 행벡터가 기본 형태\n",
    "- 차원이 동일한 배열을 합치는 경우\n",
    "    - np.hstack, np.vstack, np.concatenate 메서드를 사용\n",
    "- 배열의 형태별로 사용이 적절한 메서드 (가독성을 높여줌)\n",
    "    - 행렬: np.hstack, np.vstack, np.dstack\n",
    "    - 일반적인 텐서: np.concatenate, np.stack"
   ]
  },
  {
   "cell_type": "code",
   "execution_count": 1,
   "id": "9aa8cb05",
   "metadata": {},
   "outputs": [],
   "source": [
    "import numpy as np"
   ]
  },
  {
   "cell_type": "markdown",
   "id": "c960c9c6",
   "metadata": {},
   "source": [
    "## ✅ np.hstack, np.vstack\n",
    "- 대괄호로 감싸서 합친다.\n",
    "- 주로 행렬에 대해 사용한다."
   ]
  },
  {
   "cell_type": "code",
   "execution_count": 2,
   "id": "451fdab3",
   "metadata": {},
   "outputs": [
    {
     "name": "stdout",
     "output_type": "stream",
     "text": [
      "a = [6 7 4 1]\n",
      "b = [7 7 2 2]\n",
      "\n",
      "vstack: (2, 4)\n",
      " [[6 7 4 1]\n",
      " [7 7 2 2]]\n",
      "hstack: (8,)\n",
      " [6 7 4 1 7 7 2 2]\n"
     ]
    }
   ],
   "source": [
    "a = np.random.randint(0, 10, (4, ))\n",
    "b = np.random.randint(0, 10, (4, ))\n",
    "print('a =', a)\n",
    "print('b =', b)\n",
    "\n",
    "vstack = np.vstack([a, b])\n",
    "hstack = np.hstack([a, b])\n",
    "\n",
    "print('\\nvstack: {}\\n'.format(vstack.shape), vstack)\n",
    "print('hstack: {}\\n'.format(hstack.shape), hstack)"
   ]
  },
  {
   "cell_type": "code",
   "execution_count": 3,
   "id": "c87f2b8f",
   "metadata": {},
   "outputs": [
    {
     "name": "stdout",
     "output_type": "stream",
     "text": [
      "a = [[8 0 8]]\n",
      "b = [[4 3 1]]\n",
      "\n",
      "vstack: (2, 3)\n",
      " [[8 0 8]\n",
      " [4 3 1]]\n",
      "hstack: (1, 6)\n",
      " [[8 0 8 4 3 1]]\n"
     ]
    }
   ],
   "source": [
    "a = np.random.randint(0, 10, (1, 3))\n",
    "b = np.random.randint(0, 10, (1, 3))\n",
    "print('a =', a)\n",
    "print('b =', b)\n",
    "\n",
    "vstack = np.vstack((a, b))\n",
    "hstack = np.hstack((a, b))\n",
    "\n",
    "print('\\nvstack: {}\\n'.format(vstack.shape), vstack)\n",
    "print('hstack: {}\\n'.format(hstack.shape), hstack)"
   ]
  },
  {
   "cell_type": "code",
   "execution_count": 4,
   "id": "688e7975",
   "metadata": {},
   "outputs": [
    {
     "name": "stdout",
     "output_type": "stream",
     "text": [
      "a =\n",
      " [[9]\n",
      " [1]\n",
      " [4]]\n",
      "b =\n",
      " [[5]\n",
      " [4]\n",
      " [4]]\n",
      "\n",
      "vstack: (6, 1)\n",
      " [[9]\n",
      " [1]\n",
      " [4]\n",
      " [5]\n",
      " [4]\n",
      " [4]]\n",
      "hstack: (3, 2)\n",
      " [[9 5]\n",
      " [1 4]\n",
      " [4 4]]\n"
     ]
    }
   ],
   "source": [
    "# 열벡터\n",
    "a = np.random.randint(0, 10, (3, 1))\n",
    "b = np.random.randint(0, 10, (3, 1))\n",
    "print('a =\\n', a)\n",
    "print('b =\\n', b)\n",
    "\n",
    "vstack = np.vstack((a, b))\n",
    "hstack = np.hstack((a, b))\n",
    "\n",
    "print('\\nvstack: {}\\n'.format(vstack.shape), vstack)\n",
    "print('hstack: {}\\n'.format(hstack.shape), hstack)"
   ]
  },
  {
   "cell_type": "code",
   "execution_count": 5,
   "id": "e26d326e",
   "metadata": {},
   "outputs": [
    {
     "name": "stdout",
     "output_type": "stream",
     "text": [
      "a =\n",
      " [[0 2 5 0]\n",
      " [9 8 4 2]\n",
      " [7 4 4 8]]\n",
      "b =\n",
      " [5 2 4 2]\n",
      "\n",
      "vstack: (4, 4)\n",
      " [[0 2 5 0]\n",
      " [9 8 4 2]\n",
      " [7 4 4 8]\n",
      " [5 2 4 2]]\n"
     ]
    }
   ],
   "source": [
    "a = np.random.randint(0, 10, (3, 4))\n",
    "b = np.random.randint(0, 10, (4, ))\n",
    "print('a =\\n', a)\n",
    "print('b =\\n', b)\n",
    "\n",
    "vstack = np.vstack([a, b])\n",
    "print('\\nvstack: {}\\n'.format(vstack.shape), vstack)\n",
    "\n",
    "# ⚠️ 에러 발생\n",
    "# hstack = np.hstack([a, b])\n",
    "# print('hstack: {}\\n'.format(hstack.shape), hstack)"
   ]
  },
  {
   "cell_type": "code",
   "execution_count": 6,
   "id": "cfa5c585",
   "metadata": {},
   "outputs": [
    {
     "name": "stdout",
     "output_type": "stream",
     "text": [
      "a =\n",
      " [[7 6 0 9]\n",
      " [1 6 2 1]\n",
      " [4 6 4 8]]\n",
      "b =\n",
      " [9 7 2]\n",
      "hstack: (3, 5)\n",
      " [[7 6 0 9 9]\n",
      " [1 6 2 1 7]\n",
      " [4 6 4 8 2]]\n"
     ]
    }
   ],
   "source": [
    "a = np.random.randint(0, 10, (3, 4))\n",
    "b = np.random.randint(0, 10, (3, ))\n",
    "print('a =\\n', a)\n",
    "print('b =\\n', b)\n",
    "\n",
    "# ⚠️ 에러 발생\n",
    "# hstack = np.hstack([a, b])\n",
    "# print('\\nhstack: {}\\n'.format(hstack.shape), hstack)\n",
    "\n",
    "# 📍 새로운 데이터를 오른쪽으로(hstack) 쌓고 싶으면 열벡터를 만들어야 한다.\n",
    "hstack = np.hstack([a, b.reshape((-1, 1))])\n",
    "print('hstack: {}\\n'.format(hstack.shape), hstack)"
   ]
  },
  {
   "cell_type": "code",
   "execution_count": 7,
   "id": "2e35846b",
   "metadata": {},
   "outputs": [
    {
     "name": "stdout",
     "output_type": "stream",
     "text": [
      "iter: 0 shape: (1, 4)\n",
      "iter: 1 shape: (2, 4)\n",
      "iter: 2 shape: (3, 4)\n",
      "iter: 3 shape: (4, 4)\n",
      "iter: 4 shape: (5, 4)\n",
      "\n",
      "dataset: (5, 4)\n",
      " [[1. 0. 4. 3.]\n",
      " [1. 3. 2. 4.]\n",
      " [4. 4. 1. 0.]\n",
      " [2. 3. 2. 2.]\n",
      " [3. 4. 1. 3.]]\n"
     ]
    }
   ],
   "source": [
    "# 예시 (for문을 사용한 vstack → 추천 X)\n",
    "dataset = np.empty((0, 4))\n",
    "for i in range(5):\n",
    "    sample = np.random.randint(0, 5, (1, 4))\n",
    "    dataset = np.vstack([dataset, sample])\n",
    "    print('iter: {}'.format(i), 'shape: {}'.format(dataset.shape))\n",
    "\n",
    "print('\\ndataset: {}\\n'.format(dataset.shape), dataset)"
   ]
  },
  {
   "cell_type": "code",
   "execution_count": 8,
   "id": "74072cb8",
   "metadata": {},
   "outputs": [
    {
     "name": "stdout",
     "output_type": "stream",
     "text": [
      "iter: 0 shape: (4, 1)\n",
      "iter: 1 shape: (4, 2)\n",
      "iter: 2 shape: (4, 3)\n",
      "iter: 3 shape: (4, 4)\n",
      "iter: 4 shape: (4, 5)\n",
      "\n",
      "dataset: (4, 5)\n",
      " [[3. 1. 1. 3. 2.]\n",
      " [3. 2. 0. 3. 2.]\n",
      " [1. 0. 2. 0. 1.]\n",
      " [3. 0. 1. 0. 3.]]\n"
     ]
    }
   ],
   "source": [
    "# 예시 (for문을 사용한 hstack → 추천 X)\n",
    "dataset = np.empty((4, 0))\n",
    "for i in range(5):\n",
    "    sample = np.random.randint(0, 5, (4, 1))\n",
    "    dataset = np.hstack([dataset, sample])\n",
    "    print('iter: {}'.format(i), 'shape: {}'.format(dataset.shape))\n",
    "    \n",
    "print('\\ndataset: {}\\n'.format(dataset.shape), dataset)"
   ]
  },
  {
   "cell_type": "markdown",
   "id": "74258480",
   "metadata": {},
   "source": [
    "---"
   ]
  },
  {
   "cell_type": "code",
   "execution_count": 9,
   "id": "36993621",
   "metadata": {},
   "outputs": [
    {
     "name": "stdout",
     "output_type": "stream",
     "text": [
      "vstack: (3, 4)\n",
      " [[1 6 4 7]\n",
      " [5 6 6 0]\n",
      " [7 6 9 7]]\n"
     ]
    }
   ],
   "source": [
    "# for문보다 better way 1\n",
    "a = np.random.randint(0, 10, (1, 4))\n",
    "b = np.random.randint(0, 10, (1, 4))\n",
    "c = np.random.randint(0, 10, (1, 4))\n",
    "\n",
    "# all at once\n",
    "arr_list = [a, b, c]\n",
    "\n",
    "vstack = np.vstack(arr_list)\n",
    "print('vstack: {}\\n'.format(vstack.shape), vstack)"
   ]
  },
  {
   "cell_type": "code",
   "execution_count": 10,
   "id": "42c1a8a6",
   "metadata": {},
   "outputs": [
    {
     "name": "stdout",
     "output_type": "stream",
     "text": [
      "dataset: (10, 4)\n",
      " [[1 3 4 2]\n",
      " [0 1 0 3]\n",
      " [0 1 2 1]\n",
      " [3 3 2 2]\n",
      " [4 1 0 4]\n",
      " [1 4 4 3]\n",
      " [4 4 3 2]\n",
      " [3 1 1 1]\n",
      " [0 4 3 2]\n",
      " [0 3 2 3]]\n"
     ]
    }
   ],
   "source": [
    "# for문보다 better way 2\n",
    "dataset_tmp = list()\n",
    "for i in range(10):\n",
    "    sample = np.random.randint(0, 5, (1, 4))\n",
    "    dataset_tmp.append(sample)\n",
    "dataset = np.vstack(dataset_tmp)\n",
    "print('dataset: {}\\n'.format(dataset.shape), dataset)"
   ]
  },
  {
   "cell_type": "markdown",
   "id": "cbfccde2",
   "metadata": {},
   "source": [
    "## ✅ np.concatenate\n",
    "- 대괄호로 감싸서 합친다.\n",
    "- 주로 일반적인 텐서에 대해 사용한다. (compared to np.hstack/np.vstack)\n",
    "- np.hstack/np.vstack을 대체 가능하다."
   ]
  },
  {
   "cell_type": "code",
   "execution_count": 11,
   "id": "ed33b050",
   "metadata": {},
   "outputs": [
    {
     "name": "stdout",
     "output_type": "stream",
     "text": [
      "a =\n",
      " [2 3 9]\n",
      "b =\n",
      " [1 0 1 2]\n",
      "\n",
      "concat: (7,)\n",
      " [2 3 9 1 0 1 2]\n",
      "\n",
      "concat_axis0: (7,)\n",
      " [2 3 9 1 0 1 2]\n"
     ]
    }
   ],
   "source": [
    "# 1차원\n",
    "a = np.random.randint(0, 10, (3, ))\n",
    "b = np.random.randint(0, 10, (4, ))\n",
    "print('a =\\n', a)\n",
    "print('b =\\n', b)\n",
    "\n",
    "concat = np.concatenate([a, b])\n",
    "print('\\nconcat: {}\\n'.format(concat.shape), concat)\n",
    "\n",
    "concat_axis0 = np.concatenate([a, b], axis=0)\n",
    "print('\\nconcat_axis0: {}\\n'.format(concat_axis0.shape), concat_axis0)"
   ]
  },
  {
   "cell_type": "code",
   "execution_count": 12,
   "id": "0d27e870",
   "metadata": {},
   "outputs": [
    {
     "name": "stdout",
     "output_type": "stream",
     "text": [
      "a =\n",
      " [[9 3 7]]\n",
      "b =\n",
      " [[0 8 2]]\n",
      "\n",
      "concat_axis0: (2, 3)\n",
      " [[9 3 7]\n",
      " [0 8 2]]\n",
      "\n",
      "concat_axis1: (1, 6)\n",
      " [[9 3 7 0 8 2]]\n",
      "\n",
      "concat_axis_m1: (1, 6)\n",
      " [[9 3 7 0 8 2]]\n"
     ]
    }
   ],
   "source": [
    "# 2차원 (axis=0, 1)\n",
    "a = np.random.randint(0, 10, (1, 3))\n",
    "b = np.random.randint(0, 10, (1, 3))\n",
    "print('a =\\n', a)\n",
    "print('b =\\n', b)\n",
    "\n",
    "concat_axis0 = np.concatenate([a, b], axis=0)\n",
    "print('\\nconcat_axis0: {}\\n'.format(concat_axis0.shape), concat_axis0)\n",
    "\n",
    "concat_axis1 = np.concatenate([a, b], axis=1)\n",
    "print('\\nconcat_axis1: {}\\n'.format(concat_axis1.shape), concat_axis1)\n",
    "\n",
    "concat_axis_m1 = np.concatenate([a, b], axis=-1)\n",
    "print('\\nconcat_axis_m1: {}\\n'.format(concat_axis_m1.shape), concat_axis_m1)"
   ]
  },
  {
   "cell_type": "code",
   "execution_count": 13,
   "id": "52534966",
   "metadata": {},
   "outputs": [
    {
     "name": "stdout",
     "output_type": "stream",
     "text": [
      "a =\n",
      " [[2 5 8 1]\n",
      " [5 6 4 3]\n",
      " [3 0 4 4]]\n",
      "b =\n",
      " [[2 7]\n",
      " [4 0]\n",
      " [7 7]]\n",
      "\n",
      "concat_axis1: (3, 6)\n",
      " [[2 5 8 1 2 7]\n",
      " [5 6 4 3 4 0]\n",
      " [3 0 4 4 7 7]]\n"
     ]
    }
   ],
   "source": [
    "# 2차원\n",
    "a = np.random.randint(0, 10, (3, 4))\n",
    "b = np.random.randint(0, 10, (3, 2))\n",
    "print('a =\\n', a)\n",
    "print('b =\\n', b)\n",
    "\n",
    "# hstack으로 대체 가능\n",
    "concat_axis1 = np.concatenate([a, b], axis=1)\n",
    "print('\\nconcat_axis1: {}\\n'.format(concat_axis1.shape), concat_axis1)\n",
    "\n",
    "# ⚠️ 에러 발생\n",
    "# concat_axis0 = np.concatenate([a, b], axis=0)\n",
    "# print('\\nconcat_axis0: {}\\n'.format(concat_axis0.shape), concat_axis0)"
   ]
  },
  {
   "cell_type": "code",
   "execution_count": 14,
   "id": "f4b2d806",
   "metadata": {},
   "outputs": [
    {
     "name": "stdout",
     "output_type": "stream",
     "text": [
      "a shape: (5, 4, 5)\n",
      "b shape: (8, 4, 5)\n",
      "\n",
      "concat_axis0: (13, 4, 5)\n"
     ]
    }
   ],
   "source": [
    "# 3차원 (axis=0, 1, 2)\n",
    "a = np.random.randint(0, 10, (5, 4, 5))\n",
    "b = np.random.randint(0, 10, (8, 4, 5))\n",
    "print('a shape:', a.shape)\n",
    "print('b shape:', b.shape)\n",
    "\n",
    "concat_axis0 = np.concatenate([a, b], axis=0)\n",
    "print('\\nconcat_axis0: {}'.format(concat_axis0.shape))\n",
    "\n",
    "# ⚠️ 에러 발생\n",
    "# concat_axis1 = np.concatenate([a, b], axis=1)\n",
    "# print('\\nconcat_axis1: {}'.format(concat_axis1.shape))"
   ]
  },
  {
   "cell_type": "code",
   "execution_count": 15,
   "id": "edbaa265",
   "metadata": {},
   "outputs": [
    {
     "name": "stdout",
     "output_type": "stream",
     "text": [
      "a shape: (3, 4, 5)\n",
      "b shape: (3, 6, 5)\n",
      "\n",
      "concat_axis1: (3, 10, 5)\n"
     ]
    }
   ],
   "source": [
    "# 3차원\n",
    "a = np.random.randint(0, 10, (3, 4, 5))\n",
    "b = np.random.randint(0, 10, (3, 6, 5))\n",
    "print('a shape:', a.shape)\n",
    "print('b shape:', b.shape)\n",
    "\n",
    "concat_axis1 = np.concatenate([a, b], axis=1)\n",
    "print('\\nconcat_axis1: {}'.format(concat_axis1.shape))\n",
    "\n",
    "# ⚠️ 에러 발생\n",
    "# concat_axis0 = np.concatenate([a, b], axis=0)\n",
    "# print('\\nconcat_axis0: {}'.format(concat_axis0.shape))"
   ]
  },
  {
   "cell_type": "code",
   "execution_count": 16,
   "id": "85e7ed51",
   "metadata": {},
   "outputs": [
    {
     "name": "stdout",
     "output_type": "stream",
     "text": [
      "a shape: (3, 2, 3)\n",
      "b shape: (3, 2, 7)\n",
      "\n",
      "concat_axis2: (3, 2, 10)\n"
     ]
    }
   ],
   "source": [
    "# 3차원\n",
    "a = np.random.randint(0, 10, (3, 2, 3))\n",
    "b = np.random.randint(0, 10, (3, 2, 7))\n",
    "print('a shape:', a.shape)\n",
    "print('b shape:', b.shape)\n",
    "\n",
    "concat_axis2 = np.concatenate([a, b], axis=2)\n",
    "print('\\nconcat_axis2: {}'.format(concat_axis2.shape))"
   ]
  },
  {
   "cell_type": "code",
   "execution_count": 17,
   "id": "d293a7ff",
   "metadata": {},
   "outputs": [
    {
     "name": "stdout",
     "output_type": "stream",
     "text": [
      "dataset: (10, 4)\n",
      " [[2 4 2 1]\n",
      " [1 3 2 3]\n",
      " [1 4 4 4]\n",
      " [3 1 1 3]\n",
      " [3 0 3 4]\n",
      " [1 1 0 2]\n",
      " [0 2 1 3]\n",
      " [3 3 0 1]\n",
      " [1 1 3 0]\n",
      " [0 4 0 4]]\n"
     ]
    }
   ],
   "source": [
    "# for문 예시1 (axis=0; vstack 대체 가능)\n",
    "dataset_tmp = list()\n",
    "for i in range(10):\n",
    "    sample = np.random.randint(0, 5, (1, 4))\n",
    "    dataset_tmp.append(sample)\n",
    "\n",
    "dataset = np.concatenate(dataset_tmp, axis=0)\n",
    "print('dataset: {}\\n'.format(dataset.shape), dataset)"
   ]
  },
  {
   "cell_type": "code",
   "execution_count": 18,
   "id": "1de18807",
   "metadata": {},
   "outputs": [
    {
     "name": "stdout",
     "output_type": "stream",
     "text": [
      "dataset: (4, 10)\n",
      " [[1 4 2 1 3 3 0 0 3 2]\n",
      " [1 1 0 4 2 0 3 0 2 0]\n",
      " [1 0 1 1 3 0 3 1 3 1]\n",
      " [0 3 2 2 2 3 4 2 3 0]]\n"
     ]
    }
   ],
   "source": [
    "# for문 예시2 (axis=1; hstack 대체 가능)\n",
    "dataset_tmp = list()\n",
    "for i in range(10):\n",
    "    sample = np.random.randint(0, 5, (4, 1))\n",
    "    dataset_tmp.append(sample)\n",
    "\n",
    "dataset = np.concatenate(dataset_tmp, axis=1)\n",
    "print('dataset: {}\\n'.format(dataset.shape), dataset)"
   ]
  },
  {
   "cell_type": "markdown",
   "id": "15ae9abb",
   "metadata": {},
   "source": [
    "## ✅ np.dstack\n",
    "주로 행렬에 대해 사용한다."
   ]
  },
  {
   "cell_type": "code",
   "execution_count": 20,
   "id": "42f78b78",
   "metadata": {},
   "outputs": [
    {
     "name": "stdout",
     "output_type": "stream",
     "text": [
      "image shape: (100, 200, 3)\n"
     ]
    }
   ],
   "source": [
    "R = np.random.randint(0, 10, (100, 200))\n",
    "G = np.random.randint(0, 10, size=R.shape)\n",
    "B = np.random.randint(0, 10, size=R.shape)\n",
    "\n",
    "image = np.dstack([R, G, B])\n",
    "print('image shape:', image.shape)"
   ]
  },
  {
   "cell_type": "code",
   "execution_count": 21,
   "id": "146c543e",
   "metadata": {},
   "outputs": [
    {
     "name": "stdout",
     "output_type": "stream",
     "text": [
      "d shape: (100, 200, 9)\n"
     ]
    }
   ],
   "source": [
    "a = np.random.randint(0, 10, (100, 200, 3))\n",
    "b = np.random.randint(0, 10, size=a.shape)\n",
    "c = np.random.randint(0, 10, size=a.shape)\n",
    "\n",
    "d = np.dstack([a, b, c])\n",
    "print('d shape:', d.shape)"
   ]
  },
  {
   "cell_type": "markdown",
   "id": "920be448",
   "metadata": {},
   "source": [
    "## ✅ np.stack"
   ]
  },
  {
   "cell_type": "code",
   "execution_count": 22,
   "id": "637d12e2",
   "metadata": {},
   "outputs": [
    {
     "name": "stdout",
     "output_type": "stream",
     "text": [
      "ndim == 2: (3, 100, 200)\n"
     ]
    }
   ],
   "source": [
    "a = np.random.randint(0, 10, (100, 200))\n",
    "b = np.random.randint(0, 10, (100, 200))\n",
    "c = np.random.randint(0, 10, (100, 200))\n",
    "\n",
    "print('ndim == 2:', np.stack([a, b, c]).shape)"
   ]
  },
  {
   "cell_type": "code",
   "execution_count": 24,
   "id": "88ccdb29",
   "metadata": {},
   "outputs": [
    {
     "name": "stdout",
     "output_type": "stream",
     "text": [
      "ndim == 3: (3, 100, 200, 300)\n"
     ]
    }
   ],
   "source": [
    "a = np.random.randint(0, 10, (100, 200, 300))\n",
    "b = np.random.randint(0, 10, (100, 200, 300))\n",
    "c = np.random.randint(0, 10, (100, 200, 300))\n",
    "\n",
    "print('ndim == 3:', np.stack([a, b, c]).shape)"
   ]
  },
  {
   "cell_type": "code",
   "execution_count": 27,
   "id": "eaf6e938",
   "metadata": {},
   "outputs": [
    {
     "name": "stdout",
     "output_type": "stream",
     "text": [
      "axis=0: (3, 100, 200, 300)\n",
      "axis=1: (100, 3, 200, 300)\n",
      "axis=2: (100, 200, 3, 300)\n",
      "axis=3: (100, 200, 300, 3)\n",
      "axis=-1: (100, 200, 300, 3)\n"
     ]
    }
   ],
   "source": [
    "a = np.random.randint(0, 10, (100, 200, 300))\n",
    "b = np.random.randint(0, 10, (100, 200, 300))\n",
    "c = np.random.randint(0, 10, (100, 200, 300))\n",
    "\n",
    "print('axis=0:', np.stack([a, b, c], axis=0).shape)\n",
    "print('axis=1:', np.stack([a, b, c], axis=1).shape)\n",
    "print('axis=2:', np.stack([a, b, c], axis=2).shape)\n",
    "print('axis=3:', np.stack([a, b, c], axis=3).shape)\n",
    "print('axis=-1:', np.stack([a, b, c], axis=-1).shape)"
   ]
  }
 ],
 "metadata": {
  "kernelspec": {
   "display_name": "Python 3 (ipykernel)",
   "language": "python",
   "name": "python3"
  },
  "language_info": {
   "codemirror_mode": {
    "name": "ipython",
    "version": 3
   },
   "file_extension": ".py",
   "mimetype": "text/x-python",
   "name": "python",
   "nbconvert_exporter": "python",
   "pygments_lexer": "ipython3",
   "version": "3.10.9"
  }
 },
 "nbformat": 4,
 "nbformat_minor": 5
}
