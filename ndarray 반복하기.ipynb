{
 "cells": [
  {
   "cell_type": "markdown",
   "id": "75dd11d7",
   "metadata": {},
   "source": [
    "# 넘파이 배열 반복하기\n",
    "반복문을 대체할 수 있다."
   ]
  },
  {
   "cell_type": "code",
   "execution_count": 1,
   "id": "ab70b7dd",
   "metadata": {},
   "outputs": [],
   "source": [
    "import numpy as np"
   ]
  },
  {
   "cell_type": "markdown",
   "id": "012e454f",
   "metadata": {},
   "source": [
    "## ✅ np.repeat\n",
    "- np.repeat(a, repeats, axis)\n",
    "- 원소별 반복(각 원소를 지정한 횟수만큼 반복)"
   ]
  },
  {
   "cell_type": "code",
   "execution_count": 2,
   "id": "b821e301",
   "metadata": {},
   "outputs": [
    {
     "name": "stdout",
     "output_type": "stream",
     "text": [
      "np.repeat(3, 2):  [3 3]\n"
     ]
    }
   ],
   "source": [
    "# 스칼라\n",
    "x = 3\n",
    "\n",
    "rep = np.repeat(x, 2)\n",
    "print('np.repeat(3, 2): ', rep)"
   ]
  },
  {
   "cell_type": "code",
   "execution_count": 3,
   "id": "e6b2fdb0",
   "metadata": {},
   "outputs": [
    {
     "name": "stdout",
     "output_type": "stream",
     "text": [
      "np.repeat([1, 2, 3], 3):  [1 1 1 2 2 2 3 3 3]\n"
     ]
    }
   ],
   "source": [
    "# 벡터\n",
    "x = np.array([1, 2, 3])\n",
    "\n",
    "rep = np.repeat(x, 3)\n",
    "print('np.repeat([1, 2, 3], 3): ', rep)"
   ]
  },
  {
   "cell_type": "code",
   "execution_count": 4,
   "id": "09f1f90a",
   "metadata": {},
   "outputs": [
    {
     "name": "stdout",
     "output_type": "stream",
     "text": [
      "x =\n",
      " [[0 1]\n",
      " [2 3]]\n",
      "\n",
      "rep_noaxis, (12,):\n",
      " [0 0 0 1 1 1 2 2 2 3 3 3]\n",
      "\n",
      "rep_axis0, (6, 2):\n",
      " [[0 1]\n",
      " [0 1]\n",
      " [0 1]\n",
      " [2 3]\n",
      " [2 3]\n",
      " [2 3]]\n",
      "\n",
      "rep_axis1, (2, 6):\n",
      " [[0 0 0 1 1 1]\n",
      " [2 2 2 3 3 3]]\n"
     ]
    }
   ],
   "source": [
    "# 행렬\n",
    "x = np.arange(4).reshape((2, 2))\n",
    "print('x =\\n', x)\n",
    "\n",
    "rep_noaxis = np.repeat(x, 3)\n",
    "print('\\nrep_noaxis,', '{}:\\n'.format(rep_noaxis.shape), rep_noaxis)\n",
    "\n",
    "rep_axis0 = np.repeat(x, 3, axis=0)\n",
    "print('\\nrep_axis0,', '{}:\\n'.format(rep_axis0.shape), rep_axis0)\n",
    "\n",
    "rep_axis1 = np.repeat(x, 3, axis=1)\n",
    "print('\\nrep_axis1,', '{}:\\n'.format(rep_axis1.shape), rep_axis1)"
   ]
  },
  {
   "cell_type": "code",
   "execution_count": 5,
   "id": "e4cf652f",
   "metadata": {},
   "outputs": [
    {
     "name": "stdout",
     "output_type": "stream",
     "text": [
      "x =\n",
      " [[0 1]\n",
      " [2 3]]\n",
      "\n",
      "rep, (3, 2):\n",
      " [[0 1]\n",
      " [0 1]\n",
      " [2 3]]\n"
     ]
    }
   ],
   "source": [
    "# repeats 매개변수에 리스트를 전달\n",
    "x = np.arange(4).reshape((2, 2))\n",
    "print('x =\\n', x)\n",
    "\n",
    "# 첫번째 원소는 2번, 두번째 원소는 1번 반복\n",
    "rep = np.repeat(x, repeats=[2, 1], axis=0)\n",
    "print('\\nrep,', '{}:\\n'.format(rep.shape), rep)"
   ]
  },
  {
   "cell_type": "code",
   "execution_count": 6,
   "id": "93f83623",
   "metadata": {},
   "outputs": [
    {
     "name": "stdout",
     "output_type": "stream",
     "text": [
      "x =\n",
      " [[0 1 2]\n",
      " [3 4 5]]\n",
      "\n",
      "rep, (2, 5):\n",
      " [[0 0 1 2 2]\n",
      " [3 3 4 5 5]]\n"
     ]
    }
   ],
   "source": [
    "x = np.arange(6).reshape((2, 3))\n",
    "print('x =\\n', x)\n",
    "\n",
    "rep = np.repeat(x, repeats=[2, 1, 2], axis=1)\n",
    "print('\\nrep,', '{}:\\n'.format(rep.shape), rep)"
   ]
  },
  {
   "cell_type": "code",
   "execution_count": 7,
   "id": "d7454c1f",
   "metadata": {},
   "outputs": [
    {
     "name": "stdout",
     "output_type": "stream",
     "text": [
      "row_vec =\n",
      " [[0 1 2 3]]\n",
      "\n",
      "rep, (3, 4):\n",
      " [[0 1 2 3]\n",
      " [0 1 2 3]\n",
      " [0 1 2 3]]\n"
     ]
    }
   ],
   "source": [
    "# 행벡터 반복\n",
    "row_vec = np.arange(4).reshape((1, -1))\n",
    "print('row_vec =\\n', row_vec)\n",
    "\n",
    "rep = np.repeat(row_vec, 3, axis=0)\n",
    "print('\\nrep,', '{}:\\n'.format(rep.shape), rep)"
   ]
  },
  {
   "cell_type": "code",
   "execution_count": 8,
   "id": "1b5aba57",
   "metadata": {},
   "outputs": [
    {
     "name": "stdout",
     "output_type": "stream",
     "text": [
      "col_vec =\n",
      " [[0]\n",
      " [1]\n",
      " [2]\n",
      " [3]]\n",
      "\n",
      "rep, (4, 3):\n",
      " [[0 0 0]\n",
      " [1 1 1]\n",
      " [2 2 2]\n",
      " [3 3 3]]\n"
     ]
    }
   ],
   "source": [
    "# 열벡터 반복\n",
    "col_vec = np.arange(4).reshape((-1, 1))\n",
    "print('col_vec =\\n', col_vec)\n",
    "\n",
    "rep = np.repeat(col_vec, 3, axis=1)\n",
    "print('\\nrep,', '{}:\\n'.format(rep.shape), rep)"
   ]
  },
  {
   "cell_type": "markdown",
   "id": "e1401b20",
   "metadata": {},
   "source": [
    "## ✅ np.tile\n",
    "- np.tile(a, reps)\n",
    "- 전체를 반복(배열 자체를 반복)\n",
    "- 2차원 배열(행렬)을 다룰 때 자주 사용한다."
   ]
  },
  {
   "cell_type": "code",
   "execution_count": 9,
   "id": "3388156b",
   "metadata": {},
   "outputs": [
    {
     "name": "stdout",
     "output_type": "stream",
     "text": [
      "a = [0 1 2 3]\n",
      "\n",
      "tile, (12,):\n",
      " [0 1 2 3 0 1 2 3 0 1 2 3]\n"
     ]
    }
   ],
   "source": [
    "a = np.arange(4)\n",
    "print('a =', a)\n",
    "\n",
    "tile = np.tile(a, 3)\n",
    "print('\\ntile,', '{}:\\n'.format(tile.shape), tile)"
   ]
  },
  {
   "cell_type": "code",
   "execution_count": 10,
   "id": "1eee4e00",
   "metadata": {},
   "outputs": [
    {
     "name": "stdout",
     "output_type": "stream",
     "text": [
      "a = [0 1 2]\n",
      "\n",
      "tile1, (1, 6):\n",
      " [[0 1 2 0 1 2]]\n",
      "\n",
      "tile2, (2, 3):\n",
      " [[0 1 2]\n",
      " [0 1 2]]\n",
      "\n",
      "tile3, (2, 6):\n",
      " [[0 1 2 0 1 2]\n",
      " [0 1 2 0 1 2]]\n"
     ]
    }
   ],
   "source": [
    "a = np.arange(3)\n",
    "print('a =', a)\n",
    "\n",
    "tile1 = np.tile(a, reps=[1, 2])\n",
    "print('\\ntile1,', '{}:\\n'.format(tile1.shape), tile1)\n",
    "\n",
    "tile2 = np.tile(a, reps=[2, 1])\n",
    "print('\\ntile2,', '{}:\\n'.format(tile2.shape), tile2)\n",
    "\n",
    "# 행 방향으로 2번, 열 방향으로 2번 반복\n",
    "tile3 = np.tile(a, reps=[2, 2])\n",
    "print('\\ntile3,', '{}:\\n'.format(tile3.shape), tile3)"
   ]
  },
  {
   "cell_type": "code",
   "execution_count": 11,
   "id": "7a62b077",
   "metadata": {},
   "outputs": [
    {
     "name": "stdout",
     "output_type": "stream",
     "text": [
      "a, (2, 3):\n",
      " [[0 1 2]\n",
      " [3 4 5]]\n",
      "\n",
      "tile, (2, 6):\n",
      " [[0 1 2 0 1 2]\n",
      " [3 4 5 3 4 5]]\n",
      "\n",
      "tile2, (4, 3):\n",
      " [[0 1 2]\n",
      " [3 4 5]\n",
      " [0 1 2]\n",
      " [3 4 5]]\n",
      "\n",
      "tile3, (4, 6):\n",
      " [[0 1 2 0 1 2]\n",
      " [3 4 5 3 4 5]\n",
      " [0 1 2 0 1 2]\n",
      " [3 4 5 3 4 5]]\n"
     ]
    }
   ],
   "source": [
    "# 행렬\n",
    "a = np.arange(6).reshape((2, 3))\n",
    "print('a,', '{}:\\n'.format(a.shape),a)\n",
    "\n",
    "# 행 방향으로 1번, 열 방향으로 2번 반복\n",
    "tile = np.tile(a, reps=[1, 2])\n",
    "print('\\ntile,', '{}:\\n'.format(tile.shape), tile)\n",
    "\n",
    "# 행 방향으로 2번, 열 방향으로 1번 반복\n",
    "tile2 = np.tile(a, reps=[2, 1])\n",
    "print('\\ntile2,', '{}:\\n'.format(tile2.shape), tile2)\n",
    "\n",
    "# 행 방향으로 2번, 열 방향으로 2번 반복\n",
    "tile3 = np.tile(a, reps=[2, 2])\n",
    "print('\\ntile3,', '{}:\\n'.format(tile3.shape), tile3)"
   ]
  },
  {
   "cell_type": "code",
   "execution_count": 12,
   "id": "b8a08b71",
   "metadata": {},
   "outputs": [
    {
     "name": "stdout",
     "output_type": "stream",
     "text": [
      "a, (2, 3):\n",
      " [[0 1 2]\n",
      " [3 4 5]]\n",
      "\n",
      "tile, (6, 15):\n",
      " [[0 1 2 0 1 2 0 1 2 0 1 2 0 1 2]\n",
      " [3 4 5 3 4 5 3 4 5 3 4 5 3 4 5]\n",
      " [0 1 2 0 1 2 0 1 2 0 1 2 0 1 2]\n",
      " [3 4 5 3 4 5 3 4 5 3 4 5 3 4 5]\n",
      " [0 1 2 0 1 2 0 1 2 0 1 2 0 1 2]\n",
      " [3 4 5 3 4 5 3 4 5 3 4 5 3 4 5]]\n",
      "& reps * a.shape = [ 6 15]\n"
     ]
    }
   ],
   "source": [
    "a = np.arange(6).reshape((2, 3))\n",
    "print('a,', '{}:\\n'.format(a.shape), a)\n",
    "\n",
    "reps = np.array([3, 5])\n",
    "tile = np.tile(a, reps=reps)\n",
    "print('\\ntile,', '{}:\\n'.format(tile.shape), tile)\n",
    "print('& reps * a.shape =', reps * a.shape)"
   ]
  },
  {
   "cell_type": "code",
   "execution_count": 13,
   "id": "4a8a35a3",
   "metadata": {},
   "outputs": [
    {
     "name": "stdout",
     "output_type": "stream",
     "text": [
      "a, (1, 4):\n",
      " [[0 1 2 3]]\n",
      "\n",
      "tile, (5, 4):\n",
      " [[0 1 2 3]\n",
      " [0 1 2 3]\n",
      " [0 1 2 3]\n",
      " [0 1 2 3]\n",
      " [0 1 2 3]]\n"
     ]
    }
   ],
   "source": [
    "# 행벡터\n",
    "a = np.arange(4).reshape((1, -1))\n",
    "print('a,', '{}:\\n'.format(a.shape), a)\n",
    "\n",
    "tile = np.tile(a, reps=[5, 1])\n",
    "print('\\ntile,', '{}:\\n'.format(tile.shape), tile)"
   ]
  },
  {
   "cell_type": "code",
   "execution_count": 14,
   "id": "8ffa56c7",
   "metadata": {},
   "outputs": [
    {
     "name": "stdout",
     "output_type": "stream",
     "text": [
      "a, (4, 1):\n",
      " [[0]\n",
      " [1]\n",
      " [2]\n",
      " [3]]\n",
      "\n",
      "tile, (4, 5):\n",
      " [[0 0 0 0 0]\n",
      " [1 1 1 1 1]\n",
      " [2 2 2 2 2]\n",
      " [3 3 3 3 3]]\n"
     ]
    }
   ],
   "source": [
    "# 열벡터\n",
    "a = np.arange(4).reshape((-1, 1))\n",
    "print('a,', '{}:\\n'.format(a.shape), a)\n",
    "\n",
    "tile = np.tile(a, reps=[1, 5])\n",
    "print('\\ntile,', '{}:\\n'.format(tile.shape), tile)"
   ]
  },
  {
   "cell_type": "markdown",
   "id": "d2a8b6a6",
   "metadata": {},
   "source": [
    "## ✅ 응용"
   ]
  },
  {
   "cell_type": "markdown",
   "id": "ba976a8b",
   "metadata": {},
   "source": [
    "### row-wise"
   ]
  },
  {
   "cell_type": "code",
   "execution_count": 15,
   "id": "8a1c4f88",
   "metadata": {},
   "outputs": [
    {
     "name": "stdout",
     "output_type": "stream",
     "text": [
      "x, (4, 3):\n",
      " [[ 0  1  2]\n",
      " [ 3  4  5]\n",
      " [ 6  7  8]\n",
      " [ 9 10 11]]\n",
      "\n",
      "x_sum, (1, 3):\n",
      " [[18 22 26]]\n",
      "\n",
      "x_repeat, (3, 3):\n",
      " [[18 22 26]\n",
      " [18 22 26]\n",
      " [18 22 26]]\n",
      "\n",
      "x_T, (3, 3):\n",
      " [[18 18 18]\n",
      " [22 22 22]\n",
      " [26 26 26]]\n"
     ]
    }
   ],
   "source": [
    "x = np.arange(12).reshape((4, -1))\n",
    "print('x,', '{}:\\n'.format(x.shape), x)\n",
    "\n",
    "x_sum = x.sum(axis=0, keepdims=True)\n",
    "print('\\nx_sum,', '{}:\\n'.format(x_sum.shape), x_sum)\n",
    "\n",
    "x_repeat = x_sum.repeat(3, axis=0)\n",
    "print('\\nx_repeat,', '{}:\\n'.format(x_repeat.shape), x_repeat)\n",
    "\n",
    "x_T = x_repeat.T\n",
    "print('\\nx_T,', '{}:\\n'.format(x_T.shape), x_T)"
   ]
  },
  {
   "cell_type": "code",
   "execution_count": 16,
   "id": "0c821f06",
   "metadata": {},
   "outputs": [
    {
     "name": "stdout",
     "output_type": "stream",
     "text": [
      "x, (4, 3):\n",
      " [[ 0  1  2]\n",
      " [ 3  4  5]\n",
      " [ 6  7  8]\n",
      " [ 9 10 11]]\n",
      "\n",
      "y, (3, 3):\n",
      " [[18 18 18]\n",
      " [22 22 22]\n",
      " [26 26 26]]\n"
     ]
    }
   ],
   "source": [
    "# 위 코드의 단축 표현\n",
    "x = np.arange(12).reshape((4, -1))\n",
    "print('x,', '{}:\\n'.format(x.shape), x)\n",
    "\n",
    "y = x.sum(axis=0, keepdims=True).repeat(3, axis=0).T\n",
    "print('\\ny,', '{}:\\n'.format(y.shape), y)"
   ]
  },
  {
   "cell_type": "markdown",
   "id": "0122f1aa",
   "metadata": {},
   "source": [
    "### column-wise"
   ]
  },
  {
   "cell_type": "code",
   "execution_count": 17,
   "id": "a890900e",
   "metadata": {},
   "outputs": [
    {
     "name": "stdout",
     "output_type": "stream",
     "text": [
      "x, (4, 3):\n",
      " [[ 0  1  2]\n",
      " [ 3  4  5]\n",
      " [ 6  7  8]\n",
      " [ 9 10 11]]\n",
      "\n",
      "x_sum, (4, 1):\n",
      " [[ 3]\n",
      " [12]\n",
      " [21]\n",
      " [30]]\n",
      "\n",
      "x_repeat, (4, 2):\n",
      " [[ 3  3]\n",
      " [12 12]\n",
      " [21 21]\n",
      " [30 30]]\n",
      "\n",
      "x_T, (2, 4):\n",
      " [[ 3 12 21 30]\n",
      " [ 3 12 21 30]]\n"
     ]
    }
   ],
   "source": [
    "x = np.arange(12).reshape((4, 3))\n",
    "print('x,', '{}:\\n'.format(x.shape), x)\n",
    "\n",
    "x_sum = x.sum(axis=1, keepdims=True)\n",
    "print('\\nx_sum,', '{}:\\n'.format(x_sum.shape), x_sum)\n",
    "\n",
    "x_repeat = x_sum.repeat(2, axis=1)\n",
    "print('\\nx_repeat,', '{}:\\n'.format(x_repeat.shape), x_repeat)\n",
    "\n",
    "x_T = x_repeat.T\n",
    "print('\\nx_T,', '{}:\\n'.format(x_T.shape), x_T)"
   ]
  },
  {
   "cell_type": "code",
   "execution_count": 18,
   "id": "30cc88aa",
   "metadata": {},
   "outputs": [
    {
     "name": "stdout",
     "output_type": "stream",
     "text": [
      "x, (4, 3):\n",
      " [[ 0  1  2]\n",
      " [ 3  4  5]\n",
      " [ 6  7  8]\n",
      " [ 9 10 11]]\n",
      "\n",
      "y, (2, 4):\n",
      " [[ 3 12 21 30]\n",
      " [ 3 12 21 30]]\n"
     ]
    }
   ],
   "source": [
    "# 위 코드의 단축 표현\n",
    "x = np.arange(12).reshape((4, 3))\n",
    "print('x,', '{}:\\n'.format(x.shape), x)\n",
    "\n",
    "y = x.sum(axis=1, keepdims=True).repeat(2, axis=1).T\n",
    "print('\\ny,', '{}:\\n'.format(y.shape), y)"
   ]
  }
 ],
 "metadata": {
  "kernelspec": {
   "display_name": "Python 3 (ipykernel)",
   "language": "python",
   "name": "python3"
  },
  "language_info": {
   "codemirror_mode": {
    "name": "ipython",
    "version": 3
   },
   "file_extension": ".py",
   "mimetype": "text/x-python",
   "name": "python",
   "nbconvert_exporter": "python",
   "pygments_lexer": "ipython3",
   "version": "3.10.9"
  }
 },
 "nbformat": 4,
 "nbformat_minor": 5
}
