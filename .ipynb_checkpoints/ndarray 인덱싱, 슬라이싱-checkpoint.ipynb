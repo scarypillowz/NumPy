{
 "cells": [
  {
   "cell_type": "markdown",
   "id": "fd4e57cc",
   "metadata": {},
   "source": [
    "# 넘파이 배열의 인덱싱과 슬라이싱"
   ]
  },
  {
   "cell_type": "code",
   "execution_count": 1,
   "id": "ea788d4a",
   "metadata": {},
   "outputs": [],
   "source": [
    "import numpy as np"
   ]
  },
  {
   "cell_type": "markdown",
   "id": "b365549a",
   "metadata": {},
   "source": [
    "## ✅ 1차원\n",
    "- 파이썬 리스트와 같이 반복문 사용이 가능하다."
   ]
  },
  {
   "cell_type": "markdown",
   "id": "a3ed25c4",
   "metadata": {},
   "source": [
    "### 인덱싱\n",
    "파이썬 리스트 인덱싱 외에도 추가 기능을 제공한다."
   ]
  },
  {
   "cell_type": "code",
   "execution_count": 2,
   "id": "439079a4",
   "metadata": {},
   "outputs": [
    {
     "name": "stdout",
     "output_type": "stream",
     "text": [
      "a = [0 1 2 3 4 5 6 7 8 9]\n",
      "a[0] = 0\n",
      "a[3] = 3\n",
      "a[-1] = 9\n",
      "a[-3] = 7\n"
     ]
    }
   ],
   "source": [
    "a = np.arange(10)\n",
    "print('a =', a)\n",
    "\n",
    "print('a[0] =', a[0])\n",
    "print('a[3] =', a[3])\n",
    "\n",
    "print('a[-1] =', a[-1])\n",
    "print('a[-3] =', a[-3])"
   ]
  },
  {
   "cell_type": "code",
   "execution_count": 3,
   "id": "baea85bd",
   "metadata": {},
   "outputs": [
    {
     "name": "stdout",
     "output_type": "stream",
     "text": [
      "a = [0 1 2 3 4 5 6 7 8 9]\n",
      "a[[0, 3, 6, -1]] = [0 3 6 9]\n",
      "a[indices] = [0 3 6 9]\n",
      "a[a % 3 == 0] = [0 3 6 9]\n"
     ]
    }
   ],
   "source": [
    "# 추가 기능 1\n",
    "a = np.arange(10)\n",
    "indices = np.array([0, 3, 6, -1])\n",
    "print('a =', a)\n",
    "\n",
    "print('a[[0, 3, 6, -1]] =', a[[0, 3, 6, -1]])\n",
    "print('a[indices] =', a[indices])\n",
    "print('a[a % 3 == 0] =', a[a % 3 == 0])"
   ]
  },
  {
   "cell_type": "code",
   "execution_count": 4,
   "id": "d9a95408",
   "metadata": {},
   "outputs": [
    {
     "name": "stdout",
     "output_type": "stream",
     "text": [
      "a = [ 1  2  3  4  5  6  7  8  9 10]\n",
      "a = [ 0  0  0  0  0  6  7  8  9 10]\n",
      "b = [ 1  2  3  4  5  6  7  8  9 10]\n",
      "b = [999   2 999   4 999   6 999   8 999  10]\n"
     ]
    }
   ],
   "source": [
    "# 추가 기능 2 (for문 대체) ⭐️⭐️⭐️⭐️⭐️\n",
    "a = np.arange(1, 11)\n",
    "print('a =', a)\n",
    "\n",
    "a[:5] = 0\n",
    "print('a =', a)\n",
    "\n",
    "b = np.arange(1, 11)\n",
    "print('b =', b)\n",
    "\n",
    "b[::2] = 999\n",
    "print('b =', b)"
   ]
  },
  {
   "cell_type": "markdown",
   "id": "71ba9486",
   "metadata": {},
   "source": [
    "### 슬라이싱\n",
    "- arr[x, y)"
   ]
  },
  {
   "cell_type": "code",
   "execution_count": 5,
   "id": "e56bf21c",
   "metadata": {},
   "outputs": [
    {
     "name": "stdout",
     "output_type": "stream",
     "text": [
      "a = [0 1 2 3 4 5 6 7 8 9]\n",
      "a[0:3] = [0 1 2]\n",
      "a[5:-1] = [5 6 7 8]\n",
      "a[-2:] = [8 9]\n",
      "a[::3] = [0 3 6 9]\n",
      "a[7:2:-1] = [7 6 5 4 3]\n",
      "a[::-1] = [9 8 7 6 5 4 3 2 1 0]\n"
     ]
    }
   ],
   "source": [
    "a =np.arange(10)\n",
    "print('a =', a)\n",
    "\n",
    "print('a[0:3] =', a[0:3])\n",
    "print('a[5:-1] =', a[5:-1])\n",
    "print('a[-2:] =', a[-2:])  # last 2 elements\n",
    "\n",
    "print('a[::3] =', a[::3])\n",
    "print('a[7:2:-1] =', a[7:2:-1])\n",
    "print('a[::-1] =', a[::-1])"
   ]
  },
  {
   "cell_type": "markdown",
   "id": "f4a45fed",
   "metadata": {},
   "source": [
    "## ✅ 2차원\n",
    "- 바깥쪽 차원(outer dimension)부터 접근한다.\n",
    "- 서로 다른 차원은 콤마를 기준으로 인덱싱한다."
   ]
  },
  {
   "cell_type": "code",
   "execution_count": 6,
   "id": "fc34be32",
   "metadata": {},
   "outputs": [
    {
     "name": "stdout",
     "output_type": "stream",
     "text": [
      "a=\n",
      " [[ 0  1  2  3]\n",
      " [ 4  5  6  7]\n",
      " [ 8  9 10 11]]\n",
      "a[0] = [0 1 2 3]\n",
      "a[2] = [ 8  9 10 11]\n"
     ]
    }
   ],
   "source": [
    "a = np.arange(12).reshape((3, 4))\n",
    "print('a=\\n', a)\n",
    "\n",
    "print('a[0] =', a[0])\n",
    "print('a[2] =', a[2])"
   ]
  },
  {
   "cell_type": "code",
   "execution_count": 7,
   "id": "a428923f",
   "metadata": {},
   "outputs": [
    {
     "name": "stdout",
     "output_type": "stream",
     "text": [
      "a=\n",
      " [[0 1 2]\n",
      " [3 4 5]\n",
      " [6 7 8]]\n",
      "0 1 2\n",
      "3 4 5\n",
      "6 7 8\n"
     ]
    }
   ],
   "source": [
    "a = np.arange(9).reshape((3, 3))\n",
    "print('a=\\n', a)\n",
    "\n",
    "print(a[0, 0], a[0, 1], a[0, 2])\n",
    "print(a[1, 0], a[1, 1], a[1, 2])\n",
    "print(a[2, 0], a[2, 1], a[2, 2])"
   ]
  },
  {
   "cell_type": "code",
   "execution_count": 8,
   "id": "5633c7dc",
   "metadata": {},
   "outputs": [
    {
     "name": "stdout",
     "output_type": "stream",
     "text": [
      "a:\n",
      " [[ 0  1  2]\n",
      " [ 3  4  5]\n",
      " [ 6  7  8]\n",
      " [ 9 10 11]]\n",
      "a[0, 1:]=\n",
      " [1 2]\n",
      "a[1:, 0]=\n",
      " [3 6 9]\n",
      "a[:3, 1]=\n",
      " [1 4 7]\n",
      "a[1:3, 2]=\n",
      " [5 8]\n"
     ]
    }
   ],
   "source": [
    "a = np.arange(12).reshape((4, 3))\n",
    "print('a:\\n', a)\n",
    "\n",
    "print('a[0, 1:]=\\n', a[0, 1:])\n",
    "print('a[1:, 0]=\\n', a[1:, 0])\n",
    "print('a[:3, 1]=\\n', a[:3, 1])\n",
    "print('a[1:3, 2]=\\n', a[1:3, 2])"
   ]
  },
  {
   "cell_type": "code",
   "execution_count": 9,
   "id": "29ce04ad",
   "metadata": {},
   "outputs": [
    {
     "name": "stdout",
     "output_type": "stream",
     "text": [
      "a:\n",
      " [[ 0  1  2  3]\n",
      " [ 4  5  6  7]\n",
      " [ 8  9 10 11]\n",
      " [12 13 14 15]]\n",
      "a[1:3, 1:3]=\n",
      " [[ 5  6]\n",
      " [ 9 10]]\n",
      "a[:2, :-1]=\n",
      " [[0 1 2]\n",
      " [4 5 6]]\n",
      "a[1:, -2:]\n",
      " [[ 6  7]\n",
      " [10 11]\n",
      " [14 15]]\n",
      "a[-2:, :-2]\n",
      " [[ 8  9]\n",
      " [12 13]]\n"
     ]
    }
   ],
   "source": [
    "a = np.arange(16).reshape((4, 4))\n",
    "print('a:\\n', a)\n",
    "\n",
    "print('a[1:3, 1:3]=\\n', a[1:3, 1:3])\n",
    "print('a[:2, :-1]=\\n', a[:2, :-1])\n",
    "print('a[1:, -2:]\\n', a[1:, -2:])\n",
    "print('a[-2:, :-2]\\n', a[-2:, :-2])"
   ]
  },
  {
   "cell_type": "code",
   "execution_count": 10,
   "id": "066dea12",
   "metadata": {},
   "outputs": [
    {
     "name": "stdout",
     "output_type": "stream",
     "text": [
      "a:\n",
      " [[0 1 2]\n",
      " [3 4 5]\n",
      " [6 7 8]]\n",
      "horizontal_flip:\n",
      " [[2 1 0]\n",
      " [5 4 3]\n",
      " [8 7 6]]\n",
      "vertical_flip:\n",
      " [[6 7 8]\n",
      " [3 4 5]\n",
      " [0 1 2]]\n",
      "rotation180\n",
      ": [[8 7 6]\n",
      " [5 4 3]\n",
      " [2 1 0]]\n"
     ]
    }
   ],
   "source": [
    "a = np.arange(9).reshape((3, 3))\n",
    "print('a:\\n', a)\n",
    "\n",
    "horizontal_flip = a[:, ::-1]\n",
    "print('horizontal_flip:\\n', horizontal_flip)\n",
    "\n",
    "vertical_flip = a[::-1, :]\n",
    "print('vertical_flip:\\n', vertical_flip)\n",
    "\n",
    "rotation180 = a[::-1, ::-1]\n",
    "print('rotation180\\n:', rotation180)"
   ]
  },
  {
   "cell_type": "code",
   "execution_count": 11,
   "id": "c25d59f1",
   "metadata": {},
   "outputs": [
    {
     "name": "stdout",
     "output_type": "stream",
     "text": [
      "a:\n",
      " [[ 0  1  2  3]\n",
      " [ 4  5  6  7]\n",
      " [ 8  9 10 11]\n",
      " [12 13 14 15]]\n",
      "a[0, :]:\n",
      " [0 1 2 3]\n",
      "a[0, ...]:\n",
      " [0 1 2 3]\n",
      "a[:, 1]:\n",
      " [ 1  5  9 13]\n",
      "a[..., 1]:\n",
      " [ 1  5  9 13]\n"
     ]
    }
   ],
   "source": [
    "# ... 기호의 의미\n",
    "a = np.arange(16).reshape((4, 4))\n",
    "print('a:\\n', a)\n",
    "\n",
    "print('a[0, :]:\\n', a[0, :])\n",
    "print('a[0, ...]:\\n', a[0, ...])\n",
    "\n",
    "print('a[:, 1]:\\n', a[:, 1])\n",
    "print('a[..., 1]:\\n', a[..., 1])"
   ]
  },
  {
   "cell_type": "markdown",
   "id": "7e9f684d",
   "metadata": {},
   "source": [
    "## ✅ 3차원\n",
    "바깥 차원에서부터 접근한다."
   ]
  },
  {
   "cell_type": "code",
   "execution_count": 12,
   "id": "afb2ec6d",
   "metadata": {},
   "outputs": [
    {
     "name": "stdout",
     "output_type": "stream",
     "text": [
      "a:\n",
      " [[[ 0  1  2]\n",
      "  [ 3  4  5]\n",
      "  [ 6  7  8]]\n",
      "\n",
      " [[ 9 10 11]\n",
      "  [12 13 14]\n",
      "  [15 16 17]]\n",
      "\n",
      " [[18 19 20]\n",
      "  [21 22 23]\n",
      "  [24 25 26]]]\n",
      "a[0] =\n",
      " [[0 1 2]\n",
      " [3 4 5]\n",
      " [6 7 8]]\n",
      "a[1] =\n",
      " [[ 9 10 11]\n",
      " [12 13 14]\n",
      " [15 16 17]]\n",
      "a[2] =\n",
      " [[18 19 20]\n",
      " [21 22 23]\n",
      " [24 25 26]]\n"
     ]
    }
   ],
   "source": [
    "a = np.arange(27).reshape((3, 3, 3))\n",
    "print('a:\\n', a)\n",
    "\n",
    "print('a[0] =\\n', a[0])\n",
    "print('a[1] =\\n', a[1])\n",
    "print('a[2] =\\n', a[2])"
   ]
  },
  {
   "cell_type": "code",
   "execution_count": 13,
   "id": "c3e95ddf",
   "metadata": {},
   "outputs": [
    {
     "name": "stdout",
     "output_type": "stream",
     "text": [
      "a:\n",
      " [[[ 0  1  2]\n",
      "  [ 3  4  5]\n",
      "  [ 6  7  8]]\n",
      "\n",
      " [[ 9 10 11]\n",
      "  [12 13 14]\n",
      "  [15 16 17]]\n",
      "\n",
      " [[18 19 20]\n",
      "  [21 22 23]\n",
      "  [24 25 26]]]\n",
      "a[0, 0] =\n",
      " [0 1 2]\n",
      "a[0, 1] =\n",
      " [3 4 5]\n",
      "a[0, 2] =\n",
      " [6 7 8]\n",
      "a[1, 0] =\n",
      " [ 9 10 11]\n",
      "a[1, 1] =\n",
      " [12 13 14]\n",
      "a[1, 2] =\n",
      " [15 16 17]\n",
      "a[2, 0] =\n",
      " [18 19 20]\n",
      "a[2, 1] =\n",
      " [21 22 23]\n",
      "a[2, 2] =\n",
      " [24 25 26]\n"
     ]
    }
   ],
   "source": [
    "a = np.arange(27).reshape((3, 3, 3))\n",
    "print('a:\\n', a)\n",
    "\n",
    "print('a[0, 0] =\\n', a[0, 0])\n",
    "print('a[0, 1] =\\n', a[0, 1])\n",
    "print('a[0, 2] =\\n', a[0, 2])\n",
    "\n",
    "print('a[1, 0] =\\n', a[1, 0])\n",
    "print('a[1, 1] =\\n', a[1, 1])\n",
    "print('a[1, 2] =\\n', a[1, 2])\n",
    "\n",
    "print('a[2, 0] =\\n', a[2, 0])\n",
    "print('a[2, 1] =\\n', a[2, 1])\n",
    "print('a[2, 2] =\\n', a[2, 2])"
   ]
  },
  {
   "cell_type": "code",
   "execution_count": 14,
   "id": "ba10bb12",
   "metadata": {},
   "outputs": [
    {
     "name": "stdout",
     "output_type": "stream",
     "text": [
      "a:\n",
      " [[[ 0  1  2]\n",
      "  [ 3  4  5]\n",
      "  [ 6  7  8]]\n",
      "\n",
      " [[ 9 10 11]\n",
      "  [12 13 14]\n",
      "  [15 16 17]]\n",
      "\n",
      " [[18 19 20]\n",
      "  [21 22 23]\n",
      "  [24 25 26]]]\n",
      "a[0, :-1, :-1] =\n",
      " [[0 1]\n",
      " [3 4]]\n",
      "a[1, :-1, :] =\n",
      " [[ 9 10 11]\n",
      " [12 13 14]]\n",
      "a[2, 1:, 1:] =\n",
      " [[22 23]\n",
      " [25 26]]\n"
     ]
    }
   ],
   "source": [
    "a = np.arange(27).reshape((3, 3, 3))\n",
    "print('a:\\n', a)\n",
    "\n",
    "print('a[0, :-1, :-1] =\\n', a[0, :-1, :-1])\n",
    "print('a[1, :-1, :] =\\n', a[1, :-1, :])\n",
    "print('a[2, 1:, 1:] =\\n', a[2, 1:, 1:])"
   ]
  },
  {
   "cell_type": "code",
   "execution_count": 15,
   "id": "c6f1b99b",
   "metadata": {},
   "outputs": [
    {
     "name": "stdout",
     "output_type": "stream",
     "text": [
      "image0:\n",
      " (100, 200)\n",
      "image0:\n",
      " (100, 200)\n",
      "col0:\n",
      " (32, 100)\n",
      "col0:\n",
      " (32, 100)\n",
      "image0_col0:\n",
      " (100,)\n",
      "image0_col0:\n",
      " (100,)\n"
     ]
    }
   ],
   "source": [
    "images = np.random.normal(size=(32, 100, 200))\n",
    "\n",
    "print('image0:\\n', images[0, :, :].shape)\n",
    "print('image0:\\n', images[0, ...].shape)\n",
    "\n",
    "print('col0:\\n', images[:, :, 0].shape)\n",
    "print('col0:\\n', images[..., 0].shape)\n",
    "\n",
    "print('image0_col0:\\n', images[0, :, 0].shape)\n",
    "print('image0_col0:\\n', images[0, ..., 0].shape)"
   ]
  },
  {
   "cell_type": "code",
   "execution_count": 16,
   "id": "65809a61",
   "metadata": {},
   "outputs": [
    {
     "name": "stdout",
     "output_type": "stream",
     "text": [
      "a[:, -1, :] =\n",
      " [[[ 0  1  2]\n",
      "  [ 3  4  5]]\n",
      "\n",
      " [[ 9 10 11]\n",
      "  [12 13 14]]\n",
      "\n",
      " [[18 19 20]\n",
      "  [21 22 23]]]\n",
      "a[..., 0] =\n",
      " [[ 0  3  6]\n",
      " [ 9 12 15]\n",
      " [18 21 24]]\n",
      "a[1:, 1:, 1:] =\n",
      " [[[13 14]\n",
      "  [16 17]]\n",
      "\n",
      " [[22 23]\n",
      "  [25 26]]]\n"
     ]
    }
   ],
   "source": [
    "a = np.arange(27).reshape((3, 3, 3))\n",
    "\n",
    "print('a[:, -1, :] =\\n', a[:, :-1, :])\n",
    "print('a[..., 0] =\\n', a[..., 0])\n",
    "print('a[1:, 1:, 1:] =\\n', a[1:, 1:, 1:])"
   ]
  },
  {
   "cell_type": "code",
   "execution_count": 17,
   "id": "02d13fda",
   "metadata": {},
   "outputs": [
    {
     "name": "stdout",
     "output_type": "stream",
     "text": [
      "(500, 300) (500, 300) (500, 300)\n",
      "(500, 300) (500, 300) (500, 300)\n"
     ]
    }
   ],
   "source": [
    "image = np.random.normal(size=(3, 500, 300))\n",
    "image_r = image[0]\n",
    "image_g = image[1]\n",
    "image_b = image[2]\n",
    "print(image_r.shape, image_g.shape, image_b.shape)\n",
    "\n",
    "image2 = np.random.normal(size=(500, 300, 3))\n",
    "image2_r = image2[..., 0]\n",
    "image2_g = image2[..., 1]\n",
    "image2_b = image2[..., 2]\n",
    "print(image2_r.shape, image2_g.shape, image2_b.shape)"
   ]
  },
  {
   "cell_type": "code",
   "execution_count": 18,
   "id": "0c4d0027",
   "metadata": {},
   "outputs": [
    {
     "name": "stdout",
     "output_type": "stream",
     "text": [
      "(500, 300) (500, 300) (500, 300)\n"
     ]
    }
   ],
   "source": [
    "image = np.random.normal(size=(3, 500, 300))\n",
    "image_r, image_g, image_b = image\n",
    "print(image_r.shape, image_b.shape, image_b.shape)"
   ]
  },
  {
   "cell_type": "code",
   "execution_count": 19,
   "id": "42312881",
   "metadata": {},
   "outputs": [
    {
     "name": "stdout",
     "output_type": "stream",
     "text": [
      "(3, 100, 100) (3, 100, 100) (3, 100, 100) (3, 100, 100)\n"
     ]
    }
   ],
   "source": [
    "image = np.random.normal(size=(3, 500, 300))\n",
    "\n",
    "top_left = image[:, :100, :100]\n",
    "top_right = image[:, :100, -100:]\n",
    "bottom_left = image[:, -100:, :100]\n",
    "bottom_right = image[:, -100:, -100:]\n",
    "print(top_left.shape, top_right.shape, bottom_left.shape, bottom_right.shape)"
   ]
  },
  {
   "cell_type": "markdown",
   "id": "4653b1d2",
   "metadata": {},
   "source": [
    "## ✅ 인덱싱(정수 배열)\n",
    "정수 배열의 shape은 인덱싱 결과 배열의 shape에 영향을 미친다."
   ]
  },
  {
   "cell_type": "code",
   "execution_count": 20,
   "id": "e04b5f26",
   "metadata": {},
   "outputs": [
    {
     "name": "stdout",
     "output_type": "stream",
     "text": [
      "a:\n",
      " [0 1 2 3 4 5 6 7 8]\n",
      "a[indices] = [0 3 4]\n"
     ]
    }
   ],
   "source": [
    "a = np.arange(9)\n",
    "print('a:\\n', a)\n",
    "\n",
    "indices = [0, 3, 4]\n",
    "print('a[indices] =', a[indices])"
   ]
  },
  {
   "cell_type": "code",
   "execution_count": 21,
   "id": "dc6289cd",
   "metadata": {},
   "outputs": [
    {
     "name": "stdout",
     "output_type": "stream",
     "text": [
      "a:\n",
      " [0 1 2 3 4 5 6 7 8 9]\n",
      "a[indices] = [0 0 5 5 8]\n"
     ]
    }
   ],
   "source": [
    "a = np.arange(10)\n",
    "print('a:\\n', a)\n",
    "\n",
    "indices = [0, 0, 5, 5, 8]\n",
    "print('a[indices] =', a[indices])"
   ]
  },
  {
   "cell_type": "code",
   "execution_count": 22,
   "id": "dd1e43e1",
   "metadata": {},
   "outputs": [
    {
     "name": "stdout",
     "output_type": "stream",
     "text": [
      "a:\n",
      " [0 1 2 3 4 5 6 7 8 9]\n",
      "a[indices] =\n",
      " [[1 2 3]\n",
      " [5 8 9]]\n"
     ]
    }
   ],
   "source": [
    "# 1차원\n",
    "a = np.arange(10)\n",
    "print('a:\\n', a)\n",
    "\n",
    "indices = np.array([[1, 2, 3], [5, 8, 9]])\n",
    "print('a[indices] =\\n', a[indices])"
   ]
  },
  {
   "cell_type": "code",
   "execution_count": 23,
   "id": "1025dfa8",
   "metadata": {},
   "outputs": [
    {
     "name": "stdout",
     "output_type": "stream",
     "text": [
      "a:\n",
      " [ 4 19  6  8 18  4 17  8  0  1]\n",
      "a[indices] =\n",
      " [[[ 4  4  0  6]\n",
      "  [ 4  6  8  6]\n",
      "  [ 6  4  4 19]]\n",
      "\n",
      " [[19  0 18  4]\n",
      "  [ 4  4 19  4]\n",
      "  [ 6  0  1 17]]]\n"
     ]
    }
   ],
   "source": [
    "# 1차원\n",
    "a = np.random.randint(0, 20, (10, ))\n",
    "print('a:\\n', a)\n",
    "\n",
    "indices = np.random.randint(0, 10, size=(2, 3, 4))\n",
    "print('a[indices] =\\n', a[indices])"
   ]
  },
  {
   "cell_type": "code",
   "execution_count": 24,
   "id": "6c9f50c5",
   "metadata": {},
   "outputs": [
    {
     "name": "stdout",
     "output_type": "stream",
     "text": [
      "a:\n",
      " [[ 0  1  2  3]\n",
      " [ 4  5  6  7]\n",
      " [ 8  9 10 11]]\n",
      "a[indices] =\n",
      " [[ 0  1  2  3]\n",
      " [ 8  9 10 11]]\n"
     ]
    }
   ],
   "source": [
    "# 2차원\n",
    "a = np.arange(12).reshape((3, 4))\n",
    "print('a:\\n', a)\n",
    "\n",
    "# 2개를 인덱싱하고 싶은데 각각의 크기가 (4, ) → 최종 shape은 (2, 4)\n",
    "indices = np.array([0, 2])\n",
    "print('a[indices] =\\n', a[indices])"
   ]
  },
  {
   "cell_type": "code",
   "execution_count": 25,
   "id": "9fd65239",
   "metadata": {},
   "outputs": [
    {
     "name": "stdout",
     "output_type": "stream",
     "text": [
      "a:\n",
      " [[ 0  1  2  3]\n",
      " [ 4  5  6  7]\n",
      " [ 8  9 10 11]]\n",
      "a[indices] =\n",
      " [[ 0  1  2  3]\n",
      " [ 0  1  2  3]\n",
      " [ 4  5  6  7]\n",
      " [ 4  5  6  7]\n",
      " [ 8  9 10 11]\n",
      " [ 8  9 10 11]]\n"
     ]
    }
   ],
   "source": [
    "a = np.arange(12).reshape((3, 4))\n",
    "print('a:\\n', a)\n",
    "\n",
    "# 6개를 인덱싱하고 싶은데 각각의 크기가 (4, ) → 최종 shape은 (6, 4)\n",
    "indices = np.array([0, 0, 1, 1, 2, 2])\n",
    "print('a[indices] =\\n', a[indices])"
   ]
  },
  {
   "cell_type": "code",
   "execution_count": 26,
   "id": "26acb387",
   "metadata": {},
   "outputs": [
    {
     "name": "stdout",
     "output_type": "stream",
     "text": [
      "a:\n",
      " [[ 0  1  2  3]\n",
      " [ 4  5  6  7]\n",
      " [ 8  9 10 11]]\n",
      "a[indices] =\n",
      " [[[ 0  1  2  3]\n",
      "  [ 4  5  6  7]\n",
      "  [ 8  9 10 11]]\n",
      "\n",
      " [[ 0  1  2  3]\n",
      "  [ 4  5  6  7]\n",
      "  [ 8  9 10 11]]]\n"
     ]
    }
   ],
   "source": [
    "a = np.arange(12).reshape((3, 4))\n",
    "print('a:\\n', a)\n",
    "\n",
    "indices = np.array([[0, 1, 2], [-3, -2, -1]])  # shape: (2, 3)\n",
    "print('a[indices] =\\n', a[indices])"
   ]
  },
  {
   "cell_type": "code",
   "execution_count": 27,
   "id": "20025932",
   "metadata": {},
   "outputs": [
    {
     "name": "stdout",
     "output_type": "stream",
     "text": [
      "a:\n",
      " [[ 0  1  2  3]\n",
      " [ 4  5  6  7]\n",
      " [ 8  9 10 11]]\n",
      "a[0, 0] = 0\n",
      "a[indices, indices1] = [0]\n",
      "a[indices2, indices3] = [6]\n",
      "a[indices4, indices5] = [8]\n",
      "a[indices6, indices7] = [11]\n"
     ]
    }
   ],
   "source": [
    "a = np.arange(12).reshape((3, 4))\n",
    "print('a:\\n', a)\n",
    "\n",
    "print('a[0, 0] =', a[0, 0])\n",
    "\n",
    "indices0, indices1 = np.array([0]), np.array([0])\n",
    "print('a[indices, indices1] =', a[indices0, indices1])\n",
    "\n",
    "indices2, indices3 = np.array([1]), np.array([2])\n",
    "print('a[indices2, indices3] =', a[indices2, indices3])\n",
    "\n",
    "indices4, indices5 = np.array([-1]), np.array([0])\n",
    "print('a[indices4, indices5] =', a[indices4, indices5])\n",
    "\n",
    "indices6, indices7 = np.array([-1]), np.array([-1])\n",
    "print('a[indices6, indices7] =', a[indices6, indices7])"
   ]
  },
  {
   "cell_type": "markdown",
   "id": "c83acdaf",
   "metadata": {},
   "source": [
    "### 💡 정수(인덱스) 배열이 2개"
   ]
  },
  {
   "cell_type": "code",
   "execution_count": 28,
   "id": "99c41a57",
   "metadata": {},
   "outputs": [
    {
     "name": "stdout",
     "output_type": "stream",
     "text": [
      "a:\n",
      " [[ 0  1  2  3]\n",
      " [ 4  5  6  7]\n",
      " [ 8  9 10 11]]\n",
      "a[indices0, indices1] =\n",
      " [ 1  6 11]\n"
     ]
    }
   ],
   "source": [
    "a = np.arange(12).reshape((3, 4))\n",
    "print('a:\\n', a)\n",
    "\n",
    "indices0, indices1 = np.array([0, 1, 2]), np.array([1, 2, 3])  # shape (3, )\n",
    "print('a[indices0, indices1] =\\n', a[indices0, indices1])"
   ]
  },
  {
   "cell_type": "code",
   "execution_count": 29,
   "id": "574f2903",
   "metadata": {},
   "outputs": [
    {
     "name": "stdout",
     "output_type": "stream",
     "text": [
      "a:\n",
      " [[ 0  1  2  3]\n",
      " [ 4  5  6  7]\n",
      " [ 8  9 10 11]]\n",
      "a[indices0, indices1] =\n",
      " [[ 0  5 10]\n",
      " [ 1  6 11]]\n"
     ]
    }
   ],
   "source": [
    "a = np.arange(12).reshape((3, 4))\n",
    "print('a:\\n', a)\n",
    "\n",
    "# shape (2, 3)\n",
    "indices0 = np.array([[0, 1, 2], [0, 1, 2]])\n",
    "indices1 = np.array([[0, 1, 2], [1, 2, 3]])\n",
    "\n",
    "print('a[indices0, indices1] =\\n', a[indices0, indices1])"
   ]
  },
  {
   "cell_type": "markdown",
   "id": "1db9f6d2",
   "metadata": {},
   "source": [
    "## ✅ 인덱싱(불리언 배열)\n",
    "인덱싱 대상 배열과 shape이 동일해야 한다."
   ]
  },
  {
   "cell_type": "code",
   "execution_count": 30,
   "id": "9edce3eb",
   "metadata": {},
   "outputs": [
    {
     "name": "stdout",
     "output_type": "stream",
     "text": [
      "a:\n",
      " [0 1 2 3 4]\n",
      "a[b_indices] = [0 2 4]\n"
     ]
    }
   ],
   "source": [
    "a = np.arange(5)\n",
    "print('a:\\n', a)\n",
    "\n",
    "b_indices = np.array([True, False, True, False, True])\n",
    "print('a[b_indices] =', a[b_indices])"
   ]
  },
  {
   "cell_type": "code",
   "execution_count": 31,
   "id": "fee46378",
   "metadata": {},
   "outputs": [
    {
     "name": "stdout",
     "output_type": "stream",
     "text": [
      "a:\n",
      " [15  8  9 13 10  1  2  7 14  8]\n",
      "b_indices = [False  True False False  True False  True False  True  True]\n",
      "a[b_indices] = [ 8 10  2 14  8]\n"
     ]
    }
   ],
   "source": [
    "a = np.random.randint(0, 20, (10, ))\n",
    "print('a:\\n', a)\n",
    "\n",
    "b_indices = (a % 2 == 0)\n",
    "print('b_indices =', b_indices)\n",
    "print('a[b_indices] =', a[b_indices])"
   ]
  },
  {
   "cell_type": "code",
   "execution_count": 32,
   "id": "8df559f8",
   "metadata": {},
   "outputs": [
    {
     "name": "stdout",
     "output_type": "stream",
     "text": [
      "a:\n",
      " [[ 7  8]\n",
      " [ 2 14]]\n",
      "a[b_indices] =\n",
      " [ 7 14]\n"
     ]
    }
   ],
   "source": [
    "a = np.random.randint(0, 20, (2, 2))\n",
    "print('a:\\n', a)\n",
    "\n",
    "b_indices = np.array([[True, False],\n",
    "                     [False, True]])\n",
    "\n",
    "print('a[b_indices] =\\n', a[b_indices])"
   ]
  },
  {
   "cell_type": "code",
   "execution_count": 33,
   "id": "f7f07362",
   "metadata": {},
   "outputs": [
    {
     "name": "stdout",
     "output_type": "stream",
     "text": [
      "a:\n",
      " [[14  5]\n",
      " [19 15]]\n",
      "a[b_indices] =\n",
      " [14 19 15]\n"
     ]
    }
   ],
   "source": [
    "a = np.random.randint(0, 20, (2, 2))\n",
    "print('a:\\n', a)\n",
    "\n",
    "b_indices = (a > 10)\n",
    "print('a[b_indices] =\\n', a[b_indices])"
   ]
  },
  {
   "cell_type": "markdown",
   "id": "ba655248",
   "metadata": {},
   "source": [
    "### np.nonzero, np.where\n",
    "정수 배열을 리턴하기 때문에 이 두 API의 결과를 사용해 인덱싱이 가능하다."
   ]
  },
  {
   "cell_type": "code",
   "execution_count": 34,
   "id": "e4804a3c",
   "metadata": {},
   "outputs": [
    {
     "name": "stdout",
     "output_type": "stream",
     "text": [
      "nonzero = (array([0, 2]),)\n",
      "where = (array([0, 2]),)\n"
     ]
    }
   ],
   "source": [
    "a = np.array([True, False, True, False])\n",
    "\n",
    "nonzero = np.nonzero(a)\n",
    "where = np.where(a)\n",
    "\n",
    "print('nonzero =', nonzero)\n",
    "print('where =', where)"
   ]
  },
  {
   "cell_type": "code",
   "execution_count": 35,
   "id": "de6d1abb",
   "metadata": {},
   "outputs": [
    {
     "name": "stdout",
     "output_type": "stream",
     "text": [
      "nonzero = (array([0, 1]), array([0, 0])) → (0, 0) & (1, 0)\n",
      "where = (array([0, 1]), array([0, 0])) → (0, 0) & (1, 0)\n"
     ]
    }
   ],
   "source": [
    "a = np.array([[True, False], [True, False]])\n",
    "\n",
    "nonzero = np.nonzero(a)\n",
    "where = np.where(a)\n",
    "\n",
    "print('nonzero =', nonzero, '→', '(0, 0) & (1, 0)')\n",
    "print('where =', where, '→', '(0, 0) & (1, 0)')"
   ]
  },
  {
   "cell_type": "code",
   "execution_count": 36,
   "id": "e8dfec8b",
   "metadata": {},
   "outputs": [
    {
     "name": "stdout",
     "output_type": "stream",
     "text": [
      "a:\n",
      " [[[ True False  True]\n",
      "  [ True False False]]\n",
      "\n",
      " [[False  True False]\n",
      "  [ True False  True]]]\n",
      "nonzero = (array([0, 0, 0, 1, 1, 1]), array([0, 0, 1, 0, 1, 1]), array([0, 2, 0, 1, 0, 2])) \n",
      " → (0, 0, 0) & (0, 0, 2) & ...\n",
      "where = (array([0, 0, 0, 1, 1, 1]), array([0, 0, 1, 0, 1, 1]), array([0, 2, 0, 1, 0, 2])) \n",
      " → (0, 0, 0) & (0, 0, 2) & ...\n"
     ]
    }
   ],
   "source": [
    "a = np.array([[[True, False, True],\n",
    "              [True, False, False]],\n",
    "             [[False, True, False],\n",
    "             [True, False, True]]])\n",
    "print('a:\\n', a)\n",
    "\n",
    "nonzero = np.nonzero(a)\n",
    "where = np.where(a)\n",
    "\n",
    "print('nonzero =', nonzero, '\\n', '→', '(0, 0, 0) & (0, 0, 2) & ...')\n",
    "print('where =', where, '\\n', '→', '(0, 0, 0) & (0, 0, 2) & ...')"
   ]
  },
  {
   "cell_type": "code",
   "execution_count": 37,
   "id": "5872141e",
   "metadata": {},
   "outputs": [
    {
     "name": "stdout",
     "output_type": "stream",
     "text": [
      "a:\n",
      " [[-1  0  0]\n",
      " [ 1  0 -2]\n",
      " [-1  2 -2]]\n",
      "u_nonzero =\n",
      " [-1  1 -2 -1  2 -2]\n",
      "u_where =\n",
      " [-1  1 -2 -1  2 -2]\n",
      "u_bool =\n",
      " [-1  1 -2 -1  2 -2]\n"
     ]
    }
   ],
   "source": [
    "a = np.random.randint(-2, 3, size=(3, 3))\n",
    "print('a:\\n', a)\n",
    "\n",
    "# 형태가 arr[indices0, indices1]와 동일\n",
    "u_nonzero = a[np.nonzero(a)]  # 정수 배열\n",
    "u_where = a[np.where(a)]  # 정수 배열\n",
    "u_bool = a[a != 0]  # 불리언 배열\n",
    "\n",
    "print('u_nonzero =\\n', u_nonzero)\n",
    "print('u_where =\\n', u_where)\n",
    "print('u_bool =\\n', u_bool)"
   ]
  },
  {
   "cell_type": "code",
   "execution_count": 38,
   "id": "edf0e47a",
   "metadata": {},
   "outputs": [
    {
     "name": "stdout",
     "output_type": "stream",
     "text": [
      "a:\n",
      " [[-2  1  2]\n",
      " [ 2 -1  2]\n",
      " [ 2  1  1]]\n",
      "u_nonzero =\n",
      " [1 2 2 2 2 1 1]\n",
      "u_where =\n",
      " [1 2 2 2 2 1 1]\n",
      "u_bool =\n",
      " [1 2 2 2 2 1 1]\n"
     ]
    }
   ],
   "source": [
    "a = np.random.randint(-2, 3, size=(3, 3))\n",
    "print('a:\\n', a)\n",
    "\n",
    "u_nonzero = a[np.nonzero(a > 0)]\n",
    "u_where = a[np.where(a > 0)]\n",
    "u_bool = a[a > 0]\n",
    "\n",
    "print('u_nonzero =\\n', u_nonzero)\n",
    "print('u_where =\\n', u_where)\n",
    "print('u_bool =\\n', u_bool)"
   ]
  }
 ],
 "metadata": {
  "kernelspec": {
   "display_name": "Python 3 (ipykernel)",
   "language": "python",
   "name": "python3"
  },
  "language_info": {
   "codemirror_mode": {
    "name": "ipython",
    "version": 3
   },
   "file_extension": ".py",
   "mimetype": "text/x-python",
   "name": "python",
   "nbconvert_exporter": "python",
   "pygments_lexer": "ipython3",
   "version": "3.10.9"
  }
 },
 "nbformat": 4,
 "nbformat_minor": 5
}
