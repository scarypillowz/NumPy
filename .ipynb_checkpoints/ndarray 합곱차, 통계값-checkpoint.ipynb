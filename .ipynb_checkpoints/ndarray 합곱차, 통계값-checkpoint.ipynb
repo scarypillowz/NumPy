{
 "cells": [
  {
   "cell_type": "markdown",
   "id": "e24bf1f4",
   "metadata": {},
   "source": [
    "# 넘파이 배열의 합곱차와 통계값"
   ]
  },
  {
   "cell_type": "code",
   "execution_count": 1,
   "id": "c95dde8f",
   "metadata": {},
   "outputs": [],
   "source": [
    "import numpy as np"
   ]
  },
  {
   "cell_type": "markdown",
   "id": "f866a080",
   "metadata": {},
   "source": [
    "## ✅ 합곱차"
   ]
  },
  {
   "cell_type": "markdown",
   "id": "01675865",
   "metadata": {},
   "source": [
    "### cumsum\n",
    "텐서의 연산 보다는 시각화할 때 주로 사용"
   ]
  },
  {
   "cell_type": "code",
   "execution_count": 2,
   "id": "ca25356f",
   "metadata": {},
   "outputs": [
    {
     "name": "stdout",
     "output_type": "stream",
     "text": [
      "a = [0 1 2 3 4]\n",
      "np.cumsum(a) = [ 0  1  3  6 10]\n"
     ]
    }
   ],
   "source": [
    "a = np.arange(5)\n",
    "print('a =', a)\n",
    "\n",
    "cumsum = np.cumsum(a)\n",
    "print('np.cumsum(a) =', cumsum)"
   ]
  },
  {
   "cell_type": "code",
   "execution_count": 3,
   "id": "be71b1a2",
   "metadata": {},
   "outputs": [
    {
     "name": "stdout",
     "output_type": "stream",
     "text": [
      "a =\n",
      " [[0 1 2]\n",
      " [3 4 5]\n",
      " [6 7 8]]\n",
      "\n",
      "np.cumsum(a) = [ 0  1  3  6 10 15 21 28 36]\n",
      "shape = (9,)\n"
     ]
    }
   ],
   "source": [
    "a = np.arange(9).reshape((3, 3))\n",
    "print('a =\\n', a)\n",
    "\n",
    "cumsum = np.cumsum(a)\n",
    "print('\\nnp.cumsum(a) =', cumsum)\n",
    "print('shape =', cumsum.shape)"
   ]
  },
  {
   "cell_type": "code",
   "execution_count": 4,
   "id": "19e180bc",
   "metadata": {},
   "outputs": [
    {
     "name": "stdout",
     "output_type": "stream",
     "text": [
      "a =\n",
      " [[ 0  1  2  3]\n",
      " [ 4  5  6  7]\n",
      " [ 8  9 10 11]]\n",
      "\n",
      "np.cumsum(a, axis=0) =\n",
      " [[ 0  1  2  3]\n",
      " [ 4  6  8 10]\n",
      " [12 15 18 21]]\n",
      "shape = (3, 4)\n"
     ]
    }
   ],
   "source": [
    "a = np.arange(12).reshape((3, -1))\n",
    "print('a =\\n', a)\n",
    "\n",
    "cumsum = np.cumsum(a, axis=0)\n",
    "print('\\nnp.cumsum(a, axis=0) =\\n', cumsum)\n",
    "print('shape =', cumsum.shape)"
   ]
  },
  {
   "cell_type": "code",
   "execution_count": 5,
   "id": "943878f4",
   "metadata": {},
   "outputs": [
    {
     "name": "stdout",
     "output_type": "stream",
     "text": [
      "a =\n",
      " [[ 0  1  2  3]\n",
      " [ 4  5  6  7]\n",
      " [ 8  9 10 11]]\n",
      "\n",
      "np.cumsum(a, axis=1) =\n",
      " [[ 0  1  3  6]\n",
      " [ 4  9 15 22]\n",
      " [ 8 17 27 38]]\n",
      "shape = (3, 4)\n"
     ]
    }
   ],
   "source": [
    "a = np.arange(12).reshape((3, -1))\n",
    "print('a =\\n', a)\n",
    "\n",
    "cumsum = np.cumsum(a, axis=1)\n",
    "print('\\nnp.cumsum(a, axis=1) =\\n', cumsum)\n",
    "print('shape =', cumsum.shape)"
   ]
  },
  {
   "cell_type": "markdown",
   "id": "bf9c4ea8",
   "metadata": {},
   "source": [
    "---"
   ]
  },
  {
   "cell_type": "code",
   "execution_count": 6,
   "id": "2a4d754d",
   "metadata": {},
   "outputs": [
    {
     "name": "stdout",
     "output_type": "stream",
     "text": [
      "a = [[[ 0  1  2  3]\n",
      "  [ 4  5  6  7]\n",
      "  [ 8  9 10 11]]\n",
      "\n",
      " [[12 13 14 15]\n",
      "  [16 17 18 19]\n",
      "  [20 21 22 23]]]\n",
      "\n",
      "np.cumsum(a)[::-1] =\n",
      " [276 253 231 210 190 171 153 136 120 105  91  78  66  55  45  36  28  21\n",
      "  15  10   6   3   1   0]\n"
     ]
    }
   ],
   "source": [
    "a = np.arange(2*3*4).reshape((2, 3, 4))\n",
    "print('a =', a)\n",
    "print('\\nnp.cumsum(a)[::-1] =\\n', np.cumsum(a)[::-1])"
   ]
  },
  {
   "cell_type": "code",
   "execution_count": 7,
   "id": "f3ca33d2",
   "metadata": {},
   "outputs": [
    {
     "name": "stdout",
     "output_type": "stream",
     "text": [
      "a =\n",
      " [[ 0  1  2  3]\n",
      " [ 4  5  6  7]\n",
      " [ 8  9 10 11]]\n",
      "\n",
      "np.cumsum(a, axis=0)[::-1, :] =\n",
      " [[12 15 18 21]\n",
      " [ 4  6  8 10]\n",
      " [ 0  1  2  3]]\n",
      "shape = (3, 4)\n"
     ]
    }
   ],
   "source": [
    "a = np.arange(12).reshape((3, -1))\n",
    "print('a =\\n', a)\n",
    "\n",
    "cumsum = np.cumsum(a, axis=0)[::-1, :]\n",
    "print('\\nnp.cumsum(a, axis=0)[::-1, :] =\\n', cumsum)\n",
    "print('shape =', cumsum.shape)"
   ]
  },
  {
   "cell_type": "code",
   "execution_count": 8,
   "id": "cc7f17e2",
   "metadata": {},
   "outputs": [
    {
     "name": "stdout",
     "output_type": "stream",
     "text": [
      "a =\n",
      " [[ 0  1  2  3]\n",
      " [ 4  5  6  7]\n",
      " [ 8  9 10 11]]\n",
      "\n",
      "np.cumsum(a, axis=1)[:, ::-1] =\n",
      " [[ 6  3  1  0]\n",
      " [22 15  9  4]\n",
      " [38 27 17  8]]\n",
      "shape = (3, 4)\n"
     ]
    }
   ],
   "source": [
    "a = np.arange(12).reshape((3, -1))\n",
    "print('a =\\n', a)\n",
    "\n",
    "cumsum = np.cumsum(a, axis=1)[:, ::-1]\n",
    "print('\\nnp.cumsum(a, axis=1)[:, ::-1] =\\n', cumsum)\n",
    "print('shape =', cumsum.shape)"
   ]
  },
  {
   "cell_type": "markdown",
   "id": "5d98f7a7",
   "metadata": {},
   "source": [
    "### prod, cumprod"
   ]
  },
  {
   "cell_type": "code",
   "execution_count": 9,
   "id": "e49d40e2",
   "metadata": {},
   "outputs": [
    {
     "name": "stdout",
     "output_type": "stream",
     "text": [
      "a = [1 2 3 4]\n",
      "np.prod(a) = 24\n",
      "np.cumprod(a) = [ 1  2  6 24]\n"
     ]
    }
   ],
   "source": [
    "a = np.arange(1, 5)\n",
    "print('a =', a)\n",
    "\n",
    "prod = np.prod(a)\n",
    "print('np.prod(a) =', prod)\n",
    "\n",
    "cumprod = np.cumprod(a)\n",
    "print('np.cumprod(a) =', cumprod)"
   ]
  },
  {
   "cell_type": "code",
   "execution_count": 10,
   "id": "df164f66",
   "metadata": {},
   "outputs": [
    {
     "name": "stdout",
     "output_type": "stream",
     "text": [
      "a = [1 2 3 4]\n",
      "np.prod(a) = 24\n",
      "np.cumprod(a)[::-1] = [24  6  2  1]\n"
     ]
    }
   ],
   "source": [
    "a = np.arange(1, 5)\n",
    "print('a =', a)\n",
    "\n",
    "prod = np.prod(a)\n",
    "print('np.prod(a) =', prod)\n",
    "\n",
    "cumprod = np.cumprod(a)[::-1]\n",
    "print('np.cumprod(a)[::-1] =', cumprod)"
   ]
  },
  {
   "cell_type": "code",
   "execution_count": 11,
   "id": "1569555e",
   "metadata": {},
   "outputs": [
    {
     "name": "stdout",
     "output_type": "stream",
     "text": [
      "a =\n",
      " [[ 1  2  3  4]\n",
      " [ 5  6  7  8]\n",
      " [ 9 10 11 12]]\n",
      "\n",
      "np.prod(a, axis=0) =\n",
      " [ 45 120 231 384]\n",
      "\n",
      "np.cumprod(a, axis=0) =\n",
      " [[  1   2   3   4]\n",
      " [  5  12  21  32]\n",
      " [ 45 120 231 384]]\n"
     ]
    }
   ],
   "source": [
    "a = np.arange(1, 13).reshape((3, 4))\n",
    "print('a =\\n', a)\n",
    "\n",
    "prod = np.prod(a, axis=0)\n",
    "print('\\nnp.prod(a, axis=0) =\\n', prod)\n",
    "\n",
    "cumprod = np.cumprod(a, axis=0)\n",
    "print('\\nnp.cumprod(a, axis=0) =\\n', cumprod)"
   ]
  },
  {
   "cell_type": "markdown",
   "id": "930c2da3",
   "metadata": {},
   "source": [
    "### diff\n",
    "- 길이가 하나 감소한다.\n",
    "- 미분식에서 사용 → f(n+1) - f(n)"
   ]
  },
  {
   "cell_type": "code",
   "execution_count": 12,
   "id": "52b0ef74",
   "metadata": {},
   "outputs": [
    {
     "name": "stdout",
     "output_type": "stream",
     "text": [
      "a = [2 3 2 7 4]\n",
      "np.diff(a) = [ 1 -1  5 -3]\n"
     ]
    }
   ],
   "source": [
    "a = np.random.randint(0, 10, (5, ))\n",
    "print('a =', a)\n",
    "\n",
    "diff = np.diff(a)\n",
    "print('np.diff(a) =', diff)"
   ]
  },
  {
   "cell_type": "code",
   "execution_count": 13,
   "id": "61a90ab8",
   "metadata": {},
   "outputs": [
    {
     "name": "stdout",
     "output_type": "stream",
     "text": [
      "a =\n",
      " [[3 3 1 9]\n",
      " [8 1 0 6]\n",
      " [0 8 2 3]\n",
      " [6 7 4 3]]\n",
      "\n",
      "np.diff(a, axis=0) =\n",
      " [[ 5 -2 -1 -3]\n",
      " [-8  7  2 -3]\n",
      " [ 6 -1  2  0]]\n"
     ]
    }
   ],
   "source": [
    "# 행이 하나 감소\n",
    "a = np.random.randint(0, 10, (4, 4))\n",
    "print('a =\\n', a)\n",
    "\n",
    "diff = np.diff(a, axis=0)\n",
    "print('\\nnp.diff(a, axis=0) =\\n', diff)"
   ]
  },
  {
   "cell_type": "code",
   "execution_count": 14,
   "id": "0044449e",
   "metadata": {},
   "outputs": [
    {
     "name": "stdout",
     "output_type": "stream",
     "text": [
      "a =\n",
      " [[1 4 0 5]\n",
      " [7 8 7 0]\n",
      " [3 7 8 2]\n",
      " [3 0 4 2]]\n",
      "\n",
      "np.diff(a, axis=1) =\n",
      " [[ 3 -4  5]\n",
      " [ 1 -1 -7]\n",
      " [ 4  1 -6]\n",
      " [-3  4 -2]]\n"
     ]
    }
   ],
   "source": [
    "# 열이 하나 감소\n",
    "a = np.random.randint(0, 10, (4, 4))\n",
    "print('a =\\n', a)\n",
    "\n",
    "diff = np.diff(a, axis=1)\n",
    "print('\\nnp.diff(a, axis=1) =\\n', diff)"
   ]
  },
  {
   "cell_type": "markdown",
   "id": "6b84e6bc",
   "metadata": {},
   "source": [
    "## ✅ 통계값"
   ]
  },
  {
   "cell_type": "markdown",
   "id": "7bdf8bcc",
   "metadata": {},
   "source": [
    "### mean\n",
    "평균의 사용 빈도는 높다."
   ]
  },
  {
   "cell_type": "code",
   "execution_count": 15,
   "id": "f5faf95c",
   "metadata": {},
   "outputs": [
    {
     "name": "stdout",
     "output_type": "stream",
     "text": [
      "a =\n",
      " [[2 3 0 3]\n",
      " [2 1 4 2]\n",
      " [1 4 1 4]]\n",
      "np.mean(a) = 2.25\n",
      "np.mean(a, axis=0) =\n",
      " [1.66666667 2.66666667 1.66666667 3.        ]\n",
      "np.mean(a, axis=1) =\n",
      " [2.   2.25 2.5 ]\n"
     ]
    }
   ],
   "source": [
    "a = np.random.randint(0, 5, (3, 4))\n",
    "print('a =\\n', a)\n",
    "\n",
    "mean = np.mean(a)\n",
    "print('np.mean(a) =', mean)\n",
    "\n",
    "mean2 = np.mean(a, axis=0)\n",
    "print('np.mean(a, axis=0) =\\n', mean2)\n",
    "\n",
    "mean3 = np.mean(a, axis=1)\n",
    "print('np.mean(a, axis=1) =\\n', mean3)"
   ]
  },
  {
   "cell_type": "markdown",
   "id": "a50edd9d",
   "metadata": {},
   "source": [
    "### median"
   ]
  },
  {
   "cell_type": "code",
   "execution_count": 16,
   "id": "5107e7f9",
   "metadata": {},
   "outputs": [
    {
     "name": "stdout",
     "output_type": "stream",
     "text": [
      "x = [0 1 2 3 4 5 6 7 8]\n",
      "np.median(x) = 4.0\n"
     ]
    }
   ],
   "source": [
    "# 홀수\n",
    "x = np.arange(9)\n",
    "print('x =', x)\n",
    "\n",
    "median = np.median(x)\n",
    "print('np.median(x) =', median)"
   ]
  },
  {
   "cell_type": "code",
   "execution_count": 17,
   "id": "9edce826",
   "metadata": {},
   "outputs": [
    {
     "name": "stdout",
     "output_type": "stream",
     "text": [
      "x = [0 1 2 3 4 5 6 7 8 9]\n",
      "np.median(x) = 4.5\n"
     ]
    }
   ],
   "source": [
    "# 짝수\n",
    "x = np.arange(10)\n",
    "print('x =', x)\n",
    "\n",
    "median = np.median(x)\n",
    "print('np.median(x) =', median)"
   ]
  },
  {
   "cell_type": "markdown",
   "id": "6d838d99",
   "metadata": {},
   "source": [
    "### var, std\n",
    "표준편차(std)의 사용 빈도는 높다."
   ]
  },
  {
   "cell_type": "code",
   "execution_count": 18,
   "id": "72ebb346",
   "metadata": {},
   "outputs": [
    {
     "name": "stdout",
     "output_type": "stream",
     "text": [
      "var = 22.852157356497713\n",
      "std = 4.780393012765552\n"
     ]
    }
   ],
   "source": [
    "scores = np.random.normal(\n",
    "    loc=10,\n",
    "    scale=5,\n",
    "    size=(100, )\n",
    ")\n",
    "\n",
    "var = scores.var()\n",
    "std = scores.std()\n",
    "\n",
    "print('var =', var)\n",
    "print('std =', std)"
   ]
  },
  {
   "cell_type": "markdown",
   "id": "1056421f",
   "metadata": {},
   "source": [
    "### 표준화"
   ]
  },
  {
   "cell_type": "code",
   "execution_count": 19,
   "id": "7495ca5e",
   "metadata": {},
   "outputs": [
    {
     "name": "stdout",
     "output_type": "stream",
     "text": [
      "평균 before 표준화 = [49.878464 58.657177 69.38364 ]\n",
      "표준편차 before 표준화 = [2.4627562 4.8753266 9.208575 ]\n",
      "\n",
      "평균 after 표준화 = [-2.3184716e-06 -3.3378601e-08 -1.0704994e-06]\n",
      "표준편차 after 표준화 = [0.9999999  1.         0.99999994]\n"
     ]
    }
   ],
   "source": [
    "means = [50, 60, 70]\n",
    "stds = [3, 5, 10]\n",
    "n_student, n_class = 100, 3\n",
    "\n",
    "scores = np.random.normal(\n",
    "    loc=means,\n",
    "    scale=stds,\n",
    "    size=(n_student, n_class)\n",
    ")\n",
    "scores = scores.astype(np.float32)\n",
    "\n",
    "means = scores.mean(axis=0)\n",
    "stds = scores.std(axis=0)\n",
    "\n",
    "print('평균 before 표준화 =', means)\n",
    "print('표준편차 before 표준화 =', stds)\n",
    "\n",
    "scores_std = (scores - means) / stds\n",
    "\n",
    "means_std = scores_std.mean(axis=0)\n",
    "stds_std = scores_std.std(axis=0)\n",
    "\n",
    "print('\\n평균 after 표준화 =', means_std)\n",
    "print('표준편차 after 표준화 =', stds_std)\n"
   ]
  },
  {
   "cell_type": "markdown",
   "id": "a53e5b4c",
   "metadata": {},
   "source": [
    "## ✅ 최대, 최소\n",
    "- 최대\n",
    "    - np.amax, ndarray.max / np.argmax, ndarray.argmax\n",
    "- 최소\n",
    "    - np.amin, ndarray.min / np.argmin, ndarray.argmin"
   ]
  },
  {
   "cell_type": "markdown",
   "id": "38cfcc05",
   "metadata": {},
   "source": [
    "### np.amax, np.argmax / np.amin, np.argmin"
   ]
  },
  {
   "cell_type": "code",
   "execution_count": 20,
   "id": "b0627a02",
   "metadata": {},
   "outputs": [
    {
     "name": "stdout",
     "output_type": "stream",
     "text": [
      "a = [53 47 37 63 37 72 61 60 13  1]\n",
      "max value:  72\n",
      "index of max value:  5\n"
     ]
    }
   ],
   "source": [
    "a = np.random.randint(0, 100, (10, ))\n",
    "\n",
    "M = np.amax(a)\n",
    "M_idx = np.argmax(a)\n",
    "\n",
    "print('a =', a)\n",
    "print('max value: ', M)\n",
    "print('index of max value: ', M_idx)"
   ]
  },
  {
   "cell_type": "code",
   "execution_count": 21,
   "id": "3728b65b",
   "metadata": {},
   "outputs": [
    {
     "name": "stdout",
     "output_type": "stream",
     "text": [
      "np.amax(scores, axis=0) = [59.835793 71.42659  90.923035]\n",
      "np.argmax(scores, axis=0) = [34  3  9]\n"
     ]
    }
   ],
   "source": [
    "means = [50, 60, 70]\n",
    "stds = [3, 5, 10]\n",
    "n_student, n_class = 100, 3\n",
    "\n",
    "scores = np.random.normal(\n",
    "    loc=means,\n",
    "    scale=stds,\n",
    "    size=(n_student, n_class)\n",
    ")\n",
    "scores = scores.astype(np.float32)\n",
    "\n",
    "scores_max = np.amax(scores, axis=0)\n",
    "print('np.amax(scores, axis=0) =', scores_max)\n",
    "\n",
    "scores_max_idx = np.argmax(scores, axis=0)\n",
    "print('np.argmax(scores, axis=0) =', scores_max_idx)"
   ]
  },
  {
   "cell_type": "markdown",
   "id": "af447bc4",
   "metadata": {},
   "source": [
    "### np.maximum, np.minimum\n",
    "Element-wise maximum/minimum of array elements."
   ]
  },
  {
   "cell_type": "code",
   "execution_count": 29,
   "id": "3bac7542",
   "metadata": {},
   "outputs": [
    {
     "name": "stdout",
     "output_type": "stream",
     "text": [
      "u = [7 1 2 8 5 4 1 9 3 0]\n",
      "v = [4 7 5 3 8 8 3 8 0 2]\n",
      "np.maximum(u, v) = [7 7 5 8 8 8 3 9 3 2]\n",
      "np.minimum(u, v) = [4 1 2 3 5 4 1 8 0 0]\n"
     ]
    }
   ],
   "source": [
    "# 두 배열 사이의 최대값과 최소값\n",
    "u = np.random.randint(0, 10, (10,))\n",
    "v = np.random.randint(0, 10, (10,))\n",
    "print('u =', u)\n",
    "print('v =', v)\n",
    "\n",
    "maximum = np.maximum(u, v)\n",
    "minimum = np.minimum(u, v)\n",
    "print('np.maximum(u, v) =', maximum)\n",
    "print('np.minimum(u, v) =', minimum)"
   ]
  },
  {
   "cell_type": "code",
   "execution_count": 31,
   "id": "f7abb124",
   "metadata": {},
   "outputs": [
    {
     "name": "stdout",
     "output_type": "stream",
     "text": [
      "u = [[0 7 9 6]\n",
      " [0 4 7 2]\n",
      " [8 1 7 8]]\n",
      "v = [[6 1 6 9]\n",
      " [5 8 3 6]\n",
      " [1 9 9 1]]\n",
      "\n",
      "np.maximum(u, v) =\n",
      " [[6 7 9 9]\n",
      " [5 8 7 6]\n",
      " [8 9 9 8]]\n",
      "np.minimum(u, v) =\n",
      " [[0 1 6 6]\n",
      " [0 4 3 2]\n",
      " [1 1 7 1]]\n"
     ]
    }
   ],
   "source": [
    "u = np.random.randint(0, 10, (3, 4))\n",
    "v = np.random.randint(0, 10, (3, 4))\n",
    "print('u =', u)\n",
    "print('v =', v)\n",
    "\n",
    "maximum = np.maximum(u, v)\n",
    "minimum = np.minimum(u, v)\n",
    "print('\\nnp.maximum(u, v) =\\n', maximum)\n",
    "print('np.minimum(u, v) =\\n', minimum)"
   ]
  },
  {
   "cell_type": "markdown",
   "id": "a7efba52",
   "metadata": {},
   "source": [
    "### min-max normalization"
   ]
  },
  {
   "cell_type": "code",
   "execution_count": 25,
   "id": "f5b5a1c0",
   "metadata": {},
   "outputs": [
    {
     "name": "stdout",
     "output_type": "stream",
     "text": [
      "np.amax(scores, axis=0) =\n",
      " [60.867695 74.462685 95.90086 ]\n",
      "np.amin(scores, axis=0) =\n",
      " [42.59566  49.210815 33.49443 ]\n",
      "\n",
      "np.amax(scores_mM_norm, axis=0) =\n",
      " [1. 1. 1.]\n",
      "np.amin(scores_mM_norm, axis=0) =\n",
      " [0. 0. 0.]\n"
     ]
    }
   ],
   "source": [
    "means = [50, 60, 70]\n",
    "stds = [3, 5, 10]\n",
    "n_student, n_class = 100, 3\n",
    "\n",
    "scores = np.random.normal(\n",
    "    loc=means,\n",
    "    scale=stds,\n",
    "    size=(n_student, n_class)\n",
    ")\n",
    "scores = scores.astype(np.float32)\n",
    "\n",
    "scores_max = np.amax(scores, axis=0)\n",
    "scores_min = np.amin(scores, axis=0)\n",
    "print('np.amax(scores, axis=0) =\\n', scores_max)\n",
    "print('np.amin(scores, axis=0) =\\n', scores_min)\n",
    "\n",
    "scores_mM_norm = (scores - scores_min) / (scores_max - scores_min)\n",
    "scores_max_norm = np.amax(scores_mM_norm, axis=0)\n",
    "scores_min_norm = np.amin(scores_mM_norm, axis=0)\n",
    "print('\\nnp.amax(scores_mM_norm, axis=0) =\\n', scores_max_norm)\n",
    "print('np.amin(scores_mM_norm, axis=0) =\\n', scores_min_norm)"
   ]
  }
 ],
 "metadata": {
  "kernelspec": {
   "display_name": "Python 3 (ipykernel)",
   "language": "python",
   "name": "python3"
  },
  "language_info": {
   "codemirror_mode": {
    "name": "ipython",
    "version": 3
   },
   "file_extension": ".py",
   "mimetype": "text/x-python",
   "name": "python",
   "nbconvert_exporter": "python",
   "pygments_lexer": "ipython3",
   "version": "3.10.9"
  }
 },
 "nbformat": 4,
 "nbformat_minor": 5
}
