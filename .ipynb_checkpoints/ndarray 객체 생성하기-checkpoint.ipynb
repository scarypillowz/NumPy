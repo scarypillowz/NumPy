{
 "cells": [
  {
   "cell_type": "markdown",
   "id": "032f03be",
   "metadata": {},
   "source": [
    "# 📦 넘파이 ndarray 객체 생성하기"
   ]
  },
  {
   "cell_type": "code",
   "execution_count": 1,
   "id": "dc9ed958",
   "metadata": {},
   "outputs": [],
   "source": [
    "import numpy as np"
   ]
  },
  {
   "cell_type": "markdown",
   "id": "3d998b2b",
   "metadata": {},
   "source": [
    "모든 넘파이 배열의 타입은 ndarray 객체다"
   ]
  },
  {
   "cell_type": "markdown",
   "id": "0f26888b",
   "metadata": {},
   "source": [
    "## TIP) 차원 이해하기\n",
    "- 어떤 배열의 shape이 (n, m)이라 가정해보자.\n",
    "- 이때 바깥 차원의 숫자부터 읽어야 한다. 다음과 같은 흐름을 이해해야 한다.\n",
    "    1. n개의 ndarray 객체가 있네?\n",
    "    2. 각 ndarray 객체는 총 m개가 있네?"
   ]
  },
  {
   "cell_type": "markdown",
   "id": "6f2b7716",
   "metadata": {},
   "source": [
    "## 1) 파이썬 리스트로 배열 만들기"
   ]
  },
  {
   "cell_type": "code",
   "execution_count": 2,
   "id": "717dd9d6",
   "metadata": {},
   "outputs": [
    {
     "name": "stdout",
     "output_type": "stream",
     "text": [
      "[1 2 3]\n",
      "(3,)\n",
      "<class 'numpy.ndarray'>\n"
     ]
    }
   ],
   "source": [
    "# 벡터\n",
    "vec_py = [1, 2, 3]\n",
    "vec_np = np.array(vec_py)\n",
    "\n",
    "print(vec_np)\n",
    "print(vec_np.shape)\n",
    "print(type(vec_np))"
   ]
  },
  {
   "cell_type": "code",
   "execution_count": 3,
   "id": "72b5b40c",
   "metadata": {},
   "outputs": [
    {
     "name": "stdout",
     "output_type": "stream",
     "text": [
      "[[1 2 3]\n",
      " [4 5 6]]\n",
      "(2, 3)\n",
      "<class 'numpy.ndarray'>\n"
     ]
    }
   ],
   "source": [
    "# 행렬\n",
    "mat_py = [[1, 2, 3],\n",
    "          [4, 5, 6]]\n",
    "mat_np = np.array(mat_py)\n",
    "\n",
    "print(mat_np)\n",
    "print(mat_np.shape)\n",
    "print(type(mat_np))"
   ]
  },
  {
   "cell_type": "code",
   "execution_count": 4,
   "id": "bd5b8af7",
   "metadata": {},
   "outputs": [
    {
     "name": "stdout",
     "output_type": "stream",
     "text": [
      "[[[ 1  2  3]\n",
      "  [ 4  5  6]]\n",
      "\n",
      " [[ 7  8  9]\n",
      "  [10 11 12]]]\n",
      "(2, 2, 3)\n",
      "<class 'numpy.ndarray'>\n"
     ]
    }
   ],
   "source": [
    "# 3차원\n",
    "tensor_py = [[[1, 2, 3],\n",
    "             [4, 5, 6]],\n",
    "            \n",
    "             [[7, 8, 9],\n",
    "             [10, 11, 12]]]\n",
    "tensor_np = np.array(tensor_py)\n",
    "\n",
    "print(tensor_np)\n",
    "print(tensor_np.shape)\n",
    "print(type(tensor_np))"
   ]
  },
  {
   "cell_type": "markdown",
   "id": "66b4b5e3",
   "metadata": {},
   "source": [
    "## 2) 특정 shape의 배열 만들기"
   ]
  },
  {
   "cell_type": "markdown",
   "id": "1c10636e",
   "metadata": {},
   "source": [
    "### np.zeros"
   ]
  },
  {
   "cell_type": "code",
   "execution_count": 5,
   "id": "6ded1b7a",
   "metadata": {},
   "outputs": [
    {
     "name": "stdout",
     "output_type": "stream",
     "text": [
      "[[0. 0. 0.]\n",
      " [0. 0. 0.]]\n"
     ]
    }
   ],
   "source": [
    "# M = np.zeros(shape=(2, 3))\n",
    "M = np.zeros((2, 3))\n",
    "print(M)"
   ]
  },
  {
   "cell_type": "code",
   "execution_count": 6,
   "id": "f187b6df",
   "metadata": {},
   "outputs": [
    {
     "data": {
      "text/plain": [
       "array([[0., 0., 0.],\n",
       "       [0., 0., 0.]])"
      ]
     },
     "execution_count": 6,
     "metadata": {},
     "output_type": "execute_result"
    }
   ],
   "source": [
    "np.zeros((2, 3))"
   ]
  },
  {
   "cell_type": "markdown",
   "id": "d66950fd",
   "metadata": {},
   "source": [
    "### np.ones"
   ]
  },
  {
   "cell_type": "code",
   "execution_count": 7,
   "id": "907161da",
   "metadata": {},
   "outputs": [
    {
     "name": "stdout",
     "output_type": "stream",
     "text": [
      "[[1. 1. 1.]\n",
      " [1. 1. 1.]]\n"
     ]
    }
   ],
   "source": [
    "# M = np.ones(shape=(2, 3))\n",
    "M = np.ones((2, 3))\n",
    "print(M)"
   ]
  },
  {
   "cell_type": "markdown",
   "id": "9dd5cd17",
   "metadata": {},
   "source": [
    "### np.full"
   ]
  },
  {
   "cell_type": "code",
   "execution_count": 8,
   "id": "0c9bad7e",
   "metadata": {},
   "outputs": [
    {
     "name": "stdout",
     "output_type": "stream",
     "text": [
      "[[7 7 7]\n",
      " [7 7 7]]\n"
     ]
    }
   ],
   "source": [
    "# M = np.full(shape=(2, 3), fill_value=7)\n",
    "M = np.full((2, 3), 7)\n",
    "print(M)"
   ]
  },
  {
   "cell_type": "markdown",
   "id": "e1604b5d",
   "metadata": {},
   "source": [
    "### np.empty\n",
    "특정 값으로 초기화 하는 것이 아니라 위치(공간)만 잡아놓고 값은 나중에 채운다."
   ]
  },
  {
   "cell_type": "code",
   "execution_count": 9,
   "id": "6fa0c68f",
   "metadata": {},
   "outputs": [
    {
     "name": "stdout",
     "output_type": "stream",
     "text": [
      "[[1. 1. 1.]\n",
      " [1. 1. 1.]]\n"
     ]
    }
   ],
   "source": [
    "# N = np.empty(shape=(2, 3))\n",
    "N = np.empty((2, 3))\n",
    "print(N)"
   ]
  },
  {
   "cell_type": "markdown",
   "id": "75bc0cb7",
   "metadata": {},
   "source": [
    "## 3) 정해진 간격과 개수의 배열 만들기"
   ]
  },
  {
   "cell_type": "markdown",
   "id": "c629fc5b",
   "metadata": {},
   "source": [
    "### np.arange\n",
    "- 처음은 포함하지만 마지막은 포함하지 않는다.\n",
    "- 구간, 간격에 중점을 둔다."
   ]
  },
  {
   "cell_type": "code",
   "execution_count": 10,
   "id": "677b4d76",
   "metadata": {},
   "outputs": [
    {
     "name": "stdout",
     "output_type": "stream",
     "text": [
      "[0 1 2 3 4 5 6 7 8 9]\n",
      "[2 3 4]\n",
      "[2 4 6 8]\n"
     ]
    }
   ],
   "source": [
    "print(np.arange(10))\n",
    "print(np.arange(2, 5))\n",
    "print(np.arange(2, 10, 2))"
   ]
  },
  {
   "cell_type": "code",
   "execution_count": 11,
   "id": "ee6f0b33",
   "metadata": {},
   "outputs": [
    {
     "name": "stdout",
     "output_type": "stream",
     "text": [
      "[ 0.  1.  2.  3.  4.  5.  6.  7.  8.  9. 10.]\n",
      "[1.5 2.5 3.5 4.5 5.5 6.5 7.5 8.5 9.5]\n",
      "[1.5 4.  6.5 9. ]\n"
     ]
    }
   ],
   "source": [
    "# 실수 입력 가능\n",
    "print(np.arange(10.5))\n",
    "print(np.arange(1.5, 10.5))\n",
    "print(np.arange(1.5, 10.5, 2.5))"
   ]
  },
  {
   "cell_type": "markdown",
   "id": "b1f4433b",
   "metadata": {},
   "source": [
    "### np.linspace\n",
    "- 처음과 마지막을 포함한다.\n",
    "- 개수에 중점을 둔다."
   ]
  },
  {
   "cell_type": "code",
   "execution_count": 12,
   "id": "bf530209",
   "metadata": {},
   "outputs": [
    {
     "name": "stdout",
     "output_type": "stream",
     "text": [
      "[0.   0.25 0.5  0.75 1.  ]\n",
      "[0.         0.11111111 0.22222222 0.33333333 0.44444444 0.55555556\n",
      " 0.66666667 0.77777778 0.88888889 1.        ]\n"
     ]
    }
   ],
   "source": [
    "print(np.linspace(0, 1, 5))\n",
    "print(np.linspace(0, 1, 10))"
   ]
  },
  {
   "cell_type": "code",
   "execution_count": 13,
   "id": "f6999d26",
   "metadata": {},
   "outputs": [
    {
     "name": "stdout",
     "output_type": "stream",
     "text": [
      "[[  1.    10.   100.  ]\n",
      " [  1.25  12.5  125.  ]\n",
      " [  1.5   15.   150.  ]\n",
      " [  1.75  17.5  175.  ]\n",
      " [  2.    20.   200.  ]]\n"
     ]
    }
   ],
   "source": [
    "print(np.linspace([1, 10, 100], [2, 20, 200], 5))"
   ]
  },
  {
   "cell_type": "markdown",
   "id": "f931d32f",
   "metadata": {},
   "source": [
    "## 4) 랜덤 배열 만들기"
   ]
  },
  {
   "cell_type": "markdown",
   "id": "05857c66",
   "metadata": {},
   "source": [
    "### 정규분포\n",
    "1. np.random.randn (표준정규분포)\n",
    "2. np.random.normal\n",
    "    - loc (평균), scale(표준편차)"
   ]
  },
  {
   "cell_type": "code",
   "execution_count": 14,
   "id": "a13b6446",
   "metadata": {},
   "outputs": [],
   "source": [
    "# np.random.randn(300)"
   ]
  },
  {
   "cell_type": "code",
   "execution_count": 15,
   "id": "e1ce9720",
   "metadata": {},
   "outputs": [],
   "source": [
    "# np.random.normal(\n",
    "#     loc=-2,\n",
    "#     scale=1,\n",
    "#     size=(100, )\n",
    "# )"
   ]
  },
  {
   "cell_type": "code",
   "execution_count": 16,
   "id": "26de1178",
   "metadata": {},
   "outputs": [],
   "source": [
    "# np.random.normal(\n",
    "#     loc=[-2, 0, 3],\n",
    "#     scale=[1, 2, 5],\n",
    "#     size=(200, 3)\n",
    "# )"
   ]
  },
  {
   "cell_type": "markdown",
   "id": "b98d98b1",
   "metadata": {},
   "source": [
    "### 균일분포\n",
    "1. np.random.rand\n",
    "    - [0, 1)\n",
    "2. np.random.uniform\n",
    "3. np.random.randint\n",
    "    - 처음은 포함 O, 마지막은 포함 X"
   ]
  },
  {
   "cell_type": "code",
   "execution_count": 17,
   "id": "0c120930",
   "metadata": {},
   "outputs": [],
   "source": [
    "# np.random.rand\n",
    "\n",
    "# print(np.random.rand(10))\n",
    "# print('================================================')\n",
    "# print(np.random.rand(2, 3, 4))"
   ]
  },
  {
   "cell_type": "code",
   "execution_count": 18,
   "id": "e76a843b",
   "metadata": {},
   "outputs": [],
   "source": [
    "# np.random.uniform\n",
    "\n",
    "# np.random.uniform(\n",
    "#     low=-10,\n",
    "#     high=10,\n",
    "#     size=(5, )\n",
    "# )"
   ]
  },
  {
   "cell_type": "code",
   "execution_count": 19,
   "id": "6fa07b0b",
   "metadata": {},
   "outputs": [],
   "source": [
    "# # np.random.randint\n",
    "# np.random.randint(\n",
    "#     low=0,\n",
    "#     high=10,\n",
    "#     size=(5, )\n",
    "# )"
   ]
  }
 ],
 "metadata": {
  "kernelspec": {
   "display_name": "Python 3 (ipykernel)",
   "language": "python",
   "name": "python3"
  },
  "language_info": {
   "codemirror_mode": {
    "name": "ipython",
    "version": 3
   },
   "file_extension": ".py",
   "mimetype": "text/x-python",
   "name": "python",
   "nbconvert_exporter": "python",
   "pygments_lexer": "ipython3",
   "version": "3.10.9"
  }
 },
 "nbformat": 4,
 "nbformat_minor": 5
}
