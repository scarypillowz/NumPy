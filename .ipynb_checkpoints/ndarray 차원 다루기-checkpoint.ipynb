{
 "cells": [
  {
   "cell_type": "markdown",
   "id": "b7af2a65",
   "metadata": {},
   "source": [
    "# 넘파이 배열의 차원"
   ]
  },
  {
   "cell_type": "code",
   "execution_count": 1,
   "id": "4b925669",
   "metadata": {},
   "outputs": [],
   "source": [
    "import numpy as np"
   ]
  },
  {
   "cell_type": "markdown",
   "id": "11b3b044",
   "metadata": {},
   "source": [
    "## ✅ 차원 추가하기\n",
    "- np.reshape 메서드보다 슬라이싱, expand_dims 메서드를 자주 사용한다."
   ]
  },
  {
   "cell_type": "markdown",
   "id": "f807b37f",
   "metadata": {},
   "source": [
    "### np.reshape\n",
    "- reshape 메서드는 차원 '추가' 보다는 '형태 변환'의 의미가 강하다."
   ]
  },
  {
   "cell_type": "code",
   "execution_count": 2,
   "id": "d6aea591",
   "metadata": {},
   "outputs": [
    {
     "name": "stdout",
     "output_type": "stream",
     "text": [
      "a = [0 1 2 3 4 5 6 7 8]\n",
      "b =\n",
      " [[0 1 2 3 4 5 6 7 8]]\n",
      "c =\n",
      " [[0]\n",
      " [1]\n",
      " [2]\n",
      " [3]\n",
      " [4]\n",
      " [5]\n",
      " [6]\n",
      " [7]\n",
      " [8]]\n"
     ]
    }
   ],
   "source": [
    "# reshape 메서드를 사용한 차원 추가\n",
    "a = np.arange(9)\n",
    "print('a =', a)\n",
    "\n",
    "b = a.reshape((1, -1))\n",
    "print('b =\\n', b)\n",
    "\n",
    "c = a.reshape((-1, 1))\n",
    "print('c =\\n', c)"
   ]
  },
  {
   "cell_type": "code",
   "execution_count": 3,
   "id": "f4152140",
   "metadata": {},
   "outputs": [
    {
     "name": "stdout",
     "output_type": "stream",
     "text": [
      "a shape: (100, 150)\n",
      "(1, *a.shape): (1, 100, 150)\n"
     ]
    }
   ],
   "source": [
    "# 튜플 unpacking\n",
    "a = np.random.randint(0, 5, size=(100, 150))\n",
    "print('a shape:', a.shape)\n",
    "\n",
    "print('(1, *a.shape):', (1, *a.shape))"
   ]
  },
  {
   "cell_type": "markdown",
   "id": "cf59d63c",
   "metadata": {},
   "source": [
    "### 슬라이싱\n",
    "... 기호를 많이 사용한다."
   ]
  },
  {
   "cell_type": "code",
   "execution_count": 4,
   "id": "36d6d3a8",
   "metadata": {},
   "outputs": [
    {
     "name": "stdout",
     "output_type": "stream",
     "text": [
      "a = [0 1 2 3 4 5 6 7 8]\n",
      "\n",
      "row_vec1 shape:(1, 9)\n",
      " [[0 1 2 3 4 5 6 7 8]]\n",
      "\n",
      "row_vec2 shape:(1, 9)\n",
      " [[0 1 2 3 4 5 6 7 8]]\n",
      "\n",
      "col_vec1 shape:(9, 1)\n",
      " [[0]\n",
      " [1]\n",
      " [2]\n",
      " [3]\n",
      " [4]\n",
      " [5]\n",
      " [6]\n",
      " [7]\n",
      " [8]]\n",
      "\n",
      "col_vec2 shape:(9, 1)\n",
      " [[0]\n",
      " [1]\n",
      " [2]\n",
      " [3]\n",
      " [4]\n",
      " [5]\n",
      " [6]\n",
      " [7]\n",
      " [8]]\n"
     ]
    }
   ],
   "source": [
    "# 2차원\n",
    "a = np.arange(9)\n",
    "print('a =', a)\n",
    "\n",
    "# None보다는 np.newaxis가 의미상 적절\n",
    "row_vec1 = a[np.newaxis, :]\n",
    "row_vec2 = a[None, :]\n",
    "print('\\nrow_vec1', 'shape:{}\\n'.format(row_vec1.shape), row_vec1)\n",
    "print('\\nrow_vec2', 'shape:{}\\n'.format(row_vec2.shape), row_vec2)\n",
    "\n",
    "col_vec1 = a[:, np.newaxis]\n",
    "col_vec2 = a[:, None]\n",
    "print('\\ncol_vec1', 'shape:{}\\n'.format(col_vec1.shape), col_vec1)\n",
    "print('\\ncol_vec2', 'shape:{}\\n'.format(col_vec2.shape), col_vec2)"
   ]
  },
  {
   "cell_type": "code",
   "execution_count": 5,
   "id": "b71e36b6",
   "metadata": {},
   "outputs": [
    {
     "name": "stdout",
     "output_type": "stream",
     "text": [
      "a = [0 1 2 3 4 5 6 7 8]\n",
      "\n",
      "row_vec shape:(1, 1, 9)\n",
      " [[[0 1 2 3 4 5 6 7 8]]]\n",
      "\n",
      "col_vec shape:(9, 1, 1)\n",
      " [[[0]]\n",
      "\n",
      " [[1]]\n",
      "\n",
      " [[2]]\n",
      "\n",
      " [[3]]\n",
      "\n",
      " [[4]]\n",
      "\n",
      " [[5]]\n",
      "\n",
      " [[6]]\n",
      "\n",
      " [[7]]\n",
      "\n",
      " [[8]]]\n"
     ]
    }
   ],
   "source": [
    "# 3차원\n",
    "a = np.arange(9)\n",
    "print('a =', a)\n",
    "\n",
    "row_vec = a[np.newaxis, np.newaxis, :]\n",
    "print('\\nrow_vec', 'shape:{}\\n'.format(row_vec.shape), row_vec)\n",
    "\n",
    "col_vec = a[:, np.newaxis, np.newaxis]\n",
    "print('\\ncol_vec', 'shape:{}\\n'.format(col_vec.shape), col_vec)"
   ]
  },
  {
   "cell_type": "code",
   "execution_count": 6,
   "id": "7193bba0",
   "metadata": {},
   "outputs": [
    {
     "name": "stdout",
     "output_type": "stream",
     "text": [
      "a =\n",
      " [[2 2 4 3]\n",
      " [4 2 2 0]\n",
      " [1 1 3 0]]\n",
      "\n",
      "b shape:(1, 3, 4)\n",
      " [[[2 2 4 3]\n",
      "  [4 2 2 0]\n",
      "  [1 1 3 0]]]\n",
      "\n",
      "c shape:(3, 4, 1)\n",
      " [[[2]\n",
      "  [2]\n",
      "  [4]\n",
      "  [3]]\n",
      "\n",
      " [[4]\n",
      "  [2]\n",
      "  [2]\n",
      "  [0]]\n",
      "\n",
      " [[1]\n",
      "  [1]\n",
      "  [3]\n",
      "  [0]]]\n"
     ]
    }
   ],
   "source": [
    "# ... 사용\n",
    "a = np.random.randint(0, 5, size=(3, 4))\n",
    "print('a =\\n', a)\n",
    "\n",
    "b = a[np.newaxis, ...]\n",
    "print('\\nb', 'shape:{}\\n'.format(b.shape), b)\n",
    "\n",
    "c = a[..., np.newaxis]\n",
    "print('\\nc', 'shape:{}\\n'.format(c.shape), c)"
   ]
  },
  {
   "cell_type": "markdown",
   "id": "66ae502d",
   "metadata": {},
   "source": [
    "### expand_dims"
   ]
  },
  {
   "cell_type": "code",
   "execution_count": 7,
   "id": "07b8f170",
   "metadata": {},
   "outputs": [
    {
     "name": "stdout",
     "output_type": "stream",
     "text": [
      "a = [0 1 2 3 4 5 6 7 8]\n",
      "b = shape: (1, 9)\n",
      " [[0 1 2 3 4 5 6 7 8]]\n",
      "c = shape: (9, 1)\n",
      " [[0]\n",
      " [1]\n",
      " [2]\n",
      " [3]\n",
      " [4]\n",
      " [5]\n",
      " [6]\n",
      " [7]\n",
      " [8]]\n"
     ]
    }
   ],
   "source": [
    "# 2차원\n",
    "a = np.arange(9)\n",
    "b = np.expand_dims(a, axis=0)\n",
    "c = np.expand_dims(a, axis=1)\n",
    "\n",
    "print('a =', a)\n",
    "print('b =', 'shape: {}\\n'.format(b.shape), b)\n",
    "print('c =', 'shape: {}\\n'.format(c.shape), c)"
   ]
  },
  {
   "cell_type": "code",
   "execution_count": 8,
   "id": "4f1a6dfc",
   "metadata": {},
   "outputs": [
    {
     "name": "stdout",
     "output_type": "stream",
     "text": [
      "a = [0 1 2 3 4 5 6 7 8]\n",
      "b = shape: (1, 1, 9)\n",
      " [[[0 1 2 3 4 5 6 7 8]]]\n",
      "c = shape: (1, 9, 1)\n",
      " [[[0]\n",
      "  [1]\n",
      "  [2]\n",
      "  [3]\n",
      "  [4]\n",
      "  [5]\n",
      "  [6]\n",
      "  [7]\n",
      "  [8]]]\n",
      "d = shape: (9, 1, 1)\n",
      " [[[0]]\n",
      "\n",
      " [[1]]\n",
      "\n",
      " [[2]]\n",
      "\n",
      " [[3]]\n",
      "\n",
      " [[4]]\n",
      "\n",
      " [[5]]\n",
      "\n",
      " [[6]]\n",
      "\n",
      " [[7]]\n",
      "\n",
      " [[8]]]\n"
     ]
    }
   ],
   "source": [
    "# 3차원\n",
    "a = np.arange(9)\n",
    "b = np.expand_dims(a, axis=(0, 1))\n",
    "c = np.expand_dims(a, axis=(0, 2))\n",
    "d = np.expand_dims(a, axis=(1, 2))\n",
    "\n",
    "print('a =', a)\n",
    "print('b =', 'shape: {}\\n'.format(b.shape), b)\n",
    "print('c =', 'shape: {}\\n'.format(c.shape), c)\n",
    "print('d =', 'shape: {}\\n'.format(d.shape), d)"
   ]
  },
  {
   "cell_type": "code",
   "execution_count": 9,
   "id": "5d725ccf",
   "metadata": {},
   "outputs": [
    {
     "name": "stdout",
     "output_type": "stream",
     "text": [
      "a =\n",
      " [[0 1 2]\n",
      " [3 4 5]\n",
      " [6 7 8]]\n",
      "b = shape: (1, 3, 3)\n",
      " [[[0 1 2]\n",
      "  [3 4 5]\n",
      "  [6 7 8]]]\n",
      "c = shape: (3, 1, 3)\n",
      " [[[0 1 2]]\n",
      "\n",
      " [[3 4 5]]\n",
      "\n",
      " [[6 7 8]]]\n",
      "d = shape: (3, 3, 1)\n",
      " [[[0]\n",
      "  [1]\n",
      "  [2]]\n",
      "\n",
      " [[3]\n",
      "  [4]\n",
      "  [5]]\n",
      "\n",
      " [[6]\n",
      "  [7]\n",
      "  [8]]]\n",
      "e = shape: (1, 3, 3, 1)\n",
      " [[[[0]\n",
      "   [1]\n",
      "   [2]]\n",
      "\n",
      "  [[3]\n",
      "   [4]\n",
      "   [5]]\n",
      "\n",
      "  [[6]\n",
      "   [7]\n",
      "   [8]]]]\n"
     ]
    }
   ],
   "source": [
    "a = np.arange(9).reshape((3, 3))\n",
    "print('a =\\n', a)\n",
    "\n",
    "b = np.expand_dims(a, axis=0)\n",
    "c = np.expand_dims(a, axis=1)\n",
    "d = np.expand_dims(a, axis=-1)\n",
    "e = np.expand_dims(a, axis=(0, -1))\n",
    "\n",
    "print('b =', 'shape: {}\\n'.format(b.shape), b)\n",
    "print('c =', 'shape: {}\\n'.format(c.shape), c)\n",
    "print('d =', 'shape: {}\\n'.format(d.shape), d)\n",
    "print('e =', 'shape: {}\\n'.format(e.shape), e)"
   ]
  },
  {
   "cell_type": "markdown",
   "id": "e408c51a",
   "metadata": {},
   "source": [
    "## ✅ 차원 제거하기"
   ]
  },
  {
   "cell_type": "markdown",
   "id": "82432205",
   "metadata": {},
   "source": [
    "### np.reshape"
   ]
  },
  {
   "cell_type": "code",
   "execution_count": 10,
   "id": "2e9df984",
   "metadata": {},
   "outputs": [
    {
     "name": "stdout",
     "output_type": "stream",
     "text": [
      "a =\n",
      " [[1.]\n",
      " [1.]\n",
      " [1.]\n",
      " [1.]\n",
      " [1.]\n",
      " [1.]\n",
      " [1.]\n",
      " [1.]\n",
      " [1.]\n",
      " [1.]]\n",
      "b =\n",
      " [1. 1. 1. 1. 1. 1. 1. 1. 1. 1.]\n",
      "c =\n",
      " [1. 1. 1. 1. 1. 1. 1. 1. 1. 1.]\n",
      "d =\n",
      " [1. 1. 1. 1. 1. 1. 1. 1. 1. 1.]\n"
     ]
    }
   ],
   "source": [
    "a = np.ones(shape=(10, 1))\n",
    "print('a =\\n', a)\n",
    "\n",
    "b = a.reshape((10, ))\n",
    "c = a.reshape((-1, ))\n",
    "d = a.flatten()\n",
    "print('b =\\n', b)\n",
    "print('c =\\n', c)\n",
    "print('d =\\n', d)"
   ]
  },
  {
   "cell_type": "code",
   "execution_count": 11,
   "id": "beddbb4f",
   "metadata": {},
   "outputs": [
    {
     "name": "stdout",
     "output_type": "stream",
     "text": [
      "a =\n",
      " [[[1. 1. 1. 1.]\n",
      "  [1. 1. 1. 1.]\n",
      "  [1. 1. 1. 1.]]]\n",
      "b =\n",
      " [[[1.]\n",
      "  [1.]\n",
      "  [1.]\n",
      "  [1.]]\n",
      "\n",
      " [[1.]\n",
      "  [1.]\n",
      "  [1.]\n",
      "  [1.]]\n",
      "\n",
      " [[1.]\n",
      "  [1.]\n",
      "  [1.]\n",
      "  [1.]]]\n",
      "c =\n",
      " [[1. 1. 1. 1.]\n",
      " [1. 1. 1. 1.]\n",
      " [1. 1. 1. 1.]]\n",
      "d =\n",
      " [[1. 1. 1. 1.]\n",
      " [1. 1. 1. 1.]\n",
      " [1. 1. 1. 1.]]\n"
     ]
    }
   ],
   "source": [
    "a = np.ones(shape=(1, 3, 4))\n",
    "b = np.ones(shape=(3, 4, 1))\n",
    "print('a =\\n', a)\n",
    "print('b =\\n', b)\n",
    "\n",
    "c = a.reshape(*a.shape[1:])\n",
    "d = b.reshape(*b.shape[:-1])\n",
    "print('c =\\n', c)\n",
    "print('d =\\n', d)"
   ]
  },
  {
   "cell_type": "markdown",
   "id": "54708bd2",
   "metadata": {},
   "source": [
    "### 슬라이싱\n",
    "인덱싱, 슬라이싱을 사용하면 차원이 하나 감소하는 특징을 이용한다."
   ]
  },
  {
   "cell_type": "code",
   "execution_count": 12,
   "id": "a30b3f0e",
   "metadata": {},
   "outputs": [
    {
     "name": "stdout",
     "output_type": "stream",
     "text": [
      "a =\n",
      " [[ 0  1  2  3]\n",
      " [ 4  5  6  7]\n",
      " [ 8  9 10 11]]\n",
      "\n",
      "a[1, :] shape=(4,)\n",
      " [4 5 6 7]\n",
      "\n",
      "a[:, 1] shape=(3,)\n",
      " [1 5 9]\n"
     ]
    }
   ],
   "source": [
    "a = np.arange(12).reshape((3, 4))\n",
    "print('a =\\n', a)\n",
    "\n",
    "row, col = a[1, :], a[:, 1]\n",
    "print('\\na[1, :]', 'shape={}\\n'.format(row.shape), row)\n",
    "print('\\na[:, 1]', 'shape={}\\n'.format(col.shape), col)"
   ]
  },
  {
   "cell_type": "code",
   "execution_count": 13,
   "id": "381cdaad",
   "metadata": {},
   "outputs": [
    {
     "name": "stdout",
     "output_type": "stream",
     "text": [
      "a =\n",
      " [[[1. 1. 1. 1.]\n",
      "  [1. 1. 1. 1.]\n",
      "  [1. 1. 1. 1.]]]\n",
      "b =\n",
      " [[[1.]\n",
      "  [1.]\n",
      "  [1.]\n",
      "  [1.]]\n",
      "\n",
      " [[1.]\n",
      "  [1.]\n",
      "  [1.]\n",
      "  [1.]]\n",
      "\n",
      " [[1.]\n",
      "  [1.]\n",
      "  [1.]\n",
      "  [1.]]]\n",
      "\n",
      "c =\n",
      " shape: (3, 4)\n",
      " [[1. 1. 1. 1.]\n",
      " [1. 1. 1. 1.]\n",
      " [1. 1. 1. 1.]]\n",
      "d =\n",
      " shape: (3, 4)\n",
      " [[1. 1. 1. 1.]\n",
      " [1. 1. 1. 1.]\n",
      " [1. 1. 1. 1.]]\n"
     ]
    }
   ],
   "source": [
    "a = np.ones(shape=(1, 3, 4))\n",
    "b = np.ones(shape=(3, 4, 1))\n",
    "print('a =\\n', a)\n",
    "print('b =\\n', b)\n",
    "\n",
    "c = a[0, ...]\n",
    "d = b[..., 0]\n",
    "print('\\nc =\\n', 'shape: {}\\n'.format(c.shape), c)\n",
    "print('d =\\n', 'shape: {}\\n'.format(d.shape), d)"
   ]
  },
  {
   "cell_type": "markdown",
   "id": "be7b0f97",
   "metadata": {},
   "source": [
    "### np.squeeze\n",
    "- 차원의 길이가 1인 차원을 제거한다.\n",
    "- 어떤 차원이 제거되는지 주석으로 명시해야 한다."
   ]
  },
  {
   "cell_type": "code",
   "execution_count": 14,
   "id": "86b3c5f1",
   "metadata": {},
   "outputs": [
    {
     "name": "stdout",
     "output_type": "stream",
     "text": [
      "a =\n",
      " [[[1. 1. 1. 1.]\n",
      "  [1. 1. 1. 1.]\n",
      "  [1. 1. 1. 1.]]]\n",
      "\n",
      "b =\n",
      " shape: (3, 4)\n",
      " [[1. 1. 1. 1.]\n",
      " [1. 1. 1. 1.]\n",
      " [1. 1. 1. 1.]]\n",
      "c =\n",
      " shape: (3, 4)\n",
      " [[1. 1. 1. 1.]\n",
      " [1. 1. 1. 1.]\n",
      " [1. 1. 1. 1.]]\n"
     ]
    }
   ],
   "source": [
    "a = np.ones(shape=(1, 3, 4))\n",
    "print('a =\\n', a)\n",
    "\n",
    "b = np.squeeze(a)\n",
    "c = a.squeeze()\n",
    "print('\\nb =\\n', 'shape: {}\\n'.format(b.shape), b)\n",
    "print('c =\\n', 'shape: {}\\n'.format(c.shape), c)"
   ]
  },
  {
   "cell_type": "code",
   "execution_count": 15,
   "id": "d6682d8c",
   "metadata": {},
   "outputs": [
    {
     "name": "stdout",
     "output_type": "stream",
     "text": [
      "a shape:  (1, 1, 4, 1, 3, 1)\n",
      "\n",
      "b =\n",
      " shape: (4, 3)\n",
      " [[1. 1. 1.]\n",
      " [1. 1. 1.]\n",
      " [1. 1. 1.]\n",
      " [1. 1. 1.]]\n",
      "c =\n",
      " shape: (4, 3)\n",
      " [[1. 1. 1.]\n",
      " [1. 1. 1.]\n",
      " [1. 1. 1.]\n",
      " [1. 1. 1.]]\n"
     ]
    }
   ],
   "source": [
    "a = np.ones(shape=(1, 1, 4, 1, 3, 1))\n",
    "print('a shape: ', a.shape)\n",
    "\n",
    "b = np.squeeze(a)\n",
    "c = a.squeeze()\n",
    "print('\\nb =\\n', 'shape: {}\\n'.format(b.shape), b)\n",
    "print('c =\\n', 'shape: {}\\n'.format(c.shape), c)"
   ]
  },
  {
   "cell_type": "markdown",
   "id": "b1ad1895",
   "metadata": {},
   "source": [
    "## ✅ 차원 바꾸기"
   ]
  },
  {
   "cell_type": "markdown",
   "id": "ef46ab4f",
   "metadata": {},
   "source": [
    "### np.swapaxes\n",
    "2개 차원의 위치를 맞바꾼다."
   ]
  },
  {
   "cell_type": "code",
   "execution_count": 16,
   "id": "872b65b1",
   "metadata": {},
   "outputs": [
    {
     "name": "stdout",
     "output_type": "stream",
     "text": [
      "a shape: (3, 4, 5, 6)\n",
      "\n",
      "b shape: (4, 3, 5, 6)\n",
      "c shape: (5, 4, 3, 6)\n",
      "d shape: (6, 4, 5, 3)\n"
     ]
    }
   ],
   "source": [
    "a = np.random.normal(size=(3, 4, 5, 6))\n",
    "print('a shape:', a.shape)\n",
    "\n",
    "b = np.swapaxes(a, 0, 1)\n",
    "print('\\nb shape:', b.shape)\n",
    "\n",
    "c = np.swapaxes(a, 0, 2)\n",
    "print('c shape:', c.shape)\n",
    "\n",
    "d = np.swapaxes(a, 0, 3)\n",
    "print('d shape:', d.shape)"
   ]
  },
  {
   "cell_type": "code",
   "execution_count": 17,
   "id": "4991f88a",
   "metadata": {},
   "outputs": [
    {
     "name": "stdout",
     "output_type": "stream",
     "text": [
      "a shape: (3, 200, 100)\n",
      "\n",
      "b shape: (100, 200, 3)\n"
     ]
    }
   ],
   "source": [
    "a = np.random.normal(size=(3, 200, 100))\n",
    "print('a shape:', a.shape)\n",
    "\n",
    "b = np.swapaxes(a, 0, -1)\n",
    "print('\\nb shape:', b.shape)"
   ]
  },
  {
   "cell_type": "markdown",
   "id": "cea55080",
   "metadata": {},
   "source": [
    "### np.moveaxis\n",
    "- 원하는 차원을 다른 차원 위치로 이동시킨다. (다른 차원은 앞으로 밀림)\n",
    "- swapaxes는 2개의 차원이 모두 이동하지만, moveaxis는 하나의 차원만 이동한다는 차이가 있다.\n",
    "- 자주 사용하지는 않는다."
   ]
  },
  {
   "cell_type": "code",
   "execution_count": 18,
   "id": "1c8fb3e8",
   "metadata": {},
   "outputs": [
    {
     "name": "stdout",
     "output_type": "stream",
     "text": [
      "a shape: (3, 4, 5, 6)\n",
      "\n",
      "b shape: (4, 3, 5, 6)\n",
      "c shape: (4, 5, 3, 6)\n",
      "d shape: (4, 5, 6, 3)\n"
     ]
    }
   ],
   "source": [
    "a = np.random.normal(size=(3, 4, 5, 6))\n",
    "print('a shape:', a.shape)\n",
    "\n",
    "b = np.moveaxis(a, 0, 1)\n",
    "print('\\nb shape:', b.shape)\n",
    "\n",
    "c = np.moveaxis(a, 0, 2)\n",
    "print('c shape:', c.shape)\n",
    "\n",
    "d = np.moveaxis(a, 0, -1)\n",
    "print('d shape:', d.shape)"
   ]
  },
  {
   "cell_type": "code",
   "execution_count": 19,
   "id": "894d80df",
   "metadata": {},
   "outputs": [
    {
     "name": "stdout",
     "output_type": "stream",
     "text": [
      "a shape: (3, 4, 5, 6)\n",
      "\n",
      "b shape: (4, 3, 5, 6)\n",
      "c shape: (3, 5, 4, 6)\n",
      "d shape: (3, 5, 6, 4)\n"
     ]
    }
   ],
   "source": [
    "a = np.random.normal(size=(3, 4, 5, 6))\n",
    "print('a shape:', a.shape)\n",
    "\n",
    "b = np.moveaxis(a, 1, 0)\n",
    "print('\\nb shape:', b.shape)\n",
    "\n",
    "c = np.moveaxis(a, 1, 2)\n",
    "print('c shape:', c.shape)\n",
    "\n",
    "d = np.moveaxis(a, 1, -1)\n",
    "print('d shape:', d.shape)"
   ]
  },
  {
   "cell_type": "markdown",
   "id": "5f04eb36",
   "metadata": {},
   "source": [
    "### np.transpose\n",
    "- np.transpose\n",
    "    - axes 인자 사용 가능. (특정 차원을 원하는 위치로 옮길 수 있다.)\n",
    "- ndarray.T\n",
    "    - 차원을 바꾸기만 하고 별도의 기능은 없다."
   ]
  },
  {
   "cell_type": "code",
   "execution_count": 20,
   "id": "42c33fc6",
   "metadata": {},
   "outputs": [
    {
     "name": "stdout",
     "output_type": "stream",
     "text": [
      "a shape: (3, 4)\n",
      "\n",
      "b shape: (4, 3)\n",
      "c shape: (4, 3)\n"
     ]
    }
   ],
   "source": [
    "a = np.random.normal(size=(3, 4))\n",
    "print('a shape:', a.shape)\n",
    "\n",
    "b = np.transpose(a)\n",
    "print('\\nb shape:', b.shape)\n",
    "\n",
    "c = a.T\n",
    "print('c shape:', c.shape)"
   ]
  },
  {
   "cell_type": "code",
   "execution_count": 21,
   "id": "6cb34535",
   "metadata": {},
   "outputs": [
    {
     "name": "stdout",
     "output_type": "stream",
     "text": [
      "a shape: (3, 4, 5, 6, 7)\n",
      "\n",
      "b shape: (7, 6, 5, 4, 3)\n",
      "c shape: (7, 6, 5, 4, 3)\n"
     ]
    }
   ],
   "source": [
    "a = np.random.normal(size=(3, 4, 5, 6, 7))\n",
    "print('a shape:', a.shape)\n",
    "\n",
    "b = np.transpose(a)\n",
    "print('\\nb shape:', b.shape)\n",
    "\n",
    "c = a.T\n",
    "print('c shape:', c.shape)"
   ]
  },
  {
   "cell_type": "code",
   "execution_count": 23,
   "id": "9f56307f",
   "metadata": {},
   "outputs": [
    {
     "name": "stdout",
     "output_type": "stream",
     "text": [
      "a shape: (3, 4, 5)\n",
      "\n",
      "b shape: (3, 4, 5)\n",
      "c shape: (4, 5, 3)\n",
      "d shape: (5, 3, 4)\n",
      "e shape: (5, 4, 3)\n"
     ]
    }
   ],
   "source": [
    "# np.transpose axes인자\n",
    "a = np.random.normal(size=(3, 4, 5))\n",
    "print('a shape:', a.shape)\n",
    "\n",
    "b = np.transpose(a, axes=(0, 1, 2))\n",
    "print('\\nb shape:', b.shape)\n",
    "\n",
    "c = np.transpose(a, axes=(1, 2, 0))\n",
    "print('c shape:', c.shape)\n",
    "\n",
    "d = np.transpose(a, axes=(2, 0, 1))\n",
    "print('d shape:', d.shape)\n",
    "\n",
    "e = np.transpose(a, axes=(2, 1, 0))\n",
    "print('e shape:', e.shape)"
   ]
  }
 ],
 "metadata": {
  "kernelspec": {
   "display_name": "Python 3 (ipykernel)",
   "language": "python",
   "name": "python3"
  },
  "language_info": {
   "codemirror_mode": {
    "name": "ipython",
    "version": 3
   },
   "file_extension": ".py",
   "mimetype": "text/x-python",
   "name": "python",
   "nbconvert_exporter": "python",
   "pygments_lexer": "ipython3",
   "version": "3.10.9"
  }
 },
 "nbformat": 4,
 "nbformat_minor": 5
}
