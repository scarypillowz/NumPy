{
 "cells": [
  {
   "cell_type": "markdown",
   "id": "e0fa5b3e",
   "metadata": {},
   "source": [
    "# 🍀 넘파이 ndarray 객체 라운딩, 정렬"
   ]
  },
  {
   "cell_type": "code",
   "execution_count": 1,
   "id": "db9124e8",
   "metadata": {},
   "outputs": [],
   "source": [
    "import numpy as np"
   ]
  },
  {
   "cell_type": "markdown",
   "id": "c3ac2346",
   "metadata": {},
   "source": [
    "## ✅ 라운딩\n",
    "- 데이터를 보기 좋게 출력할 때 주로 사용한다.\n",
    "- 연산 중에는 라운딩 보다는 truncate을 더 자주 사용한다."
   ]
  },
  {
   "cell_type": "markdown",
   "id": "0fcb1e6e",
   "metadata": {},
   "source": [
    "### np.around, np.round_, ndarray.round"
   ]
  },
  {
   "cell_type": "code",
   "execution_count": 48,
   "id": "96dca5f0",
   "metadata": {},
   "outputs": [
    {
     "name": "stdout",
     "output_type": "stream",
     "text": [
      "x = [-4.63448893 -3.6640049  -4.20992863  0.4298574  -0.14902338]\n",
      "\n",
      "소수점 둘째 자리까지 반올림: [-4.63 -3.66 -4.21  0.43 -0.15]\n",
      "소수점 둘째 자리까지 반올림: [-4.63 -3.66 -4.21  0.43 -0.15]\n",
      "소수점 둘째 자리까지 반올림: [-4.63 -3.66 -4.21  0.43 -0.15]\n"
     ]
    }
   ],
   "source": [
    "x = np.random.uniform(-5, 5, (5, ))\n",
    "print('x =', x)\n",
    "\n",
    "np_around = np.around(x, decimals=2)\n",
    "print('\\n소수점 둘째 자리까지 반올림:', np_around)\n",
    "\n",
    "np_round = np.round_(x, decimals=2)\n",
    "print('소수점 둘째 자리까지 반올림:', np_round)\n",
    "\n",
    "x_round = x.round(decimals=2)\n",
    "print('소수점 둘째 자리까지 반올림:', x_round)"
   ]
  },
  {
   "cell_type": "code",
   "execution_count": 49,
   "id": "64af1acf",
   "metadata": {},
   "outputs": [
    {
     "name": "stdout",
     "output_type": "stream",
     "text": [
      "평균(axis=0): [49.71435182 51.26917625 51.75912014 55.57267783 53.1721001 ]\n",
      "표준편차(axis=0): [27.73390949 28.01932176 28.29724233 26.74518404 29.17900363]\n",
      "\n",
      "평균(axis=0) 소수점 둘째 자리까지 반올림: [49.71 51.27 51.76 55.57 53.17]\n",
      "표준편차(axis=0) 소수점 둘째 자리까지 반올림: [27.73 28.02 28.3  26.75 29.18]\n"
     ]
    }
   ],
   "source": [
    "scores = np.random.uniform(0, 100, (100, 5))\n",
    "\n",
    "means = scores.mean(axis=0)\n",
    "stds = scores.std(axis=0)\n",
    "print('평균(axis=0):', means)\n",
    "print('표준편차(axis=0):', stds)\n",
    "\n",
    "print('\\n평균(axis=0) 소수점 둘째 자리까지 반올림:', means.round(2))\n",
    "print('표준편차(axis=0) 소수점 둘째 자리까지 반올림:', stds.round(2))"
   ]
  },
  {
   "cell_type": "markdown",
   "id": "7c5604a2",
   "metadata": {},
   "source": [
    "### np.ceil, np.floor"
   ]
  },
  {
   "cell_type": "code",
   "execution_count": 50,
   "id": "bc11c1e0",
   "metadata": {},
   "outputs": [
    {
     "name": "stdout",
     "output_type": "stream",
     "text": [
      "x = [-2.00884357  1.8069884  -4.58606967 -0.92602145 -1.79827853]\n",
      "\n",
      "올림: [-2.  2. -4. -0. -1.]\n",
      "내림: [-3.  1. -5. -1. -2.]\n"
     ]
    }
   ],
   "source": [
    "x = np.random.uniform(-5, 5, (5, ))\n",
    "print('x =', x)\n",
    "\n",
    "ceil = np.ceil(x)\n",
    "floor = np.floor(x)\n",
    "print('\\n올림:', ceil)\n",
    "print('내림:', floor)"
   ]
  },
  {
   "cell_type": "markdown",
   "id": "ce512d0c",
   "metadata": {},
   "source": [
    "### np.trunc"
   ]
  },
  {
   "cell_type": "code",
   "execution_count": 51,
   "id": "33555296",
   "metadata": {},
   "outputs": [
    {
     "name": "stdout",
     "output_type": "stream",
     "text": [
      "x = [-2.68853157  0.3005923  -3.21555829 -3.88809331  0.94475056]\n",
      "\n",
      "절삭: [-2.  0. -3. -3.  0.]\n"
     ]
    }
   ],
   "source": [
    "x = np.random.uniform(-5, 5, (5, ))\n",
    "print('x =', x)\n",
    "\n",
    "trunc = np.trunc(x)\n",
    "print('\\n절삭:', trunc)"
   ]
  },
  {
   "cell_type": "code",
   "execution_count": 53,
   "id": "c990b5e7",
   "metadata": {},
   "outputs": [
    {
     "name": "stdout",
     "output_type": "stream",
     "text": [
      "x = [-0.53942239 -0.18512171 -1.06627938 -1.38833356  1.82261277]\n",
      "\n",
      "np.where 메서드를 사용한 절삭: [-0. -0. -1. -1.  1.]\n"
     ]
    }
   ],
   "source": [
    "# ceil, floor\n",
    "x = np.random.uniform(-5, 5, (5, ))\n",
    "print('x =', x)\n",
    "\n",
    "trunc_where = np.where(x >= 0, np.floor(x), np.ceil(x))\n",
    "print('\\nnp.where 메서드를 사용한 절삭:', trunc_where)"
   ]
  },
  {
   "cell_type": "code",
   "execution_count": 54,
   "id": "4cff8a8d",
   "metadata": {},
   "outputs": [
    {
     "name": "stdout",
     "output_type": "stream",
     "text": [
      "x = [ 4.42522737 -1.87759473 -0.46330662  2.76970045 -4.80316838]\n",
      "\n",
      "소수점 첫째 자리까지만 남긴 결과: [ 4.4 -1.8 -0.4  2.7 -4.8]\n",
      "소수점 둘째 자리까지만 남긴 결과: [ 4.42 -1.87 -0.46  2.76 -4.8 ]\n"
     ]
    }
   ],
   "source": [
    "x = np.random.uniform(-5, 5, (5, ))\n",
    "print('x =', x)\n",
    "\n",
    "trunc = 0.1 * np.trunc(10*x)\n",
    "print('\\n소수점 첫째 자리까지만 남긴 결과:', trunc)\n",
    "\n",
    "trunc2 = 0.01 * np.trunc(100*x)\n",
    "print('소수점 둘째 자리까지만 남긴 결과:', trunc2)"
   ]
  },
  {
   "cell_type": "code",
   "execution_count": 8,
   "id": "01fbc08d",
   "metadata": {},
   "outputs": [
    {
     "name": "stdout",
     "output_type": "stream",
     "text": [
      "x = [ 3.89831561  1.8492261   2.14956895  1.97091291 -3.45363415]\n",
      "\n",
      "정수 부분:  [ 3.  1.  2.  1. -3.]\n",
      "소수 부분:  [ 0.89831561  0.8492261   0.14956895  0.97091291 -0.45363415]\n"
     ]
    }
   ],
   "source": [
    "# 정수와 소수 분리\n",
    "x = np.random.uniform(-5, 5, (5, ))\n",
    "print('x =', x)\n",
    "\n",
    "int_part = np.trunc(x)\n",
    "frac_part = x - int_part\n",
    "\n",
    "print('\\n정수 부분: ', int_part)\n",
    "print('소수 부분: ', frac_part)"
   ]
  },
  {
   "cell_type": "markdown",
   "id": "274b2415",
   "metadata": {},
   "source": [
    "## ✅ 정렬\n",
    "- 2가지 정렬 방식\n",
    "    1. 데이터에 대한 정렬 방식 (np.sort)\n",
    "    2. 인덱스에 대한 정렬 방식 (np.argsort)\n",
    "        - (정렬된 배열 원소의) 기존 배열에서의 인덱스"
   ]
  },
  {
   "cell_type": "markdown",
   "id": "9c66be2d",
   "metadata": {},
   "source": [
    "### 1차원 (벡터)"
   ]
  },
  {
   "cell_type": "code",
   "execution_count": null,
   "id": "7f56e36c",
   "metadata": {},
   "outputs": [],
   "source": [
    "# 디폴트는 오름차순\n",
    "x = np.random.randint(0, 100, (10, ))\n",
    "print('x =', x)\n",
    "\n",
    "sort = np.sort(x)\n",
    "print('\\n오름차순 정렬:', sort)\n",
    "\n",
    "argsort = np.argsort(x)\n",
    "print('오름차순 정렬(argsort):', argsort)\n",
    "\n",
    "print('argsort를 사용해서 정렬한 결과:', x[argsort])"
   ]
  },
  {
   "cell_type": "code",
   "execution_count": 61,
   "id": "d386f1a9",
   "metadata": {},
   "outputs": [
    {
     "name": "stdout",
     "output_type": "stream",
     "text": [
      "x = [ 9 72 34 90 17  0 53 74 18 78]\n",
      "\n",
      "내림차순 정렬: [90 78 74 72 53 34 18 17  9  0]\n"
     ]
    }
   ],
   "source": [
    "x = np.random.randint(0, 100, (10, ))\n",
    "print('x =', x)\n",
    "\n",
    "sort = np.sort(x)[::-1]\n",
    "print('\\n내림차순 정렬:', sort)"
   ]
  },
  {
   "cell_type": "code",
   "execution_count": 21,
   "id": "ea35cc00",
   "metadata": {},
   "outputs": [
    {
     "name": "stdout",
     "output_type": "stream",
     "text": [
      "pred:\n",
      " [0.31853593 0.01149958 0.17995092 0.31467816 0.1753354 ]\n",
      "\n",
      "top3_pred:\n",
      " [0.31853593 0.31467816 0.17995092]\n",
      "top3_indices:\n",
      " [0 3 2]\n",
      "top3 is as follows: [0.31853593 0.31467816 0.17995092]\n"
     ]
    }
   ],
   "source": [
    "# 예시\n",
    "pred = np.random.uniform(0, 100, (5, ))\n",
    "pred /= pred.sum()\n",
    "print('pred:\\n', pred)\n",
    "\n",
    "top3_pred = np.sort(pred)[::-1][:3]\n",
    "print('\\ntop3_pred:\\n', top3_pred)\n",
    "\n",
    "top3_indices = np.argsort(pred)[::-1][:3]\n",
    "print('top3_indices:\\n', top3_indices)\n",
    "\n",
    "print('top3 is as follows:', pred[top3_indices])"
   ]
  },
  {
   "cell_type": "markdown",
   "id": "523bbf4d",
   "metadata": {},
   "source": [
    "### 2차원 (행렬)"
   ]
  },
  {
   "cell_type": "code",
   "execution_count": 62,
   "id": "16ccd6e5",
   "metadata": {},
   "outputs": [
    {
     "name": "stdout",
     "output_type": "stream",
     "text": [
      "x =\n",
      " [[56  2 32 83 87]\n",
      " [84 89 66 51 26]\n",
      " [81  6 39 69 22]\n",
      " [51 40 99 32 53]]\n",
      "\n",
      "오름차순 정렬(axis=0):\n",
      " [[51  2 32 32 22]\n",
      " [56  6 39 51 26]\n",
      " [81 40 66 69 53]\n",
      " [84 89 99 83 87]]\n",
      "오름차순 정렬(axis=0; argsort):\n",
      " [[3 0 0 3 2]\n",
      " [0 2 2 1 1]\n",
      " [2 3 1 2 3]\n",
      " [1 1 3 0 0]]\n"
     ]
    }
   ],
   "source": [
    "x = np.random.randint(0, 100, (4, 5))\n",
    "print('x =\\n', x)\n",
    "\n",
    "sort = np.sort(x, axis=0)\n",
    "print('\\n오름차순 정렬(axis=0):\\n', sort)\n",
    "\n",
    "argsort = np.argsort(x, axis=0)\n",
    "print('오름차순 정렬(axis=0; argsort):\\n', argsort)"
   ]
  },
  {
   "cell_type": "code",
   "execution_count": 63,
   "id": "1c2b9601",
   "metadata": {},
   "outputs": [
    {
     "name": "stdout",
     "output_type": "stream",
     "text": [
      "x =\n",
      " [[87 65  7 40 12]\n",
      " [22 10 84  2 34]\n",
      " [90 20 11 24 87]\n",
      " [19 57 29 76 31]]\n",
      "\n",
      "내림차순 정렬(axis=0):\n",
      " [[90 65 84 76 87]\n",
      " [87 57 29 40 34]\n",
      " [22 20 11 24 31]\n",
      " [19 10  7  2 12]]\n",
      "내림차순 정렬(axis=0; argsort):\n",
      " [[2 0 1 3 2]\n",
      " [0 3 3 0 1]\n",
      " [1 2 2 2 3]\n",
      " [3 1 0 1 0]]\n"
     ]
    }
   ],
   "source": [
    "x = np.random.randint(0, 100, (4, 5))\n",
    "print('x =\\n', x)\n",
    "\n",
    "sort = np.sort(x, axis=0)[::-1, :]\n",
    "print('\\n내림차순 정렬(axis=0):\\n', sort)\n",
    "\n",
    "argsort = np.argsort(x, axis=0)[::-1, :]\n",
    "print('내림차순 정렬(axis=0; argsort):\\n', argsort)"
   ]
  },
  {
   "cell_type": "code",
   "execution_count": 70,
   "id": "53dad0f6",
   "metadata": {},
   "outputs": [
    {
     "name": "stdout",
     "output_type": "stream",
     "text": [
      "점수표 =\n",
      " [[42  0 26]\n",
      " [85 32  1]\n",
      " [24 39 53]\n",
      " [61 84 76]\n",
      " [ 3  0 47]]\n",
      "\n",
      "내림차순 정렬(axis=0):\n",
      " [[85 84 76]\n",
      " [61 39 53]\n",
      " [42 32 47]\n",
      " [24  0 26]\n",
      " [ 3  0  1]]\n",
      "내림차순 정렬(axis=0; argsort):\n",
      " [[1 3 3]\n",
      " [3 2 2]\n",
      " [0 1 4]\n",
      " [2 4 0]\n",
      " [4 0 1]]\n",
      "\n",
      "과목별 높은 점수:\n",
      " [[85 84 76]\n",
      " [61 39 53]]\n",
      "과목별 높은 점수를 받은 학생(인덱스):\n",
      " [[1 3 3]\n",
      " [3 2 2]]\n"
     ]
    }
   ],
   "source": [
    "# 예시 (과목 3개별 학생 5명의 시험 점수)\n",
    "scores = np.random.randint(0, 100, (5, 3))\n",
    "print('점수표 =\\n', scores)\n",
    "\n",
    "sort = np.sort(scores, axis=0)[::-1, :]\n",
    "print('\\n내림차순 정렬(axis=0):\\n', sort)\n",
    "\n",
    "argsort = np.argsort(scores, axis=0)[::-1, :]\n",
    "print('내림차순 정렬(axis=0; argsort):\\n', argsort)\n",
    "\n",
    "top2_scores = sort[:2, :]\n",
    "print('\\n과목별 높은 점수:\\n', top2_scores)\n",
    "top2_scores_idx = argsort[:2, :]\n",
    "print('과목별 높은 점수를 받은 학생(인덱스):\\n', top2_scores_idx)"
   ]
  },
  {
   "cell_type": "code",
   "execution_count": 68,
   "id": "346a7766",
   "metadata": {},
   "outputs": [
    {
     "name": "stdout",
     "output_type": "stream",
     "text": [
      "x =\n",
      " [[54 58 17 91 77]\n",
      " [41 48 57  1 45]\n",
      " [65 27 17 22 25]\n",
      " [ 8 51 68 72 66]]\n",
      "\n",
      "오름차순 정렬(axis=1):\n",
      " [[17 54 58 77 91]\n",
      " [ 1 41 45 48 57]\n",
      " [17 22 25 27 65]\n",
      " [ 8 51 66 68 72]]\n",
      "오름차순 정렬(axis=1; argsort):\n",
      " [[2 0 1 4 3]\n",
      " [3 0 4 1 2]\n",
      " [2 3 4 1 0]\n",
      " [0 1 4 2 3]]\n",
      "\n",
      "내림차순 정렬(axis=1):\n",
      " [[91 77 58 54 17]\n",
      " [57 48 45 41  1]\n",
      " [65 27 25 22 17]\n",
      " [72 68 66 51  8]]\n",
      "내림차순 정렬(axis=1; argsort):\n",
      " [[3 4 1 0 2]\n",
      " [2 1 4 0 3]\n",
      " [0 1 4 3 2]\n",
      " [3 2 4 1 0]]\n"
     ]
    }
   ],
   "source": [
    "x = np.random.randint(0, 100, (4, 5))\n",
    "print('x =\\n', x)\n",
    "\n",
    "sort_ascending = np.sort(x, axis=1)\n",
    "print('\\n오름차순 정렬(axis=1):\\n', sort_ascending)\n",
    "argsort_ascending = np.argsort(x, axis=1)\n",
    "print('오름차순 정렬(axis=1; argsort):\\n', argsort_ascending)\n",
    "\n",
    "sort_descending = np.sort(x, axis=1)[:, ::-1]\n",
    "print('\\n내림차순 정렬(axis=1):\\n', sort_descending)\n",
    "argsort_descending = np.argsort(x, axis=1)[:, ::-1]\n",
    "print('내림차순 정렬(axis=1; argsort):\\n', argsort_descending)"
   ]
  },
  {
   "cell_type": "code",
   "execution_count": 72,
   "id": "53cf9a55",
   "metadata": {},
   "outputs": [
    {
     "name": "stdout",
     "output_type": "stream",
     "text": [
      "점수표 =\n",
      " [[67 75 73]\n",
      " [61 89 95]\n",
      " [93 79 14]\n",
      " [99 90 86]\n",
      " [ 6 36 80]]\n",
      "\n",
      "오름차순 정렬(axis=1):\n",
      " [[67 73 75]\n",
      " [61 89 95]\n",
      " [14 79 93]\n",
      " [86 90 99]\n",
      " [ 6 36 80]]\n",
      "오름차순 정렬(axis=1; argsort):\n",
      " [[0 2 1]\n",
      " [0 1 2]\n",
      " [2 1 0]\n",
      " [2 1 0]\n",
      " [0 1 2]]\n",
      "\n",
      "학생별 가장 시험을 못 본 두 과목의 점수:\n",
      " [[67 73]\n",
      " [61 89]\n",
      " [14 79]\n",
      " [86 90]\n",
      " [ 6 36]]\n",
      "학생별 시험을 가장 못 본 두 과목(인덱스):\n",
      " [[0 2]\n",
      " [0 1]\n",
      " [2 1]\n",
      " [2 1]\n",
      " [0 1]]\n"
     ]
    }
   ],
   "source": [
    "# 예시 (과목 3개별 학생 5명의 시험 점수)\n",
    "scores = np.random.randint(0, 100, (5, 3))\n",
    "print('점수표 =\\n', scores)\n",
    "\n",
    "sort = np.sort(scores, axis=1)\n",
    "print('\\n오름차순 정렬(axis=1):\\n', sort)\n",
    "\n",
    "argsort = np.argsort(scores, axis=1)\n",
    "print('오름차순 정렬(axis=1; argsort):\\n', argsort)\n",
    "\n",
    "lowest_2subjects_per_stud = sort[:, :2]\n",
    "print('\\n학생별 가장 시험을 못 본 두 과목의 점수:\\n', lowest_2subjects_per_stud)\n",
    "\n",
    "lowest_2subjects_per_stud_idx = argsort[:, :2]\n",
    "print('학생별 시험을 가장 못 본 두 과목(인덱스):\\n', lowest_2subjects_per_stud_idx)"
   ]
  }
 ],
 "metadata": {
  "kernelspec": {
   "display_name": "Python 3 (ipykernel)",
   "language": "python",
   "name": "python3"
  },
  "language_info": {
   "codemirror_mode": {
    "name": "ipython",
    "version": 3
   },
   "file_extension": ".py",
   "mimetype": "text/x-python",
   "name": "python",
   "nbconvert_exporter": "python",
   "pygments_lexer": "ipython3",
   "version": "3.10.9"
  }
 },
 "nbformat": 4,
 "nbformat_minor": 5
}
