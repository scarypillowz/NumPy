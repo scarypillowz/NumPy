{
 "cells": [
  {
   "cell_type": "markdown",
   "id": "e0fa5b3e",
   "metadata": {},
   "source": [
    "# 넘파이 배열의 (반)올림/내림, 정렬"
   ]
  },
  {
   "cell_type": "code",
   "execution_count": 1,
   "id": "db9124e8",
   "metadata": {},
   "outputs": [],
   "source": [
    "import numpy as np"
   ]
  },
  {
   "cell_type": "markdown",
   "id": "c3ac2346",
   "metadata": {},
   "source": [
    "## ✅ 라운딩\n",
    "- 데이터를 보기 좋게 출력할 때 주로 사용한다.\n",
    "- 연산 중에는 라운딩 보다는 truncate을 더 자주 사용한다."
   ]
  },
  {
   "cell_type": "markdown",
   "id": "0fcb1e6e",
   "metadata": {},
   "source": [
    "### np.around, np.round_, ndarray.round"
   ]
  },
  {
   "cell_type": "code",
   "execution_count": 2,
   "id": "96dca5f0",
   "metadata": {},
   "outputs": [
    {
     "name": "stdout",
     "output_type": "stream",
     "text": [
      "x = [ 4.08062482 -1.02134143  1.14181548  4.84734524  0.56987377]\n",
      "\n",
      "소수점 둘째 자리까지 반올림: [ 4.08 -1.02  1.14  4.85  0.57]\n",
      "소수점 둘째 자리까지 반올림: [ 4.08 -1.02  1.14  4.85  0.57]\n",
      "소수점 둘째 자리까지 반올림: [ 4.08 -1.02  1.14  4.85  0.57]\n"
     ]
    }
   ],
   "source": [
    "x = np.random.uniform(-5, 5, (5, ))\n",
    "print('x =', x)\n",
    "\n",
    "np_around = np.around(x, decimals=2)\n",
    "print('\\n소수점 둘째 자리까지 반올림:', np_around)\n",
    "\n",
    "np_round = np.round_(x, decimals=2)\n",
    "print('소수점 둘째 자리까지 반올림:', np_round)\n",
    "\n",
    "x_round = x.round(decimals=2)\n",
    "print('소수점 둘째 자리까지 반올림:', x_round)"
   ]
  },
  {
   "cell_type": "code",
   "execution_count": 3,
   "id": "64af1acf",
   "metadata": {},
   "outputs": [
    {
     "name": "stdout",
     "output_type": "stream",
     "text": [
      "평균(axis=0): [50.07310455 50.66182387 49.86773246 52.2244294  43.17491559]\n",
      "표준편차(axis=0): [28.3292946  28.41898148 28.30939764 26.89909115 27.47645741]\n",
      "\n",
      "평균(axis=0) 소수점 둘째 자리까지 반올림: [50.07 50.66 49.87 52.22 43.17]\n",
      "표준편차(axis=0) 소수점 둘째 자리까지 반올림: [28.33 28.42 28.31 26.9  27.48]\n"
     ]
    }
   ],
   "source": [
    "scores = np.random.uniform(0, 100, (100, 5))\n",
    "\n",
    "means = scores.mean(axis=0)\n",
    "stds = scores.std(axis=0)\n",
    "print('평균(axis=0):', means)\n",
    "print('표준편차(axis=0):', stds)\n",
    "\n",
    "print('\\n평균(axis=0) 소수점 둘째 자리까지 반올림:', means.round(2))\n",
    "print('표준편차(axis=0) 소수점 둘째 자리까지 반올림:', stds.round(2))"
   ]
  },
  {
   "cell_type": "markdown",
   "id": "7c5604a2",
   "metadata": {},
   "source": [
    "### np.ceil, np.floor"
   ]
  },
  {
   "cell_type": "code",
   "execution_count": 4,
   "id": "bc11c1e0",
   "metadata": {},
   "outputs": [
    {
     "name": "stdout",
     "output_type": "stream",
     "text": [
      "x = [2.00651103 4.98124618 3.81190872 4.61711096 0.12876648]\n",
      "\n",
      "올림: [3. 5. 4. 5. 1.]\n",
      "내림: [2. 4. 3. 4. 0.]\n"
     ]
    }
   ],
   "source": [
    "x = np.random.uniform(-5, 5, (5, ))\n",
    "print('x =', x)\n",
    "\n",
    "ceil = np.ceil(x)\n",
    "floor = np.floor(x)\n",
    "print('\\n올림:', ceil)\n",
    "print('내림:', floor)"
   ]
  },
  {
   "cell_type": "markdown",
   "id": "ce512d0c",
   "metadata": {},
   "source": [
    "### np.trunc"
   ]
  },
  {
   "cell_type": "code",
   "execution_count": 5,
   "id": "33555296",
   "metadata": {},
   "outputs": [
    {
     "name": "stdout",
     "output_type": "stream",
     "text": [
      "x = [ 3.09862613  1.72348063  3.77810802 -0.65354404  0.70847888]\n",
      "\n",
      "절삭: [ 3.  1.  3. -0.  0.]\n"
     ]
    }
   ],
   "source": [
    "x = np.random.uniform(-5, 5, (5, ))\n",
    "print('x =', x)\n",
    "\n",
    "trunc = np.trunc(x)\n",
    "print('\\n절삭:', trunc)"
   ]
  },
  {
   "cell_type": "code",
   "execution_count": 6,
   "id": "c990b5e7",
   "metadata": {},
   "outputs": [
    {
     "name": "stdout",
     "output_type": "stream",
     "text": [
      "x = [-2.88671556 -3.04863403  3.82191026 -2.4257358  -4.74153067]\n",
      "\n",
      "np.where 메서드를 사용한 절삭: [-2. -3.  3. -2. -4.]\n"
     ]
    }
   ],
   "source": [
    "# ceil, floor\n",
    "x = np.random.uniform(-5, 5, (5, ))\n",
    "print('x =', x)\n",
    "\n",
    "trunc_where = np.where(x >= 0, np.floor(x), np.ceil(x))\n",
    "print('\\nnp.where 메서드를 사용한 절삭:', trunc_where)"
   ]
  },
  {
   "cell_type": "code",
   "execution_count": 7,
   "id": "4cff8a8d",
   "metadata": {},
   "outputs": [
    {
     "name": "stdout",
     "output_type": "stream",
     "text": [
      "x = [-2.97713745 -1.99431795 -4.49209765 -0.02043337 -1.10261682]\n",
      "\n",
      "소수점 첫째 자리까지만 남긴 결과: [-2.9 -1.9 -4.4 -0.  -1.1]\n",
      "소수점 둘째 자리까지만 남긴 결과: [-2.97 -1.99 -4.49 -0.02 -1.1 ]\n"
     ]
    }
   ],
   "source": [
    "x = np.random.uniform(-5, 5, (5, ))\n",
    "print('x =', x)\n",
    "\n",
    "trunc = 0.1 * np.trunc(10*x)\n",
    "print('\\n소수점 첫째 자리까지만 남긴 결과:', trunc)\n",
    "\n",
    "trunc2 = 0.01 * np.trunc(100*x)\n",
    "print('소수점 둘째 자리까지만 남긴 결과:', trunc2)"
   ]
  },
  {
   "cell_type": "code",
   "execution_count": 8,
   "id": "01fbc08d",
   "metadata": {},
   "outputs": [
    {
     "name": "stdout",
     "output_type": "stream",
     "text": [
      "x = [4.45705915 1.000912   1.42414618 3.19642889 0.18029428]\n",
      "\n",
      "정수 부분:  [4. 1. 1. 3. 0.]\n",
      "소수 부분:  [0.45705915 0.000912   0.42414618 0.19642889 0.18029428]\n"
     ]
    }
   ],
   "source": [
    "# 정수와 소수 분리\n",
    "x = np.random.uniform(-5, 5, (5, ))\n",
    "print('x =', x)\n",
    "\n",
    "int_part = np.trunc(x)\n",
    "frac_part = x - int_part\n",
    "\n",
    "print('\\n정수 부분: ', int_part)\n",
    "print('소수 부분: ', frac_part)"
   ]
  },
  {
   "cell_type": "markdown",
   "id": "274b2415",
   "metadata": {},
   "source": [
    "## ✅ 정렬\n",
    "- 2가지 정렬 방식\n",
    "    1. 데이터에 대한 정렬 방식 (np.sort)\n",
    "    2. 인덱스에 대한 정렬 방식 (np.argsort)\n",
    "        - (정렬된 배열 원소의) 기존 배열에서의 인덱스"
   ]
  },
  {
   "cell_type": "markdown",
   "id": "9c66be2d",
   "metadata": {},
   "source": [
    "### 1차원 (벡터)"
   ]
  },
  {
   "cell_type": "code",
   "execution_count": 9,
   "id": "7f56e36c",
   "metadata": {},
   "outputs": [
    {
     "name": "stdout",
     "output_type": "stream",
     "text": [
      "x = [49 94 77 85  1 96 27 26 41 82]\n",
      "\n",
      "오름차순 정렬: [ 1 26 27 41 49 77 82 85 94 96]\n",
      "오름차순 정렬(argsort): [4 7 6 8 0 2 9 3 1 5]\n",
      "argsort를 사용해서 정렬한 결과: [ 1 26 27 41 49 77 82 85 94 96]\n"
     ]
    }
   ],
   "source": [
    "# 디폴트는 오름차순\n",
    "x = np.random.randint(0, 100, (10, ))\n",
    "print('x =', x)\n",
    "\n",
    "sort = np.sort(x)\n",
    "print('\\n오름차순 정렬:', sort)\n",
    "\n",
    "argsort = np.argsort(x)\n",
    "print('오름차순 정렬(argsort):', argsort)\n",
    "\n",
    "print('argsort를 사용해서 정렬한 결과:', x[argsort])"
   ]
  },
  {
   "cell_type": "code",
   "execution_count": 10,
   "id": "d386f1a9",
   "metadata": {},
   "outputs": [
    {
     "name": "stdout",
     "output_type": "stream",
     "text": [
      "x = [67 15 46 58 21 62 57 21 36 21]\n",
      "\n",
      "내림차순 정렬: [67 62 58 57 46 36 21 21 21 15]\n"
     ]
    }
   ],
   "source": [
    "x = np.random.randint(0, 100, (10, ))\n",
    "print('x =', x)\n",
    "\n",
    "sort = np.sort(x)[::-1]\n",
    "print('\\n내림차순 정렬:', sort)"
   ]
  },
  {
   "cell_type": "code",
   "execution_count": 11,
   "id": "ea35cc00",
   "metadata": {},
   "outputs": [
    {
     "name": "stdout",
     "output_type": "stream",
     "text": [
      "pred:\n",
      " [0.23913355 0.34796672 0.32047448 0.01673948 0.07568576]\n",
      "\n",
      "top3_pred:\n",
      " [0.34796672 0.32047448 0.23913355]\n",
      "top3_indices:\n",
      " [1 2 0]\n",
      "top3 is as follows: [0.34796672 0.32047448 0.23913355]\n"
     ]
    }
   ],
   "source": [
    "# 예시\n",
    "pred = np.random.uniform(0, 100, (5, ))\n",
    "pred /= pred.sum()\n",
    "print('pred:\\n', pred)\n",
    "\n",
    "top3_pred = np.sort(pred)[::-1][:3]\n",
    "print('\\ntop3_pred:\\n', top3_pred)\n",
    "\n",
    "top3_indices = np.argsort(pred)[::-1][:3]\n",
    "print('top3_indices:\\n', top3_indices)\n",
    "\n",
    "print('top3 is as follows:', pred[top3_indices])"
   ]
  },
  {
   "cell_type": "markdown",
   "id": "523bbf4d",
   "metadata": {},
   "source": [
    "### 2차원 (행렬)"
   ]
  },
  {
   "cell_type": "code",
   "execution_count": 12,
   "id": "16ccd6e5",
   "metadata": {},
   "outputs": [
    {
     "name": "stdout",
     "output_type": "stream",
     "text": [
      "x =\n",
      " [[51 17 69 76 21]\n",
      " [ 0 92 60 59 21]\n",
      " [62 73 44  4 12]\n",
      " [87 77  5 40 99]]\n",
      "\n",
      "오름차순 정렬(axis=0):\n",
      " [[ 0 17  5  4 12]\n",
      " [51 73 44 40 21]\n",
      " [62 77 60 59 21]\n",
      " [87 92 69 76 99]]\n",
      "오름차순 정렬(axis=0; argsort):\n",
      " [[1 0 3 2 2]\n",
      " [0 2 2 3 0]\n",
      " [2 3 1 1 1]\n",
      " [3 1 0 0 3]]\n"
     ]
    }
   ],
   "source": [
    "x = np.random.randint(0, 100, (4, 5))\n",
    "print('x =\\n', x)\n",
    "\n",
    "sort = np.sort(x, axis=0)\n",
    "print('\\n오름차순 정렬(axis=0):\\n', sort)\n",
    "\n",
    "argsort = np.argsort(x, axis=0)\n",
    "print('오름차순 정렬(axis=0; argsort):\\n', argsort)"
   ]
  },
  {
   "cell_type": "code",
   "execution_count": 13,
   "id": "1c2b9601",
   "metadata": {},
   "outputs": [
    {
     "name": "stdout",
     "output_type": "stream",
     "text": [
      "x =\n",
      " [[56 38 57 99 41]\n",
      " [28 56 35 47  5]\n",
      " [46 78 86 47 67]\n",
      " [42 28  8  0 15]]\n",
      "\n",
      "내림차순 정렬(axis=0):\n",
      " [[56 78 86 99 67]\n",
      " [46 56 57 47 41]\n",
      " [42 38 35 47 15]\n",
      " [28 28  8  0  5]]\n",
      "내림차순 정렬(axis=0; argsort):\n",
      " [[0 2 2 0 2]\n",
      " [2 1 0 2 0]\n",
      " [3 0 1 1 3]\n",
      " [1 3 3 3 1]]\n"
     ]
    }
   ],
   "source": [
    "x = np.random.randint(0, 100, (4, 5))\n",
    "print('x =\\n', x)\n",
    "\n",
    "sort = np.sort(x, axis=0)[::-1, :]\n",
    "print('\\n내림차순 정렬(axis=0):\\n', sort)\n",
    "\n",
    "argsort = np.argsort(x, axis=0)[::-1, :]\n",
    "print('내림차순 정렬(axis=0; argsort):\\n', argsort)"
   ]
  },
  {
   "cell_type": "code",
   "execution_count": 14,
   "id": "53dad0f6",
   "metadata": {},
   "outputs": [
    {
     "name": "stdout",
     "output_type": "stream",
     "text": [
      "점수표 =\n",
      " [[63 93 10]\n",
      " [42 36 24]\n",
      " [33 35 98]\n",
      " [48 87 13]\n",
      " [75 16  0]]\n",
      "\n",
      "내림차순 정렬(axis=0):\n",
      " [[75 93 98]\n",
      " [63 87 24]\n",
      " [48 36 13]\n",
      " [42 35 10]\n",
      " [33 16  0]]\n",
      "내림차순 정렬(axis=0; argsort):\n",
      " [[4 0 2]\n",
      " [0 3 1]\n",
      " [3 1 3]\n",
      " [1 2 0]\n",
      " [2 4 4]]\n",
      "\n",
      "과목별 높은 점수:\n",
      " [[75 93 98]\n",
      " [63 87 24]]\n",
      "과목별 높은 점수를 받은 학생(인덱스):\n",
      " [[4 0 2]\n",
      " [0 3 1]]\n"
     ]
    }
   ],
   "source": [
    "# 예시 (과목 3개별 학생 5명의 시험 점수)\n",
    "scores = np.random.randint(0, 100, (5, 3))\n",
    "print('점수표 =\\n', scores)\n",
    "\n",
    "sort = np.sort(scores, axis=0)[::-1, :]\n",
    "print('\\n내림차순 정렬(axis=0):\\n', sort)\n",
    "\n",
    "argsort = np.argsort(scores, axis=0)[::-1, :]\n",
    "print('내림차순 정렬(axis=0; argsort):\\n', argsort)\n",
    "\n",
    "top2_scores = sort[:2, :]\n",
    "print('\\n과목별 높은 점수:\\n', top2_scores)\n",
    "top2_scores_idx = argsort[:2, :]\n",
    "print('과목별 높은 점수를 받은 학생(인덱스):\\n', top2_scores_idx)"
   ]
  },
  {
   "cell_type": "code",
   "execution_count": 15,
   "id": "346a7766",
   "metadata": {},
   "outputs": [
    {
     "name": "stdout",
     "output_type": "stream",
     "text": [
      "x =\n",
      " [[38 17 20 66  7]\n",
      " [57 99 81  7 74]\n",
      " [19 22 76 28 27]\n",
      " [80 26 42 30 99]]\n",
      "\n",
      "오름차순 정렬(axis=1):\n",
      " [[ 7 17 20 38 66]\n",
      " [ 7 57 74 81 99]\n",
      " [19 22 27 28 76]\n",
      " [26 30 42 80 99]]\n",
      "오름차순 정렬(axis=1; argsort):\n",
      " [[4 1 2 0 3]\n",
      " [3 0 4 2 1]\n",
      " [0 1 4 3 2]\n",
      " [1 3 2 0 4]]\n",
      "\n",
      "내림차순 정렬(axis=1):\n",
      " [[66 38 20 17  7]\n",
      " [99 81 74 57  7]\n",
      " [76 28 27 22 19]\n",
      " [99 80 42 30 26]]\n",
      "내림차순 정렬(axis=1; argsort):\n",
      " [[3 0 2 1 4]\n",
      " [1 2 4 0 3]\n",
      " [2 3 4 1 0]\n",
      " [4 0 2 3 1]]\n"
     ]
    }
   ],
   "source": [
    "x = np.random.randint(0, 100, (4, 5))\n",
    "print('x =\\n', x)\n",
    "\n",
    "sort_ascending = np.sort(x, axis=1)\n",
    "print('\\n오름차순 정렬(axis=1):\\n', sort_ascending)\n",
    "argsort_ascending = np.argsort(x, axis=1)\n",
    "print('오름차순 정렬(axis=1; argsort):\\n', argsort_ascending)\n",
    "\n",
    "sort_descending = np.sort(x, axis=1)[:, ::-1]\n",
    "print('\\n내림차순 정렬(axis=1):\\n', sort_descending)\n",
    "argsort_descending = np.argsort(x, axis=1)[:, ::-1]\n",
    "print('내림차순 정렬(axis=1; argsort):\\n', argsort_descending)"
   ]
  },
  {
   "cell_type": "code",
   "execution_count": 16,
   "id": "53cf9a55",
   "metadata": {},
   "outputs": [
    {
     "name": "stdout",
     "output_type": "stream",
     "text": [
      "점수표 =\n",
      " [[72 84 15]\n",
      " [72 90 38]\n",
      " [99 83 73]\n",
      " [ 5 58 21]\n",
      " [98  3 81]]\n",
      "\n",
      "오름차순 정렬(axis=1):\n",
      " [[15 72 84]\n",
      " [38 72 90]\n",
      " [73 83 99]\n",
      " [ 5 21 58]\n",
      " [ 3 81 98]]\n",
      "오름차순 정렬(axis=1; argsort):\n",
      " [[2 0 1]\n",
      " [2 0 1]\n",
      " [2 1 0]\n",
      " [0 2 1]\n",
      " [1 2 0]]\n",
      "\n",
      "학생별 가장 시험을 못 본 두 과목의 점수:\n",
      " [[15 72]\n",
      " [38 72]\n",
      " [73 83]\n",
      " [ 5 21]\n",
      " [ 3 81]]\n",
      "학생별 시험을 가장 못 본 두 과목(인덱스):\n",
      " [[2 0]\n",
      " [2 0]\n",
      " [2 1]\n",
      " [0 2]\n",
      " [1 2]]\n"
     ]
    }
   ],
   "source": [
    "# 예시 (과목 3개별 학생 5명의 시험 점수)\n",
    "scores = np.random.randint(0, 100, (5, 3))\n",
    "print('점수표 =\\n', scores)\n",
    "\n",
    "sort = np.sort(scores, axis=1)\n",
    "print('\\n오름차순 정렬(axis=1):\\n', sort)\n",
    "\n",
    "argsort = np.argsort(scores, axis=1)\n",
    "print('오름차순 정렬(axis=1; argsort):\\n', argsort)\n",
    "\n",
    "lowest_2subjects_per_stud = sort[:, :2]\n",
    "print('\\n학생별 가장 시험을 못 본 두 과목의 점수:\\n', lowest_2subjects_per_stud)\n",
    "\n",
    "lowest_2subjects_per_stud_idx = argsort[:, :2]\n",
    "print('학생별 시험을 가장 못 본 두 과목(인덱스):\\n', lowest_2subjects_per_stud_idx)"
   ]
  }
 ],
 "metadata": {
  "kernelspec": {
   "display_name": "Python 3 (ipykernel)",
   "language": "python",
   "name": "python3"
  },
  "language_info": {
   "codemirror_mode": {
    "name": "ipython",
    "version": 3
   },
   "file_extension": ".py",
   "mimetype": "text/x-python",
   "name": "python",
   "nbconvert_exporter": "python",
   "pygments_lexer": "ipython3",
   "version": "3.10.9"
  }
 },
 "nbformat": 4,
 "nbformat_minor": 5
}
