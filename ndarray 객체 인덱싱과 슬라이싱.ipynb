{
 "cells": [
  {
   "cell_type": "markdown",
   "id": "fd4e57cc",
   "metadata": {},
   "source": [
    "# 🔎 넘파이 ndarray 객체의 인덱싱과 슬라이싱"
   ]
  },
  {
   "cell_type": "code",
   "execution_count": 1,
   "id": "ea788d4a",
   "metadata": {},
   "outputs": [],
   "source": [
    "import numpy as np"
   ]
  },
  {
   "cell_type": "markdown",
   "id": "b365549a",
   "metadata": {},
   "source": [
    "## ✅ 1차원 배열\n",
    "- 파이썬 리스트와 같이 반복문 사용이 가능하다."
   ]
  },
  {
   "cell_type": "markdown",
   "id": "a3ed25c4",
   "metadata": {},
   "source": [
    "### 인덱싱\n",
    "파이썬 리스트 인덱싱 외에도 추가 기능을 제공한다."
   ]
  },
  {
   "cell_type": "code",
   "execution_count": 2,
   "id": "439079a4",
   "metadata": {},
   "outputs": [
    {
     "name": "stdout",
     "output_type": "stream",
     "text": [
      "a = [0 1 2 3 4 5 6 7 8 9]\n",
      "a[0] = 0\n",
      "a[3] = 3\n",
      "a[-1] = 9\n",
      "a[-3] = 7\n"
     ]
    }
   ],
   "source": [
    "a = np.arange(10)\n",
    "print('a =', a)\n",
    "\n",
    "print('a[0] =', a[0])\n",
    "print('a[3] =', a[3])\n",
    "\n",
    "print('a[-1] =', a[-1])\n",
    "print('a[-3] =', a[-3])"
   ]
  },
  {
   "cell_type": "code",
   "execution_count": 3,
   "id": "12aa0ca1",
   "metadata": {},
   "outputs": [
    {
     "name": "stdout",
     "output_type": "stream",
     "text": [
      "a = [0 1 2 3 4 5 6 7 8 9]\n",
      "a[[0, 3, 6, -1]] = [0 3 6 9]\n",
      "a[indices] = [0 3 6 9]\n",
      "a[a % 3 == 0] = [0 3 6 9]\n"
     ]
    }
   ],
   "source": [
    "# 추가 기능 1\n",
    "a = np.arange(10)\n",
    "indices = np.array([0, 3, 6, -1])\n",
    "print('a =', a)\n",
    "\n",
    "print('a[[0, 3, 6, -1]] =', a[[0, 3, 6, -1]])\n",
    "print('a[indices] =', a[indices])\n",
    "print('a[a % 3 == 0] =', a[a % 3 == 0])"
   ]
  },
  {
   "cell_type": "code",
   "execution_count": 4,
   "id": "a02223c6",
   "metadata": {},
   "outputs": [
    {
     "name": "stdout",
     "output_type": "stream",
     "text": [
      "a = [ 1  2  3  4  5  6  7  8  9 10]\n",
      "a = [ 0  0  0  0  0  6  7  8  9 10]\n",
      "b = [ 1  2  3  4  5  6  7  8  9 10]\n",
      "b = [999   2 999   4 999   6 999   8 999  10]\n"
     ]
    }
   ],
   "source": [
    "# 추가 기능 2 (for문 대체) ⭐️⭐️⭐️⭐️⭐️\n",
    "a = np.arange(1, 11)\n",
    "print('a =', a)\n",
    "\n",
    "a[:5] = 0\n",
    "print('a =', a)\n",
    "\n",
    "b = np.arange(1, 11)\n",
    "print('b =', b)\n",
    "\n",
    "b[::2] = 999\n",
    "print('b =', b)"
   ]
  },
  {
   "cell_type": "markdown",
   "id": "71ba9486",
   "metadata": {},
   "source": [
    "### 슬라이싱\n",
    "- arr[x, y)"
   ]
  },
  {
   "cell_type": "code",
   "execution_count": 5,
   "id": "e56bf21c",
   "metadata": {},
   "outputs": [
    {
     "name": "stdout",
     "output_type": "stream",
     "text": [
      "a = [0 1 2 3 4 5 6 7 8 9]\n",
      "a[0:3] = [0 1 2]\n",
      "a[5:-1] = [5 6 7 8]\n",
      "a[-2:] = [8 9]\n",
      "a[::3] = [0 3 6 9]\n",
      "a[7:2:-1] = [7 6 5 4 3]\n",
      "a[::-1] = [9 8 7 6 5 4 3 2 1 0]\n"
     ]
    }
   ],
   "source": [
    "a =np.arange(10)\n",
    "print('a =', a)\n",
    "\n",
    "print('a[0:3] =', a[0:3])\n",
    "print('a[5:-1] =', a[5:-1])\n",
    "print('a[-2:] =', a[-2:])  # last 2 elements\n",
    "\n",
    "print('a[::3] =', a[::3])\n",
    "print('a[7:2:-1] =', a[7:2:-1])\n",
    "print('a[::-1] =', a[::-1])"
   ]
  },
  {
   "cell_type": "markdown",
   "id": "40488220",
   "metadata": {},
   "source": [
    "## ✅ 2차원 배열\n",
    "- 바깥쪽 차원(outer dimension)부터 접근한다.\n",
    "- 서로 다른 차원은 콤마를 기준으로 인덱싱한다."
   ]
  },
  {
   "cell_type": "code",
   "execution_count": 6,
   "id": "3504c0cb",
   "metadata": {},
   "outputs": [
    {
     "name": "stdout",
     "output_type": "stream",
     "text": [
      "a=\n",
      " [[ 0  1  2  3]\n",
      " [ 4  5  6  7]\n",
      " [ 8  9 10 11]]\n",
      "a[0] = [0 1 2 3]\n",
      "a[2] = [ 8  9 10 11]\n"
     ]
    }
   ],
   "source": [
    "a = np.arange(12).reshape((3, 4))\n",
    "print('a=\\n', a)\n",
    "\n",
    "print('a[0] =', a[0])\n",
    "print('a[2] =', a[2])"
   ]
  },
  {
   "cell_type": "code",
   "execution_count": 7,
   "id": "04ad2aef",
   "metadata": {},
   "outputs": [
    {
     "name": "stdout",
     "output_type": "stream",
     "text": [
      "a=\n",
      " [[0 1 2]\n",
      " [3 4 5]\n",
      " [6 7 8]]\n",
      "0 1 2\n",
      "3 4 5\n",
      "6 7 8\n"
     ]
    }
   ],
   "source": [
    "a = np.arange(9).reshape((3, 3))\n",
    "print('a=\\n', a)\n",
    "\n",
    "print(a[0, 0], a[0, 1], a[0, 2])\n",
    "print(a[1, 0], a[1, 1], a[1, 2])\n",
    "print(a[2, 0], a[2, 1], a[2, 2])"
   ]
  },
  {
   "cell_type": "code",
   "execution_count": 8,
   "id": "1849cf48",
   "metadata": {},
   "outputs": [
    {
     "name": "stdout",
     "output_type": "stream",
     "text": [
      "a:\n",
      " [[ 0  1  2]\n",
      " [ 3  4  5]\n",
      " [ 6  7  8]\n",
      " [ 9 10 11]]\n",
      "a[0, 1:]=\n",
      " [1 2]\n",
      "a[1:, 0]=\n",
      " [3 6 9]\n",
      "a[:3, 1]=\n",
      " [1 4 7]\n",
      "a[1:3, 2]=\n",
      " [5 8]\n"
     ]
    }
   ],
   "source": [
    "a = np.arange(12).reshape((4, 3))\n",
    "print('a:\\n', a)\n",
    "\n",
    "print('a[0, 1:]=\\n', a[0, 1:])\n",
    "print('a[1:, 0]=\\n', a[1:, 0])\n",
    "print('a[:3, 1]=\\n', a[:3, 1])\n",
    "print('a[1:3, 2]=\\n', a[1:3, 2])"
   ]
  },
  {
   "cell_type": "code",
   "execution_count": 9,
   "id": "bba10d09",
   "metadata": {},
   "outputs": [
    {
     "name": "stdout",
     "output_type": "stream",
     "text": [
      "a:\n",
      " [[ 0  1  2  3]\n",
      " [ 4  5  6  7]\n",
      " [ 8  9 10 11]\n",
      " [12 13 14 15]]\n",
      "a[1:3, 1:3]=\n",
      " [[ 5  6]\n",
      " [ 9 10]]\n",
      "a[:2, :-1]=\n",
      " [[0 1 2]\n",
      " [4 5 6]]\n",
      "a[1:, -2:]\n",
      " [[ 6  7]\n",
      " [10 11]\n",
      " [14 15]]\n",
      "a[-2:, :-2]\n",
      " [[ 8  9]\n",
      " [12 13]]\n"
     ]
    }
   ],
   "source": [
    "a = np.arange(16).reshape((4, 4))\n",
    "print('a:\\n', a)\n",
    "\n",
    "print('a[1:3, 1:3]=\\n', a[1:3, 1:3])\n",
    "print('a[:2, :-1]=\\n', a[:2, :-1])\n",
    "print('a[1:, -2:]\\n', a[1:, -2:])\n",
    "print('a[-2:, :-2]\\n', a[-2:, :-2])"
   ]
  },
  {
   "cell_type": "code",
   "execution_count": 10,
   "id": "a9c0502a",
   "metadata": {},
   "outputs": [
    {
     "name": "stdout",
     "output_type": "stream",
     "text": [
      "a:\n",
      " [[0 1 2]\n",
      " [3 4 5]\n",
      " [6 7 8]]\n",
      "horizontal_flip:\n",
      " [[2 1 0]\n",
      " [5 4 3]\n",
      " [8 7 6]]\n",
      "vertical_flip:\n",
      " [[6 7 8]\n",
      " [3 4 5]\n",
      " [0 1 2]]\n",
      "rotation180\n",
      ": [[8 7 6]\n",
      " [5 4 3]\n",
      " [2 1 0]]\n"
     ]
    }
   ],
   "source": [
    "a = np.arange(9).reshape((3, 3))\n",
    "print('a:\\n', a)\n",
    "\n",
    "horizontal_flip = a[:, ::-1]\n",
    "print('horizontal_flip:\\n', horizontal_flip)\n",
    "\n",
    "vertical_flip = a[::-1, :]\n",
    "print('vertical_flip:\\n', vertical_flip)\n",
    "\n",
    "rotation180 = a[::-1, ::-1]\n",
    "print('rotation180\\n:', rotation180)"
   ]
  },
  {
   "cell_type": "code",
   "execution_count": 12,
   "id": "4012d764",
   "metadata": {},
   "outputs": [
    {
     "name": "stdout",
     "output_type": "stream",
     "text": [
      "a:\n",
      " [[ 0  1  2  3]\n",
      " [ 4  5  6  7]\n",
      " [ 8  9 10 11]\n",
      " [12 13 14 15]]\n",
      "a[0, :]:\n",
      " [0 1 2 3]\n",
      "a[0, ...]:\n",
      " [0 1 2 3]\n",
      "a[:, 1]:\n",
      " [ 1  5  9 13]\n",
      "a[..., 1]:\n",
      " [ 1  5  9 13]\n"
     ]
    }
   ],
   "source": [
    "# ... 기호의 의미\n",
    "a = np.arange(16).reshape((4, 4))\n",
    "print('a:\\n', a)\n",
    "\n",
    "print('a[0, :]:\\n', a[0, :])\n",
    "print('a[0, ...]:\\n', a[0, ...])\n",
    "\n",
    "print('a[:, 1]:\\n', a[:, 1])\n",
    "print('a[..., 1]:\\n', a[..., 1])"
   ]
  },
  {
   "cell_type": "code",
   "execution_count": null,
   "id": "551a7fd2",
   "metadata": {},
   "outputs": [],
   "source": []
  }
 ],
 "metadata": {
  "kernelspec": {
   "display_name": "Python 3 (ipykernel)",
   "language": "python",
   "name": "python3"
  },
  "language_info": {
   "codemirror_mode": {
    "name": "ipython",
    "version": 3
   },
   "file_extension": ".py",
   "mimetype": "text/x-python",
   "name": "python",
   "nbconvert_exporter": "python",
   "pygments_lexer": "ipython3",
   "version": "3.10.9"
  }
 },
 "nbformat": 4,
 "nbformat_minor": 5
}
